{
 "cells": [
  {
   "cell_type": "code",
   "execution_count": 3,
   "id": "e3efdfd6-ff36-4b0e-9d4f-3e2b4ada70c5",
   "metadata": {},
   "outputs": [
    {
     "name": "stdout",
     "output_type": "stream",
     "text": [
      "8\n"
     ]
    }
   ],
   "source": [
    "print(3 + 5)"
   ]
  },
  {
   "cell_type": "code",
   "execution_count": 4,
   "id": "9a7a091c-dfd0-4d66-9a16-00a2f54e2388",
   "metadata": {},
   "outputs": [
    {
     "name": "stdout",
     "output_type": "stream",
     "text": [
      "800\n"
     ]
    }
   ],
   "source": [
    "print(10*10*8)"
   ]
  },
  {
   "cell_type": "code",
   "execution_count": 13,
   "id": "31389908-e4a6-4fb7-be85-7fe30f17ca2e",
   "metadata": {},
   "outputs": [
    {
     "name": "stdout",
     "output_type": "stream",
     "text": [
      "160\n"
     ]
    }
   ],
   "source": [
    "print(20 * 8) #행단위 명령어 : 한줄 명령어"
   ]
  },
  {
   "cell_type": "code",
   "execution_count": 10,
   "id": "be93b3a5-da49-411a-b349-61e787b09020",
   "metadata": {},
   "outputs": [
    {
     "name": "stdout",
     "output_type": "stream",
     "text": [
      "10\n"
     ]
    }
   ],
   "source": [
    "i = 10; print(i) #여러개의 명령어를 한줄에 작성할때는 ;를 사용해서 명령어를 구분한다"
   ]
  },
  {
   "cell_type": "code",
   "execution_count": 20,
   "id": "a41b91a4-1039-4f8e-af1b-2fee96392ebe",
   "metadata": {},
   "outputs": [
    {
     "name": "stdout",
     "output_type": "stream",
     "text": [
      "i가 크다\n"
     ]
    }
   ],
   "source": [
    "if 10 <= i:   \n",
    "    print(\"i가 크다\") #파이썬은 들여쓰기 안하면 에러뜸"
   ]
  },
  {
   "cell_type": "code",
   "execution_count": 23,
   "id": "a4afccca-340d-4ce7-af6e-1d12c113b661",
   "metadata": {},
   "outputs": [
    {
     "name": "stdout",
     "output_type": "stream",
     "text": [
      "10\n"
     ]
    }
   ],
   "source": [
    "if i >= 10:\n",
    "    print(i)"
   ]
  },
  {
   "cell_type": "code",
   "execution_count": 31,
   "id": "b291061a-14b0-4269-86c1-d1392ae8495a",
   "metadata": {},
   "outputs": [
    {
     "name": "stdout",
     "output_type": "stream",
     "text": [
      "10\n",
      "10\n",
      "20\n",
      "50\n",
      "10.5\n",
      "10.5\n",
      "집가고싶다\n"
     ]
    }
   ],
   "source": [
    "##2.자료형\n",
    "## 기본자료형 (리터럴): 자연수 : 정수 리터럴\n",
    "##                              실수 리터럴\n",
    "#                      자연어 : 영어, 중국어, 한국어...\n",
    "#                               문자 리터럴\n",
    "print(10)\n",
    "i = 10 #정수리터럴을 가진 변수 i\n",
    "print(i)\n",
    "i=20\n",
    "print(i)\n",
    "j=30 #정수 리터널 변수\n",
    "print(i+j)\n",
    "f=10.5 #실수리터널 변수\n",
    "print(f)\n",
    "j=10.5 #파이썬은 자료형이 없어서 아무렇게나 수정 가능\n",
    "print(j)\n",
    "j=\"집가고싶다\"\n",
    "print(j)"
   ]
  },
  {
   "cell_type": "code",
   "execution_count": 37,
   "id": "f8fb69e9-cffc-4459-b493-0818758c6030",
   "metadata": {},
   "outputs": [
    {
     "name": "stdout",
     "output_type": "stream",
     "text": [
      "30\n",
      "-10\n",
      "200\n",
      "0.5\n",
      "10\n",
      "3.3333333333333335\n",
      "3\n",
      "1000\n"
     ]
    }
   ],
   "source": [
    "#숫자연산자\n",
    "i=10\n",
    "j=20\n",
    "print(i+j)\n",
    "print(i-j)\n",
    "print(i*j)\n",
    "print(i/j)\n",
    "print(i%j) #나머지연산자\n",
    "print(10 / 3) # 3.33333333\n",
    "print(10 // 3) # 3(몫 연산자)\n",
    "print(10 ** 3) # 100(제곱승 연산자)"
   ]
  },
  {
   "cell_type": "code",
   "execution_count": 50,
   "id": "c3cb48ee-76c6-44af-b5e0-7320f85fb8dd",
   "metadata": {},
   "outputs": [
    {
     "name": "stdout",
     "output_type": "stream",
     "text": [
      "10\n",
      "rhee\n",
      "곽\n",
      "20\n",
      "1010\n",
      "곽곽곽\n",
      "==============================\n",
      "제목\n",
      "==============================\n"
     ]
    }
   ],
   "source": [
    "###문자 리터널 : 파이썬에선 문자나 문자열이나 같이 취급한다\n",
    "###            : \"\", '' : 문자로 취급\n",
    "곽민우 = \"rhee\" #문자리터널과 변수를 구분하기 위해서 문자열에 \"\"을 주기로함\n",
    "#10 = \"곽민우\" 숫자는 변수로 사용 못함\n",
    "i=10\n",
    "print(i)\n",
    "print(곽민우)\n",
    "곽민우 = '곽' #''도 사용가능\n",
    "print(곽민우)\n",
    "str1 = 10 #정수리터럴\n",
    "str1 = '10' #문자리터럴\n",
    "print(10 + 10) #정수 + 정수\n",
    "print ('10' + \"10\") #문자 + 문자\n",
    "#print('10' + 10) #문자 + 정수 - 에러뜸\n",
    "print('곽' * 3) #반복연산자\n",
    "print('=' * 30)\n",
    "print('제목')\n",
    "print('=' * 30)"
   ]
  },
  {
   "cell_type": "code",
   "execution_count": 63,
   "id": "17cd007c-28c8-4a75-aac1-3f3928a09a58",
   "metadata": {},
   "outputs": [
    {
     "name": "stdout",
     "output_type": "stream",
     "text": [
      "Life is too short, You need phtyon\n",
      "Life is too short, You need phtyon\n",
      "Life's too short, You need phtyon\n",
      "Life's too short, You need phtyon\n",
      "Life is too short, \"You need\" phtyon\n",
      "Life is too short, \"You need\" phtyon\n",
      "Life's too short, \"You need\" phtyon\n",
      "\n",
      "\n",
      "\tLife is too short, You need phtyon\n",
      "Life is too short, \n",
      "You need phtyon\n"
     ]
    }
   ],
   "source": [
    "print('Life is too short, You need phtyon')\n",
    "print(\"Life is too short, You need phtyon\")\n",
    "print('Life\\'s too short, You need phtyon') #''사이에 '가 들어가도 \\(역슬래시)넣으면 사용 가능\n",
    "                                            # \\(escape) : 탈출시키다\n",
    "print(\"Life's too short, You need phtyon\")\n",
    "print(\"Life is too short, \\\"You need\\\" phtyon\")\n",
    "print('Life is too short, \"You need\" phtyon')\n",
    "####강조할일이 있다면 \"\", '' 를 적당히 섞어쓰자####\n",
    "print('Life\\'s too short, \"You need\" phtyon') #어쩔수 없이 둘다 써야되면 \\사용\n",
    "\n",
    "print('\\n')\n",
    "\n",
    "print('\\tLife is too short, You need phtyon') #\\t : tap\n",
    "print('Life is too short, \\nYou need phtyon') #\\n : 줄바꿈"
   ]
  },
  {
   "cell_type": "code",
   "execution_count": 67,
   "id": "0fa02a77-5a2b-4a05-9ead-dc0424979e08",
   "metadata": {},
   "outputs": [
    {
     "name": "stdout",
     "output_type": "stream",
     "text": [
      "Life is too short,\n",
      "You need phtyon\n",
      "\n",
      "\n",
      "Life is too short, \n",
      "You need \n",
      "phtyon\n"
     ]
    }
   ],
   "source": [
    "print('''Life is too short,\n",
    "You need phtyon''')\n",
    "print('\\n')\n",
    "print(\"\"\"Life is too short, \n",
    "You need \n",
    "phtyon\"\"\") #'''~~''' , \"\"\"~~~\"\"\" : 행바꿈"
   ]
  },
  {
   "cell_type": "code",
   "execution_count": 72,
   "id": "7e2d1345-0ad9-4e09-bb4e-e0a2c0e39b32",
   "metadata": {},
   "outputs": [
    {
     "name": "stdout",
     "output_type": "stream",
     "text": [
      "Life is too short, You need phtyon\n",
      "34\n",
      "34\n"
     ]
    }
   ],
   "source": [
    "str1 = 'Life is too short, You need phtyon'\n",
    "print(str1)\n",
    "print(len(str1)) #문자열 길이\n",
    "print(len('Life is too short, You need phtyon'))"
   ]
  },
  {
   "cell_type": "code",
   "execution_count": 88,
   "id": "7ec25715-c36c-4a46-b209-7ca04d885ebb",
   "metadata": {},
   "outputs": [
    {
     "name": "stdout",
     "output_type": "stream",
     "text": [
      "i\n",
      "s\n",
      "n\n",
      "n\n",
      "i\n",
      "i\n",
      "L\n",
      "L\n",
      "L\n",
      "L\n",
      "L\n"
     ]
    }
   ],
   "source": [
    "str1 = 'Life is too short, You need phtyon'\n",
    "#                 111        222      3333\n",
    "#       0123456789012345678901234567890123 : index : 문자에 표시된 고유의 번호 : 0부터 1씩증가\n",
    "#      -4321098765432109876543210987654321 : index : -로 가는 음수인덱스도 사용이 가능함\n",
    "#           3         2         111\n",
    "print(str1[1])\n",
    "print(str1[12])\n",
    "print(str1[33])\n",
    "print(str1[len(str1) - 1]) #len(str) - 1 = 34 - 1 = 33\n",
    "print(str1[5])\n",
    "print('Life is too short, You need phtyon'[5])\n",
    "print(str1[0])\n",
    "print(str1[-34]) #뒤에서부터 세는것도 가능\n",
    "print(str1[-len(str1)])\n",
    "print(str1[0])\n",
    "print(str1[-0]) #0은 음수가 안되니까 그냥 0"
   ]
  },
  {
   "cell_type": "code",
   "execution_count": 91,
   "id": "be4ceeea-8641-46a7-8a45-54efbb86e149",
   "metadata": {},
   "outputs": [
    {
     "name": "stdout",
     "output_type": "stream",
     "text": [
      "Life\n"
     ]
    }
   ],
   "source": [
    "#Life를 출력\n",
    "#print(str1[0]);print(str1[1]);print(str1[2]);print(str1[3]);\n",
    "print(str1[0]+str1[1]+str1[2]+str1[3])"
   ]
  },
  {
   "cell_type": "code",
   "execution_count": 97,
   "id": "4e5bb0b8-d59b-4b1c-bf06-435519a7acc3",
   "metadata": {},
   "outputs": [
    {
     "name": "stdout",
     "output_type": "stream",
     "text": [
      "Life\n",
      "Life\n",
      "too s\n",
      "too s\n",
      "e is \n"
     ]
    }
   ],
   "source": [
    "#Life\n",
    "#0123\n",
    "print(str1[0:0+4]) #문자열 str1의 0번부터 4전까지 더해라\n",
    "print(str1[0:4]) #start : 0, stop : 4\n",
    "print(str1[8:8+5]) #일일이 몇번에 무슨글자인지 확인하기 힘드니 첫글자에서 몇글자 더하는 형식으로 하는게 편함\n",
    "print(str1[8:13]) #8부터 13 전까지 나타내라\n",
    "idx = 3\n",
    "글자수 = 5\n",
    "print(str1[idx:idx+글자수])"
   ]
  },
  {
   "cell_type": "code",
   "execution_count": 105,
   "id": "9cf1b015-f10f-43b1-9bf9-3a5ba46a4c37",
   "metadata": {},
   "outputs": [
    {
     "name": "stdout",
     "output_type": "stream",
     "text": [
      "Life is\n",
      "Life is\n",
      "Life is\n",
      "Life is\n",
      "Life is\n",
      "Life is\n"
     ]
    }
   ],
   "source": [
    "str1 = 'Life is too short, You need phtyon'\n",
    "#                 111        222      3333\n",
    "#       0123456789012345678901234567890123 : \n",
    "#      -4321098765432109876543210987654321 : \n",
    "#           3         2         111\n",
    "print(str1[0:0+7])\n",
    "print(str1[-34:0+7])\n",
    "print(str1[0:-34+7])\n",
    "print(str1[0:-27])\n",
    "print(str1[-34:-27])\n",
    "print(str1[-len(str1):-27])"
   ]
  },
  {
   "cell_type": "code",
   "execution_count": 112,
   "id": "634e2642-fdcb-4ff0-aead-8fb62874fd75",
   "metadata": {},
   "outputs": [
    {
     "name": "stdout",
     "output_type": "stream",
     "text": [
      "20231218\n",
      "Cold\n",
      "20231218\n",
      "Cold\n",
      "2023\n",
      "12\n",
      "18\n"
     ]
    }
   ],
   "source": [
    "a = '20231218Cold'\n",
    "####날짜랑 이름 분리해서 출력\n",
    "print(a[0:0+8])\n",
    "print(a[8:8+4])\n",
    "###########첫번호(0)랑 마지막번호(len(a))는 생략이 가능\n",
    "print(a[:8])\n",
    "print(a[8:])\n",
    "###년 월 일\n",
    "print(a[0:0+4])\n",
    "print(a[4:4+2])\n",
    "print(a[6:6+2])"
   ]
  },
  {
   "cell_type": "code",
   "execution_count": 2,
   "id": "03b99521-17b1-43a9-a792-4e85a96c4a69",
   "metadata": {},
   "outputs": [
    {
     "name": "stdout",
     "output_type": "stream",
     "text": [
      "Life is too short, You need phtyon\n"
     ]
    }
   ],
   "source": [
    "str1 = 'Life is too short, You need phtyon'\n",
    "\n",
    "print(str1)"
   ]
  },
  {
   "cell_type": "code",
   "execution_count": null,
   "id": "579da879-1596-4af8-b627-ec2821660942",
   "metadata": {},
   "outputs": [],
   "source": []
  },
  {
   "cell_type": "code",
   "execution_count": null,
   "id": "c83b0b06-fe93-47bd-9846-5a3b08994d67",
   "metadata": {},
   "outputs": [],
   "source": []
  }
 ],
 "metadata": {
  "kernelspec": {
   "display_name": "Python 3 (ipykernel)",
   "language": "python",
   "name": "python3"
  },
  "language_info": {
   "codemirror_mode": {
    "name": "ipython",
    "version": 3
   },
   "file_extension": ".py",
   "mimetype": "text/x-python",
   "name": "python",
   "nbconvert_exporter": "python",
   "pygments_lexer": "ipython3",
   "version": "3.12.1"
  }
 },
 "nbformat": 4,
 "nbformat_minor": 5
}
