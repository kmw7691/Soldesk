{
 "cells": [
  {
   "cell_type": "code",
   "execution_count": 2,
   "id": "828cb1b2-4e14-44f7-a905-8b5975ea46dd",
   "metadata": {},
   "outputs": [
    {
     "name": "stdout",
     "output_type": "stream",
     "text": [
      "5050\n"
     ]
    }
   ],
   "source": [
    "###break, continue\n",
    "###1~100의 합 구하기\n",
    "sum1 = 0\n",
    "i = 1\n",
    "while i <= 100:\n",
    "    sum1 += i\n",
    "    i += 1\n",
    "print(sum1)"
   ]
  },
  {
   "cell_type": "code",
   "execution_count": 6,
   "id": "fe723286-4a9e-426a-80f9-f3f7b8237adc",
   "metadata": {},
   "outputs": [
    {
     "name": "stdout",
     "output_type": "stream",
     "text": [
      "2500\n",
      "2500\n"
     ]
    }
   ],
   "source": [
    "###홀수의 합 구하기\n",
    "sum1 = 0\n",
    "i=1\n",
    "while i <=100:\n",
    "    if i%2 != 0:\n",
    "        sum1+=i\n",
    "    i += 1\n",
    "print(sum1)\n",
    "\n",
    "sum1=0\n",
    "i=0\n",
    "while i<100:\n",
    "    i += 1\n",
    "    if i%2 == 0:\n",
    "        continue\n",
    "    sum1 += i\n",
    "print(sum1)\n",
    "    "
   ]
  },
  {
   "cell_type": "code",
   "execution_count": 9,
   "id": "43510895-8679-4a79-85e3-b8afa7317335",
   "metadata": {},
   "outputs": [
    {
     "name": "stdout",
     "output_type": "stream",
     "text": [
      "2550\n",
      "2550\n"
     ]
    }
   ],
   "source": [
    "###짝수의합\n",
    "sum1=0\n",
    "i=1\n",
    "while i<=100:\n",
    "    if i%2==0:\n",
    "        sum1+=i\n",
    "    i += 1\n",
    "print(sum1)\n",
    "\n",
    "sum1=0\n",
    "i=1\n",
    "while i<=100:\n",
    "    i+=1\n",
    "    if i%2 !=0:\n",
    "        continue\n",
    "    sum1 += i\n",
    "print(sum1)"
   ]
  },
  {
   "cell_type": "code",
   "execution_count": 13,
   "id": "66d9ca68-e24b-41b1-8f17-ec382633747f",
   "metadata": {},
   "outputs": [
    {
     "name": "stdout",
     "output_type": "stream",
     "text": [
      "5050\n",
      "[1, 2, 3, 4]\n"
     ]
    }
   ],
   "source": [
    "sum1=0\n",
    "i=1\n",
    "while True:\n",
    "    sum1+=i\n",
    "    i+=1\n",
    "    if i>100 :\n",
    "        break\n",
    "print(sum1)\n",
    "l=[1,2,3,4,5,6]\n",
    "#  0 1 2 3 4 5\n",
    "print(l[0:4]) #start는 0번째, stop은 4번째"
   ]
  },
  {
   "cell_type": "code",
   "execution_count": 20,
   "id": "a3d9d8fd-e528-4c31-ac0c-598a8a780079",
   "metadata": {},
   "outputs": [
    {
     "name": "stdout",
     "output_type": "stream",
     "text": [
      "10\n",
      "10\n",
      "10\n",
      "0\n"
     ]
    }
   ],
   "source": [
    "###forEach\n",
    "l=[1,2,3,4]\n",
    "sum1 = 0\n",
    "idx = 0\n",
    "while idx < len(l):\n",
    "    sum1 += l[idx]\n",
    "    idx+=1\n",
    "print(sum1)\n",
    "print(sum(l))\n",
    "\n",
    "sum1=0\n",
    "for num in l: #[1,2,3,4]\n",
    "    sum1 += num\n",
    "print(sum1)\n",
    "\n",
    "sum1=0\n",
    "for idx in range(0,len(l)):\n",
    "    sum1 + l[idx]\n",
    "print(sum1)\n"
   ]
  },
  {
   "cell_type": "code",
   "execution_count": 23,
   "id": "52956836-1df1-47ec-8805-3fe18dfbe331",
   "metadata": {},
   "outputs": [
    {
     "name": "stdout",
     "output_type": "stream",
     "text": [
      "5050\n",
      "5050\n"
     ]
    }
   ],
   "source": [
    "#1~100까지 합\n",
    "\n",
    "#while\n",
    "sum1 = 0\n",
    "i=1\n",
    "while i<=100:\n",
    "    sum1 += i\n",
    "    i += 1\n",
    "print(sum1)\n",
    "\n",
    "#for\n",
    "sum1=0\n",
    "for num in range(1,101):\n",
    "    sum1 += num\n",
    "print(sum1)"
   ]
  },
  {
   "cell_type": "code",
   "execution_count": 28,
   "id": "9ac40e95-3cc3-45ca-b85e-79d2ba8912d6",
   "metadata": {},
   "outputs": [
    {
     "name": "stdout",
     "output_type": "stream",
     "text": [
      "2500\n",
      "2500\n"
     ]
    }
   ],
   "source": [
    "###홀수의 합\n",
    "sum1 = 0\n",
    "for num in range(1,101):\n",
    "    if num%2 != 0:\n",
    "        sum1 += num\n",
    "print(sum1)\n",
    "\n",
    "sum1=0\n",
    "for num in range(1,101):\n",
    "    if num%2 == 0:\n",
    "        continue\n",
    "    sum1 += num\n",
    "print(sum1)"
   ]
  },
  {
   "cell_type": "code",
   "execution_count": 30,
   "id": "27ff2ca4-ce6b-4e6b-a374-42c42b5f3097",
   "metadata": {},
   "outputs": [
    {
     "name": "stdout",
     "output_type": "stream",
     "text": [
      "2550\n",
      "2550\n"
     ]
    }
   ],
   "source": [
    "##짝수의합\n",
    "sum1=0\n",
    "for num in range(1,101):\n",
    "    if num%2 == 0:\n",
    "        sum1 += num\n",
    "print(sum1)\n",
    "\n",
    "sum1=0\n",
    "for num in range(1,101):\n",
    "    if num%2 != 0:\n",
    "        continue\n",
    "    sum1 += num\n",
    "print(sum1)"
   ]
  },
  {
   "cell_type": "code",
   "execution_count": 37,
   "id": "965dccbd-f72e-4142-8860-034ae5feca02",
   "metadata": {},
   "outputs": [
    {
     "name": "stdout",
     "output_type": "stream",
     "text": [
      "5050\n",
      "15\n",
      "15\n"
     ]
    }
   ],
   "source": [
    "sum1=0\n",
    "for num in range(100000000): #시작값이 없으면 0부터시작\n",
    "    if num == 101:\n",
    "        break\n",
    "    sum1 += num\n",
    "print(sum1)\n",
    "\n",
    "sum1=0\n",
    "t = (1,2,3,4,5)\n",
    "print(sum(t))\n",
    "for num in t:\n",
    "    sum1 += num\n",
    "print(sum1)"
   ]
  },
  {
   "cell_type": "code",
   "execution_count": 42,
   "id": "2712a1b8-0e2d-48d2-9952-bb721adfea6f",
   "metadata": {},
   "outputs": [
    {
     "name": "stdout",
     "output_type": "stream",
     "text": [
      "9 * 1 = 9\n",
      "9 * 2 = 18\n",
      "9 * 3 = 27\n",
      "9 * 4 = 36\n",
      "9 * 5 = 45\n",
      "9 * 6 = 54\n",
      "9 * 7 = 63\n",
      "9 * 8 = 72\n",
      "9 * 9 = 81\n",
      "3 * 1 = 3\n",
      "3 * 2 = 6\n",
      "3 * 3 = 9\n",
      "3 * 4 = 12\n",
      "3 * 5 = 15\n",
      "3 * 6 = 18\n",
      "3 * 7 = 21\n",
      "3 * 8 = 24\n",
      "3 * 9 = 27\n"
     ]
    }
   ],
   "source": [
    "#9단\n",
    "gob=1\n",
    "while gob <= 9:\n",
    "    print(f\"9 * {gob} = {9*gob}\")\n",
    "    gob+=1\n",
    "\n",
    "for gob in range(1,10):\n",
    "    print(f\"3 * {gob} = {3*gob}\")"
   ]
  },
  {
   "cell_type": "code",
   "execution_count": 45,
   "id": "264d3898-ea53-4912-b58a-09e763f93875",
   "metadata": {},
   "outputs": [
    {
     "name": "stdout",
     "output_type": "stream",
     "text": [
      "3 * 1 = 3\n",
      "3 * 2 = 6\n",
      "3 * 3 = 9\n",
      "3 * 4 = 12\n",
      "3 * 5 = 15\n",
      "3 * 6 = 18\n",
      "3 * 7 = 21\n",
      "3 * 8 = 24\n",
      "3 * 9 = 27\n",
      "4 * 1 = 4\n",
      "4 * 2 = 8\n",
      "4 * 3 = 12\n",
      "4 * 4 = 16\n",
      "4 * 5 = 20\n",
      "4 * 6 = 24\n",
      "4 * 7 = 28\n",
      "4 * 8 = 32\n",
      "4 * 9 = 36\n",
      "5 * 1 = 5\n",
      "5 * 2 = 10\n",
      "5 * 3 = 15\n",
      "5 * 4 = 20\n",
      "5 * 5 = 25\n",
      "5 * 6 = 30\n",
      "5 * 7 = 35\n",
      "5 * 8 = 40\n",
      "5 * 9 = 45\n"
     ]
    }
   ],
   "source": [
    "for gob in range(1,10):\n",
    "    print(f\"3 * {gob} = {3*gob}\")\n",
    "\n",
    "for gob in range(1,10):\n",
    "    print(f\"4 * {gob} = {4*gob}\")\n",
    "\n",
    "for gob in range(1,10):\n",
    "    print(f\"5 * {gob} = {5*gob}\")"
   ]
  },
  {
   "cell_type": "code",
   "execution_count": 49,
   "id": "77107dbe-3703-4e2c-99c4-85a965ad222f",
   "metadata": {},
   "outputs": [
    {
     "name": "stdout",
     "output_type": "stream",
     "text": [
      "3 * 1 = 3\n",
      "3 * 2 = 6\n",
      "3 * 3 = 9\n",
      "3 * 4 = 12\n",
      "3 * 5 = 15\n",
      "3 * 6 = 18\n",
      "3 * 7 = 21\n",
      "3 * 8 = 24\n",
      "3 * 9 = 27\n",
      "4 * 1 = 4\n",
      "4 * 2 = 8\n",
      "4 * 3 = 12\n",
      "4 * 4 = 16\n",
      "4 * 5 = 20\n",
      "4 * 6 = 24\n",
      "4 * 7 = 28\n",
      "4 * 8 = 32\n",
      "4 * 9 = 36\n",
      "5 * 1 = 5\n",
      "5 * 2 = 10\n",
      "5 * 3 = 15\n",
      "5 * 4 = 20\n",
      "5 * 5 = 25\n",
      "5 * 6 = 30\n",
      "5 * 7 = 35\n",
      "5 * 8 = 40\n",
      "5 * 9 = 45\n"
     ]
    }
   ],
   "source": [
    "startDan = 3\n",
    "endDan =5\n",
    "startGob = 1\n",
    "endGob = 9\n",
    "\n",
    "for dan in range(startDan,endDan + 1):\n",
    "    for gob in range(startGob,endGob+1):\n",
    "        print(f\"{dan} * {gob} = {dan*gob}\")"
   ]
  },
  {
   "cell_type": "code",
   "execution_count": 90,
   "id": "d81c89ef-ee91-41a8-bd76-b6e6843dc021",
   "metadata": {},
   "outputs": [
    {
     "name": "stdin",
     "output_type": "stream",
     "text": [
      "시작단의 숫자 입력 :  3\n",
      "끝단의 숫자 입력 :  4\n",
      "시작곱의 숫자 입력 :  2\n",
      "끝곱의 숫자 입력 :  6\n"
     ]
    },
    {
     "name": "stdout",
     "output_type": "stream",
     "text": [
      "3 * 2 = 6\n",
      "3 * 3 = 9\n",
      "3 * 4 = 12\n",
      "3 * 5 = 15\n",
      "3 * 6 = 18\n",
      "4 * 2 = 8\n",
      "4 * 3 = 12\n",
      "4 * 4 = 16\n",
      "4 * 5 = 20\n",
      "4 * 6 = 24\n"
     ]
    }
   ],
   "source": [
    "startDan = int(input('시작단의 숫자 입력 : '))\n",
    "endDan = int(input('끝단의 숫자 입력 : '))\n",
    "startGob = int(input('시작곱의 숫자 입력 : '))\n",
    "endGob = int(input('끝곱의 숫자 입력 : '))\n",
    "\n",
    "for dan in range(startDan,endDan + 1):\n",
    "    for gob in range(startGob,endGob+1):\n",
    "        print(f\"{dan} * {gob} = {dan*gob}\")"
   ]
  },
  {
   "cell_type": "code",
   "execution_count": 84,
   "id": "67b0d828-3c8f-4a61-b87d-efcd7517c911",
   "metadata": {},
   "outputs": [
    {
     "name": "stdout",
     "output_type": "stream",
     "text": [
      "26, 22, 29, 42, 32, 17, "
     ]
    }
   ],
   "source": [
    "#로또\n",
    "import random\n",
    "lotto=[]\n",
    "for i in range(1, 45+1):\n",
    "    lotto.append(i)\n",
    "size=len(lotto) #45\n",
    "for i in range(6):\n",
    "    size -= 1\n",
    "    idx = random.randint(0, size)\n",
    "    lottoNum = lotto.pop(idx)\n",
    "    print(lottoNum, end=\", \")\n",
    "    "
   ]
  },
  {
   "cell_type": "code",
   "execution_count": 89,
   "id": "91841521-f9a8-4c32-b887-d1ebee00596c",
   "metadata": {},
   "outputs": [
    {
     "name": "stdin",
     "output_type": "stream",
     "text": [
      "구매수량 입력 :  3\n"
     ]
    },
    {
     "name": "stdout",
     "output_type": "stream",
     "text": [
      "1번 : 44, 17, 25, 4, 30, 40, \n",
      "2번 : 20, 45, 37, 10, 2, 30, \n",
      "3번 : 39, 1, 32, 28, 30, 40, \n"
     ]
    }
   ],
   "source": [
    "import random\n",
    "cnt = int(input('구매수량 입력 : '))\n",
    "lotto=[]\n",
    "for i in range(cnt) : \n",
    "    print(f'{i+1}번 : ', end='')\n",
    "    for i in range(1, 45+1):\n",
    "        lotto.append(i)\n",
    "    size=len(lotto) #45\n",
    "    for i in range(6):\n",
    "        size -= 1\n",
    "        idx = random.randint(0, size)\n",
    "        lottoNum = lotto.pop(idx)\n",
    "        print(lottoNum, end=\", \")\n",
    "    lotto.clear() #반복문밖에 변수의 초기화가 있으면 clear()함수로 초기화를 따로 해주어야한다\n",
    "    print()"
   ]
  },
  {
   "cell_type": "code",
   "execution_count": 98,
   "id": "dda8de89-db8a-4c33-9c8c-09091b222cf6",
   "metadata": {},
   "outputs": [
    {
     "name": "stdout",
     "output_type": "stream",
     "text": [
      "[1, 2, 3, 4, 5, 6, 7, 8, 9, 10, 11, 12, 13, 14, 15, 16, 17, 18, 19, 20, 21, 22, 23, 24, 25, 26, 27, 28, 29, 30, 31, 32, 33, 34, 35, 36, 37, 38, 39, 40, 41, 42, 43, 44, 45]\n",
      "[1, 2, 3, 4, 5, 6, 7, 8, 9, 10, 11, 12, 13, 14, 15, 16, 17, 18, 19, 20, 21, 22, 23, 24, 25, 26, 27, 28, 29, 30, 31, 32, 33, 34, 35, 36, 37, 38, 39, 40, 41, 42, 43, 44, 45]\n",
      "[3, 6, 9, 12, 15, 18, 21, 24, 27, 30, 33, 36, 39, 42, 45, 48, 51, 54, 57, 60, 63, 66, 69, 72, 75, 78, 81, 84, 87, 90, 93, 96, 99, 102, 105, 108, 111, 114, 117, 120, 123, 126, 129, 132, 135]\n"
     ]
    }
   ],
   "source": [
    "lotto=[]\n",
    "for i in range(1,45+1):\n",
    "    lotto.append(i)  #이방법은 append를 사용할때만 씀\n",
    "print(lotto)\n",
    "\n",
    "#list comprehension\n",
    "lotto = [i for i in range(1,45+1)]\n",
    "print(lotto)\n",
    "\n",
    "lotto=[]\n",
    "for i in range(1,45+1):\n",
    "    lotto.append(i * 3) \n",
    "print(lotto)\n",
    "lotto = [i*3 for i in range(1,45+1)]"
   ]
  },
  {
   "cell_type": "code",
   "execution_count": 101,
   "id": "c3a8194a-0b1d-449f-b982-00867b24c627",
   "metadata": {},
   "outputs": [
    {
     "name": "stdout",
     "output_type": "stream",
     "text": [
      "[3, 6, 9, 12]\n",
      "[3, 6, 9, 12]\n"
     ]
    }
   ],
   "source": [
    "#튜플요소에 3을 곱한값을 리스트에 추가\n",
    "t = (1,2,3,4)\n",
    "l=[]\n",
    "for num in t:\n",
    "    l.append(num*3)\n",
    "print(l)\n",
    "\n",
    "l=[num*3 for num in t]\n",
    "print(l)"
   ]
  },
  {
   "cell_type": "code",
   "execution_count": 105,
   "id": "090887e5-4a9a-46c1-95d0-f21dd5a8bb4d",
   "metadata": {},
   "outputs": [
    {
     "name": "stdout",
     "output_type": "stream",
     "text": [
      "[6, 12, 18, 24, 30]\n",
      "[6, 12, 18, 24, 30]\n"
     ]
    }
   ],
   "source": [
    "#튜플요소에서 짝수인 요소만 3을 곱한후 추가\n",
    "t = 1,2,3,4,5,6,7,8,9,10\n",
    "l=[]\n",
    "for num in t:\n",
    "    if num%2==0:\n",
    "        l.append(num*3)\n",
    "print(l)\n",
    "\n",
    "l=[num*3 for num in t if num%2==0]\n",
    "print(l)"
   ]
  },
  {
   "cell_type": "code",
   "execution_count": 110,
   "id": "87c60d70-6452-4116-8e61-690fd295abfa",
   "metadata": {},
   "outputs": [
    {
     "name": "stdout",
     "output_type": "stream",
     "text": [
      "[3, 6, 9, 12, 15, 18, 21, 24, 27, 4, 8, 12, 16, 20, 24, 28, 32, 36, 5, 10, 15, 20, 25, 30, 35, 40, 45]\n",
      "[3, 6, 9, 12, 15, 18, 21, 24, 27, 4, 8, 12, 16, 20, 24, 28, 32, 36, 5, 10, 15, 20, 25, 30, 35, 40, 45]\n"
     ]
    }
   ],
   "source": [
    "#3단부터 5단까지의 값을 리스트에 추가\n",
    "l = []\n",
    "for dan in range(3,6):\n",
    "    for gob in range(1,10):\n",
    "        l.append(dan * gob)\n",
    "print(l)\n",
    "\n",
    "l=[dan*gob for dan in range(3,6) \n",
    "           for gob in range(1,10)]\n",
    "print(l)"
   ]
  },
  {
   "cell_type": "code",
   "execution_count": 113,
   "id": "1ab43c22-2e66-41b5-b79e-70851e0cdc6a",
   "metadata": {},
   "outputs": [
    {
     "name": "stdout",
     "output_type": "stream",
     "text": [
      "[6, 12, 18, 24, 8, 16, 24, 32, 10, 20, 30, 40]\n",
      "[6, 12, 18, 24, 8, 16, 24, 32, 10, 20, 30, 40]\n"
     ]
    }
   ],
   "source": [
    "#3단부터 5단까지 값중 곱이 짝인것만 리스트에 추가\n",
    "l=[]\n",
    "for dan in range(3,6):\n",
    "    for gob in range(1,10):\n",
    "        if gob%2==0:\n",
    "            l.append(dan * gob)\n",
    "print(l)\n",
    "\n",
    "l = [dan*gob for dan in range(3,6) \n",
    "             for gob in range(1,10)\n",
    "             if gob %2 ==0]\n",
    "print(l)"
   ]
  },
  {
   "cell_type": "code",
   "execution_count": 123,
   "id": "effee436-b545-4ef4-88f0-ef3cec75caae",
   "metadata": {},
   "outputs": [
    {
     "name": "stdout",
     "output_type": "stream",
     "text": [
      "(1, 2)\n",
      "(3, 4)\n",
      "(5, 6)\n",
      "1 2\n",
      "(1, 2)\n",
      "(3, 4)\n",
      "(5, 6)\n",
      "1 2\n",
      "3\n",
      "3 4\n",
      "7\n",
      "5 6\n",
      "11\n"
     ]
    }
   ],
   "source": [
    "l1 = [(1,2),(3,4),(5,6)]\n",
    "print(l1[0]) #(1,2)\n",
    "print(l1[1]) #(3,4)\n",
    "print(l1[2]) #(5,6)\n",
    "\n",
    "a,b = l1[0]\n",
    "print(a,b)\n",
    "for y in l1:\n",
    "    print(y)\n",
    "for a,b in l1:\n",
    "    print (a,b)\n",
    "    print(a+b)"
   ]
  },
  {
   "cell_type": "code",
   "execution_count": 127,
   "id": "33512819-66f2-4bad-9356-7cd008f2073b",
   "metadata": {},
   "outputs": [
    {
     "name": "stdout",
     "output_type": "stream",
     "text": [
      "[1, 2, 3]\n",
      "(4, 5, 6)\n",
      "(7, 8, 9)\n",
      "1 2 3\n",
      "4 5 6\n",
      "7 8 9\n"
     ]
    }
   ],
   "source": [
    "l2 = [[1,2,3],(4,5,6),(7,8,9)]\n",
    "for y in l2:\n",
    "    print(y)\n",
    "for a,b,c in l2:\n",
    "    print(a,b,c)"
   ]
  },
  {
   "cell_type": "code",
   "execution_count": 132,
   "id": "9fc62f9e-29ee-447f-8cc1-ef5bd705c004",
   "metadata": {},
   "outputs": [
    {
     "name": "stdout",
     "output_type": "stream",
     "text": [
      "[1, 2]\n",
      "[3, 4, 5, 6]\n",
      "[7, 8, 9]\n"
     ]
    },
    {
     "data": {
      "text/plain": [
       "'\\nfor a,b,c,d in l3 : #리스트에 있는 요소의 크기가 달라 오류가 발생한다\\n    print(a,b,c,d)\\n'"
      ]
     },
     "execution_count": 132,
     "metadata": {},
     "output_type": "execute_result"
    }
   ],
   "source": [
    "l3 = [[1,2],[3,4,5,6],[7,8,9]] #이런식으로 크기가 다를땐 위의 방법을 사용할수 없다\n",
    "for y in l3:\n",
    "    print(y)\n",
    "\n",
    "\"\"\"\n",
    "for a,b,c,d in l3 : #리스트에 있는 요소의 크기가 달라 오류가 발생한다\n",
    "    print(a,b,c,d)\n",
    "\"\"\""
   ]
  },
  {
   "cell_type": "code",
   "execution_count": 148,
   "id": "c54107d6-2d76-4aaf-9344-ebad3eccb548",
   "metadata": {},
   "outputs": [
    {
     "name": "stdout",
     "output_type": "stream",
     "text": [
      "2023-12-21 11:43:24.688075\n",
      "2023 년\n",
      "12 월\n",
      "21 일\n",
      "11 시\n",
      "43 분\n",
      "24 초\n",
      "<class 'int'>\n",
      "2023년 12월 21일 11시 32분 15초\n",
      "2023년 12월 21일 11시 43분 24초\n",
      "2023년 12월 21일 11시 43분 24초\n",
      "오전 11시\n"
     ]
    }
   ],
   "source": [
    "import datetime\n",
    "now = datetime.datetime.now()\n",
    "print(now)\n",
    "print(now.year, '년')\n",
    "print(now.month, '월')\n",
    "print(now.day, '일')\n",
    "print(now.hour, '시')\n",
    "print(now.minute, '분')\n",
    "print(now.second, '초')\n",
    "print(type(now.second))\n",
    "print('2023년 12월 21일 11시 32분 15초')\n",
    "print('%d년 %d월 %d일 %d시 %d분 %d초' % (now.year, now.month, \\#역슬래시뒤에 공백이 있으면 오류남\n",
    "                                        now.day,now.hour,now.minute,now.second))\n",
    "#print(\"{}년 {}월 {]일 {}시 {}분 {}초\".format(now.year, now.month, \\\n",
    "#                                        now.day,now.hour,now.minute,now.second))\n",
    "print(f'{now.year}년 {now.month}월 {now.day}일 ' \\\n",
    "      f'{now.hour}시 {now.minute}분 {now.second}초')\n",
    "\n",
    "#오전이면 '오전'출력, 오후면 '오후' 출력\n",
    "if now.hour < 12:\n",
    "    print(f'오전 {now.hour}시')\n",
    "if now.hour >= 12:\n",
    "    print(f'오후 {now.hour}시')"
   ]
  },
  {
   "cell_type": "code",
   "execution_count": 155,
   "id": "0ff471ec-edcc-414a-afbb-0d5a501b9246",
   "metadata": {},
   "outputs": [
    {
     "name": "stdout",
     "output_type": "stream",
     "text": [
      "12\n",
      "겨울\n"
     ]
    }
   ],
   "source": [
    "#봄  여름 가을 겨울을 출력\n",
    "#3~5 6~8  9~11 12~2\n",
    "import datetime\n",
    "now = datetime.datetime.now()\n",
    "print(now.month)\n",
    "if  3 <= now.month <= 5:\n",
    "    print('봄')\n",
    "if 6<= now.month <= 8:\n",
    "    print('여름')\n",
    "if 9<= now.month <= 11:\n",
    "    print('가을')\n",
    "if now.month >= 12 or 1<= now.month <= 2:\n",
    "    print('겨울')"
   ]
  },
  {
   "cell_type": "code",
   "execution_count": 158,
   "id": "1802983e-0e4a-4233-8c3e-08d624f2cdc2",
   "metadata": {},
   "outputs": [
    {
     "name": "stdout",
     "output_type": "stream",
     "text": [
      "그어\n"
     ]
    }
   ],
   "source": [
    "i=20\n",
    "if i<20:\n",
    "    print('흐어')\n",
    "elif i <10:\n",
    "    print('으어')\n",
    "else: \n",
    "    print ('그어')"
   ]
  },
  {
   "cell_type": "code",
   "execution_count": 162,
   "id": "9f1c3370-2b42-4707-aa55-c1ec93e189c4",
   "metadata": {},
   "outputs": [
    {
     "name": "stdout",
     "output_type": "stream",
     "text": [
      "작음\n"
     ]
    }
   ],
   "source": [
    "i=10\n",
    "if not i<20: #원래True인데 not 때문에 false가됨. \n",
    "    print('큼')\n",
    "else:\n",
    "    print('작음')"
   ]
  },
  {
   "cell_type": "code",
   "execution_count": 163,
   "id": "c13d4532-a237-4fef-a7cc-f25b15e1ad5f",
   "metadata": {},
   "outputs": [],
   "source": [
    "json = {1:'곽', 2:'민', 3:'우'} #dictionary , Java의 JSON"
   ]
  },
  {
   "cell_type": "code",
   "execution_count": 170,
   "id": "dedfa597-4294-4fc1-a185-61ad2a1d0830",
   "metadata": {},
   "outputs": [
    {
     "name": "stdout",
     "output_type": "stream",
     "text": [
      "{'name': '곽민우'}\n",
      "{'name': '곽민우', 'age': 30}\n",
      "{'name': '곽민우', 'age': 30, 'height': 173.5}\n"
     ]
    }
   ],
   "source": [
    "dic = {}\n",
    "dic['name'] = '곽민우'\n",
    "print(dic)\n",
    "dic['age'] = 30\n",
    "print(dic)\n",
    "dic['height'] = 173.5\n",
    "print(dic)"
   ]
  },
  {
   "cell_type": "code",
   "execution_count": 174,
   "id": "45704ccf-57d3-4ae1-9c70-f9ca04b48abf",
   "metadata": {},
   "outputs": [
    {
     "name": "stdout",
     "output_type": "stream",
     "text": [
      "{'name': '곽민우', 'age': 30, 'height': 173.5}\n",
      "name : 곽민우\n",
      "age : 30\n",
      "height : 173.5\n"
     ]
    }
   ],
   "source": [
    "print(dic)\n",
    "for key in dic:\n",
    "    print(key, ':', dic[key])"
   ]
  },
  {
   "cell_type": "code",
   "execution_count": 178,
   "id": "e9f40841-651d-4778-adb3-cf16c7f8de8c",
   "metadata": {},
   "outputs": [
    {
     "name": "stdout",
     "output_type": "stream",
     "text": [
      "[1, 3, 5]\n",
      "1\n",
      "3\n",
      "5\n",
      "7\n",
      "9\n"
     ]
    }
   ],
   "source": [
    "l=[1,2,3,4,5,6]\n",
    "print(l[::2])\n",
    "\n",
    "for num in range(1,1+10,2):\n",
    "    print(num)"
   ]
  },
  {
   "cell_type": "code",
   "execution_count": 181,
   "id": "6b2056df-8b40-4ce6-ac4f-cce763427587",
   "metadata": {},
   "outputs": [
    {
     "name": "stdout",
     "output_type": "stream",
     "text": [
      "range(0, 10)\n",
      "[0, 1, 2, 3, 4, 5, 6, 7, 8, 9]\n",
      "(0, 1, 2, 3, 4, 5, 6, 7, 8, 9)\n",
      "{0, 1, 2, 3, 4, 5, 6, 7, 8, 9}\n",
      "range(0, 10)\n"
     ]
    }
   ],
   "source": [
    "print(range(10))\n",
    "l=list(range(10))\n",
    "print(l)\n",
    "t=tuple(range(10))\n",
    "print(t)\n",
    "ss=set(range(10))\n",
    "print(ss)\n",
    "str1 = str(range(10))\n",
    "print(str1)"
   ]
  },
  {
   "cell_type": "code",
   "execution_count": 183,
   "id": "bdc13d84-40d6-47ae-80dc-9c9077891d58",
   "metadata": {},
   "outputs": [
    {
     "name": "stdout",
     "output_type": "stream",
     "text": [
      "5.0\n",
      "0\n",
      "1\n",
      "2\n",
      "3\n",
      "4\n"
     ]
    }
   ],
   "source": [
    "n=10\n",
    "print(n/2)\n",
    "for i in range(0,int(n/2)):\n",
    "    print(i)"
   ]
  },
  {
   "cell_type": "code",
   "execution_count": 185,
   "id": "f645d059-a69e-4d2c-80fb-82739f189061",
   "metadata": {},
   "outputs": [
    {
     "name": "stdout",
     "output_type": "stream",
     "text": [
      "7\n",
      "28\n"
     ]
    }
   ],
   "source": [
    "l=[1,2,3,4,5,6,7]\n",
    "print(len(l))\n",
    "sum1=0\n",
    "for idx in range(len(l)):\n",
    "    sum1 += l[idx]\n",
    "print(sum1)"
   ]
  },
  {
   "cell_type": "code",
   "execution_count": 187,
   "id": "4e0a75f6-0b46-4a80-9764-09af5d0e8128",
   "metadata": {},
   "outputs": [
    {
     "name": "stdout",
     "output_type": "stream",
     "text": [
      "0\n",
      "1\n",
      "2\n",
      "3\n",
      "4\n",
      "5\n",
      "6\n",
      "7\n",
      "8\n",
      "9\n",
      "[6, 5, 4, 3, 2, 1]\n",
      "[2, 3, 4, 5, 6]\n",
      "[6, 5, 4, 3, 2]\n",
      "10\n",
      "9\n",
      "8\n",
      "7\n",
      "6\n",
      "5\n",
      "4\n",
      "3\n",
      "2\n",
      "4\n",
      "3\n",
      "2\n",
      "1\n",
      "0\n"
     ]
    }
   ],
   "source": [
    "for num in range(10):\n",
    "    print(num)\n",
    "l=[1,2,3,4,5,6]\n",
    "print(l[::-1])\n",
    "print(l[1:6])\n",
    "print(l[5:0:-1])\n",
    "for num in range(10,2-1,-1):\n",
    "    print(num)\n",
    "for num in reversed(range(5)):\n",
    "    print(num)"
   ]
  },
  {
   "cell_type": "code",
   "execution_count": 189,
   "id": "dedb50c5-03f4-463f-aabc-e4f161ad6b7e",
   "metadata": {},
   "outputs": [
    {
     "name": "stdout",
     "output_type": "stream",
     "text": [
      "[1, 1]\n"
     ]
    }
   ],
   "source": [
    "l=[1,2,1,2]\n",
    "value =2\n",
    "\n",
    "while value in l:\n",
    "    l.remove(value)\n",
    "print(l)"
   ]
  },
  {
   "cell_type": "code",
   "execution_count": 195,
   "id": "8cac9cfb-8a2d-40f3-8216-9fa2f1cfec01",
   "metadata": {},
   "outputs": [
    {
     "name": "stdout",
     "output_type": "stream",
     "text": [
      "5초동안 38657677번 반복\n"
     ]
    }
   ],
   "source": [
    "import time \n",
    "time.time() #timestamp : 1970년 1월 1일 0시 0분 0초 000미리초 가 0값.\n",
    "target_tick = time.time() + 5\n",
    "i=1\n",
    "while time.time() < target_tick:\n",
    "    i += 1\n",
    "print(f'5초동안 {i}번 반복')"
   ]
  },
  {
   "cell_type": "code",
   "execution_count": 200,
   "id": "798896c6-8416-4deb-a3d7-893df8c8f4b9",
   "metadata": {},
   "outputs": [
    {
     "name": "stdin",
     "output_type": "stream",
     "text": [
      "계속 진행하려면\"y\", 멈추려면 아무거나 누르셈 :  y\n"
     ]
    },
    {
     "name": "stdout",
     "output_type": "stream",
     "text": [
      "41, 30, 24, 10, 4, 6, \n"
     ]
    },
    {
     "name": "stdin",
     "output_type": "stream",
     "text": [
      "계속 진행하려면\"y\", 멈추려면 아무거나 누르셈 :  y\n"
     ]
    },
    {
     "name": "stdout",
     "output_type": "stream",
     "text": [
      "20, 5, 41, 25, 36, 4, \n"
     ]
    },
    {
     "name": "stdin",
     "output_type": "stream",
     "text": [
      "계속 진행하려면\"y\", 멈추려면 아무거나 누르셈 :  y\n"
     ]
    },
    {
     "name": "stdout",
     "output_type": "stream",
     "text": [
      "32, 20, 37, 18, 41, 38, \n"
     ]
    },
    {
     "name": "stdin",
     "output_type": "stream",
     "text": [
      "계속 진행하려면\"y\", 멈추려면 아무거나 누르셈 :  y\n"
     ]
    },
    {
     "name": "stdout",
     "output_type": "stream",
     "text": [
      "21, 41, 42, 15, 8, 16, \n"
     ]
    },
    {
     "name": "stdin",
     "output_type": "stream",
     "text": [
      "계속 진행하려면\"y\", 멈추려면 아무거나 누르셈 :  sad\n"
     ]
    }
   ],
   "source": [
    "import random\n",
    "qty=0\n",
    "while True:\n",
    "    result=input('계속 진행하려면\"y\", 멈추려면 아무거나 누르셈 : ')\n",
    "    if result not in ['y','Y']:\n",
    "        break;\n",
    "    lotto=[]\n",
    "    i=1\n",
    "    while i<=45:\n",
    "        lotto.append(i)\n",
    "        i+=1\n",
    "    size=len(lotto)\n",
    "    cnt=1\n",
    "    while cnt<=6:\n",
    "        size-=1\n",
    "        idx = random.randint(0, size)\n",
    "        result = lotto.pop(idx)\n",
    "        print(result, end=\", \")\n",
    "        cnt+=1\n",
    "    print()\n",
    "    qty+=1"
   ]
  },
  {
   "cell_type": "code",
   "execution_count": 205,
   "id": "c4d6032d-c46c-43ab-8ff2-8666e8f51497",
   "metadata": {},
   "outputs": [
    {
     "name": "stdout",
     "output_type": "stream",
     "text": [
      "21\n",
      "1\n",
      "6\n",
      "21\n",
      "1\n",
      "6\n"
     ]
    }
   ],
   "source": [
    "l=[1,2,3,4,5,6]\n",
    "print(sum(l))\n",
    "print(min(l))\n",
    "print(max(l))\n",
    "\n",
    "t=1,2,3,4,5,6\n",
    "print(sum(t))\n",
    "print(min(t))\n",
    "print(max(t))"
   ]
  },
  {
   "cell_type": "code",
   "execution_count": 213,
   "id": "6e1227ba-caea-4b58-848e-f7af89f2e50c",
   "metadata": {},
   "outputs": [
    {
     "name": "stdout",
     "output_type": "stream",
     "text": [
      "[2, 3, 4, 5]\n",
      "[5, 4, 3, 2]\n",
      "<list_reverseiterator object at 0x000002550F8909A0>\n",
      "[1, 2, 3, 4, 5, 6]\n",
      "6\n",
      "5\n",
      "4\n",
      "3\n",
      "2\n",
      "1\n",
      "6\n",
      "5\n",
      "4\n",
      "3\n",
      "2\n",
      "1\n"
     ]
    }
   ],
   "source": [
    "print(l[1:5])\n",
    "print(l[4:0:-1])\n",
    "print(reversed(l[1:5]))\n",
    "print(l[::1])\n",
    "for num in l[::-1]:\n",
    "    print(num)\n",
    "for num in reversed(l):\n",
    "    print(num)"
   ]
  },
  {
   "cell_type": "raw",
   "id": "5c073bea-1388-4be2-a2fc-dc6a44e93b89",
   "metadata": {},
   "source": [
    "print(l)"
   ]
  },
  {
   "cell_type": "code",
   "execution_count": 214,
   "id": "574488d1-ffd9-476e-a45d-7d033e1bd115",
   "metadata": {},
   "outputs": [
    {
     "name": "stdout",
     "output_type": "stream",
     "text": [
      "1 2 3 4 5 6 \n",
      "0번 요소의 값은 1\n",
      "1번 요소의 값은 2\n",
      "2번 요소의 값은 3\n",
      "3번 요소의 값은 4\n",
      "4번 요소의 값은 5\n",
      "5번 요소의 값은 6\n"
     ]
    }
   ],
   "source": [
    "for idx in range(len(l)):\n",
    "    print(l[idx],end=\" \")\n",
    "print()\n",
    "for idx, value in enumerate(l):\n",
    "    print(f'{idx}번 요소의 값은 {value}')"
   ]
  }
 ],
 "metadata": {
  "kernelspec": {
   "display_name": "Python 3 (ipykernel)",
   "language": "python",
   "name": "python3"
  },
  "language_info": {
   "codemirror_mode": {
    "name": "ipython",
    "version": 3
   },
   "file_extension": ".py",
   "mimetype": "text/x-python",
   "name": "python",
   "nbconvert_exporter": "python",
   "pygments_lexer": "ipython3",
   "version": "3.12.1"
  }
 },
 "nbformat": 4,
 "nbformat_minor": 5
}
