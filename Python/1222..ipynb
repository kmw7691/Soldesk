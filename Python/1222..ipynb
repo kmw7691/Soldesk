{
 "cells": [
  {
   "cell_type": "code",
   "execution_count": 10,
   "id": "2873dc80-58a6-493e-86b4-6dbef6b14f73",
   "metadata": {},
   "outputs": [],
   "source": [
    "#같은 이름의 함수를 만들수 없음\n",
    "#함수명과 변수명이 같으면 안됨\n",
    "def sum11(* para): #연산자는 인자값을 튜프로 받도록함\n",
    "    print(para)\n",
    "    sum1 = 0\n",
    "    for num in para:\n",
    "        sum1 += num\n",
    "    print(sum1)"
   ]
  },
  {
   "cell_type": "code",
   "execution_count": 13,
   "id": "35739d94-516b-4f3d-aa9d-123f2a3b7ffe",
   "metadata": {},
   "outputs": [
    {
     "name": "stdout",
     "output_type": "stream",
     "text": [
      "(1, 2)\n",
      "3\n",
      "(1, 2, 3)\n",
      "6\n",
      "(1, 2, 3, 4, 5, 6, 7)\n",
      "28\n",
      "\n",
      "(1, 2, 3, 4, 5)\n"
     ]
    }
   ],
   "source": [
    "\n",
    "sum11(1,2)\n",
    "sum11(1,2,3)\n",
    "sum11(1,2,3,4,5,6,7)\n",
    "\n",
    "print()\n",
    "\n",
    "a= 1,2,3,4,5\n",
    "print(a) #=> 튜플"
   ]
  },
  {
   "cell_type": "code",
   "execution_count": 16,
   "id": "cd353f7a-b2e9-48b2-8fbd-652b580f06a0",
   "metadata": {},
   "outputs": [],
   "source": [
    "def sum14(* para):\n",
    "    sum1 =0\n",
    "    if para[0] == 'add':\n",
    "        for num in para[1:]:\n",
    "            sum1+=num\n",
    "    elif para[0] == 'sub':\n",
    "        for num in para[1:]:\n",
    "            sum1-=num\n",
    "    elif para[0] == 'mul':\n",
    "        for num in para[1:]:\n",
    "            sum1*=num\n",
    "    else:\n",
    "        for num in para[1:]:\n",
    "            sum1/=num\n",
    "    print(sum1)"
   ]
  },
  {
   "cell_type": "code",
   "execution_count": 20,
   "id": "5e961f01-f293-491e-a8ff-33aded77ac68",
   "metadata": {},
   "outputs": [
    {
     "name": "stdout",
     "output_type": "stream",
     "text": [
      "24\n",
      "0\n"
     ]
    }
   ],
   "source": [
    "sum14('add',2,4,5,6,7)\n",
    "sum14('mul',2,4,5,6,7,8)"
   ]
  },
  {
   "cell_type": "code",
   "execution_count": 26,
   "id": "40fb6878-642b-4788-a901-d79de49d0365",
   "metadata": {},
   "outputs": [],
   "source": [
    "def sum14(opt, *para): #앞에 변수가 몇개있던 상관없는데 튜플로 받는 변수는 맨뒤에 있어야한다\n",
    "    sum1=1\n",
    "    if opt=='add':\n",
    "        for num in para:\n",
    "            sum1+=num\n",
    "    elif opt=='sub':\n",
    "        for num in para:\n",
    "            sum1-=num\n",
    "    elif opt=='mul':\n",
    "        for num in para:\n",
    "            sum1+=num\n",
    "    else:\n",
    "        for num in para:\n",
    "            sum1/=num\n",
    "    print(sum1)"
   ]
  },
  {
   "cell_type": "code",
   "execution_count": 30,
   "id": "694633ba-6af0-44f1-8d80-8dce0f2d35dd",
   "metadata": {},
   "outputs": [
    {
     "name": "stdout",
     "output_type": "stream",
     "text": [
      "25\n"
     ]
    }
   ],
   "source": [
    "sum14('add',2,4,5,6,7)"
   ]
  },
  {
   "cell_type": "code",
   "execution_count": 32,
   "id": "494d6372-3903-43e0-a143-633172555695",
   "metadata": {},
   "outputs": [],
   "source": [
    "def dic1(** para): ## **은 딕셔너리로 받음\n",
    "    print(para)"
   ]
  },
  {
   "cell_type": "code",
   "execution_count": 35,
   "id": "c0b1988d-1b06-4836-ac60-7a98875db397",
   "metadata": {},
   "outputs": [
    {
     "name": "stdout",
     "output_type": "stream",
     "text": [
      "{'a': 1}\n",
      "{'a': '곽', 'b': '민', 'c': '우'}\n"
     ]
    }
   ],
   "source": [
    "dic1(a=1)\n",
    "dic1(a='곽', b='민',c='우')"
   ]
  },
  {
   "cell_type": "code",
   "execution_count": 36,
   "id": "9cb58a14-ae6a-49ca-aa6b-aec8c1ebd64c",
   "metadata": {},
   "outputs": [],
   "source": [
    "def dic1(age, **para):\n",
    "    print(age)\n",
    "    print(para)"
   ]
  },
  {
   "cell_type": "code",
   "execution_count": 39,
   "id": "ba005c0e-b044-4b3b-9ba7-ba47c429f332",
   "metadata": {},
   "outputs": [
    {
     "name": "stdout",
     "output_type": "stream",
     "text": [
      "35\n",
      "{'name': '곽민우', 'old': 40, 'height': 170}\n"
     ]
    }
   ],
   "source": [
    "dic1(35,name='곽민우',old=40, height=170)"
   ]
  },
  {
   "cell_type": "code",
   "execution_count": 44,
   "id": "93c7968a-98c0-4945-b080-d7c1108e1803",
   "metadata": {},
   "outputs": [],
   "source": [
    "#parameter이름을 이용해서 값을 전달\n",
    "def sum12(start, end):\n",
    "    sum1=0\n",
    "    for num in range(start, end + 1):\n",
    "        sum1 += num\n",
    "    print(sum1)"
   ]
  },
  {
   "cell_type": "code",
   "execution_count": 48,
   "id": "29b2cea8-5504-4b39-a2b2-a793a4dcb80b",
   "metadata": {},
   "outputs": [
    {
     "name": "stdout",
     "output_type": "stream",
     "text": [
      "5050\n",
      "5050\n",
      "5050\n"
     ]
    }
   ],
   "source": [
    "sum12(1,100)\n",
    "sum12(start=1, end=100)\n",
    "sum12(end=100, start=1)"
   ]
  },
  {
   "cell_type": "code",
   "execution_count": 53,
   "id": "d7dd6364-335f-4076-913f-6af2f38fd537",
   "metadata": {},
   "outputs": [],
   "source": [
    "def calc(opt, num1, num2):\n",
    "    if opt == 'add':\n",
    "        result = num1+num2\n",
    "    elif opt == 'sub':\n",
    "        result = num1-num2\n",
    "    elif opt == 'mul':\n",
    "        result = num1*num2\n",
    "    else:\n",
    "        result = num1/num2\n",
    "    print(result)"
   ]
  },
  {
   "cell_type": "code",
   "execution_count": 59,
   "id": "4777728e-c62e-4ac9-85a9-04ef1dc38853",
   "metadata": {},
   "outputs": [
    {
     "name": "stdout",
     "output_type": "stream",
     "text": [
      "143\n",
      "50\n",
      "552\n",
      "0.5384615384615384\n"
     ]
    }
   ],
   "source": [
    "calc('add',48,95)\n",
    "calc('sub',95,45)\n",
    "calc('mul',24,23)\n",
    "calc('div',42,78)"
   ]
  },
  {
   "cell_type": "code",
   "execution_count": 61,
   "id": "09170437-8862-4fd2-9246-e1df33a7801a",
   "metadata": {},
   "outputs": [],
   "source": [
    "###매개변수에 초깃값 미리 설정하기\n",
    "def my_self(name, age, man):\n",
    "    print(f'나의 이름은 {name}입니다')\n",
    "    print(f'나의 나이는 {age}살 입니다')\n",
    "    if man:\n",
    "        print('나는 남자입니다')\n",
    "    else:\n",
    "        print('나는 여자입니다')"
   ]
  },
  {
   "cell_type": "code",
   "execution_count": 65,
   "id": "b7d05c95-8f7b-46a4-8db9-4ad29417a0ec",
   "metadata": {},
   "outputs": [
    {
     "name": "stdout",
     "output_type": "stream",
     "text": [
      "나의 이름은 곽민우입니다\n",
      "나의 나이는 28살 입니다\n",
      "나는 여자입니다\n"
     ]
    }
   ],
   "source": [
    "my_self('곽민우', 28, False)"
   ]
  },
  {
   "cell_type": "code",
   "execution_count": 67,
   "id": "e8961ffe-d6da-4ba8-801c-92c959146e66",
   "metadata": {},
   "outputs": [],
   "source": [
    "###매개변수에 초깃값 미리 설정하기\n",
    "def my_self(name, age, man=True):\n",
    "    print(f'나의 이름은 {name}입니다')\n",
    "    print(f'나의 나이는 {age}살 입니다')\n",
    "    if man:\n",
    "        print('나는 남자입니다')\n",
    "    else:\n",
    "        print('나는 여자입니다')"
   ]
  },
  {
   "cell_type": "code",
   "execution_count": 74,
   "id": "f80aa09d-135a-4aee-8487-05a4ed1beb3e",
   "metadata": {},
   "outputs": [
    {
     "name": "stdout",
     "output_type": "stream",
     "text": [
      "나의 이름은 곽민우입니다\n",
      "나의 나이는 28살 입니다\n",
      "나는 남자입니다\n",
      "나의 이름은 홍길동입니다\n",
      "나의 나이는 35살 입니다\n",
      "나는 여자입니다\n",
      "나의 이름은 김길동입니다\n",
      "나의 나이는 35살 입니다\n",
      "나는 여자입니다\n",
      "나의 이름은 김길동입니다\n",
      "나의 나이는 35살 입니다\n",
      "나는 남자입니다\n"
     ]
    }
   ],
   "source": [
    "my_self('곽민우', 28)\n",
    "my_self('홍길동', 35, False)\n",
    "my_self(age=35, name='김길동', man=False)\n",
    "my_self(age=35, name='김길동')"
   ]
  },
  {
   "cell_type": "code",
   "execution_count": 79,
   "id": "d535058e-eec0-4a54-8bb1-28d19b42af3d",
   "metadata": {},
   "outputs": [
    {
     "data": {
      "text/plain": [
       "\"\\ndef my_self(name='곽민우', age, man=True):\\n    print(f'나의 이름은 {name}입니다')\\n    print(f'나의 나이는 {age}살 입니다')\\n    if man:\\n        print('나는 남자입니다')\\n    else:\\n        print('나는 여자입니다')\\n\""
      ]
     },
     "execution_count": 79,
     "metadata": {},
     "output_type": "execute_result"
    }
   ],
   "source": [
    "'''\n",
    "def my_self(name='곽민우', age, man=True):\n",
    "    print(f'나의 이름은 {name}입니다')\n",
    "    print(f'나의 나이는 {age}살 입니다')\n",
    "    if man:\n",
    "        print('나는 남자입니다')\n",
    "    else:\n",
    "        print('나는 여자입니다')\n",
    "'''"
   ]
  },
  {
   "cell_type": "code",
   "execution_count": 82,
   "id": "339e62c6-d237-4d16-a3b4-962db25747c6",
   "metadata": {},
   "outputs": [
    {
     "data": {
      "text/plain": [
       "\"\\ndef my_self(name, age = 35, man=):\\n    print(f'나의 이름은 {name}입니다')\\n    print(f'나의 나이는 {age}살 입니다')\\n    if man:\\n        print('나는 남자입니다')\\n    else:\\n        print('나는 여자입니다')\\nmy_self('곽민우')\\n\""
      ]
     },
     "execution_count": 82,
     "metadata": {},
     "output_type": "execute_result"
    }
   ],
   "source": [
    "'''\n",
    "def my_self(name, age = 35, man=):\n",
    "    print(f'나의 이름은 {name}입니다')\n",
    "    print(f'나의 나이는 {age}살 입니다')\n",
    "    if man:\n",
    "        print('나는 남자입니다')\n",
    "    else:\n",
    "        print('나는 여자입니다')\n",
    "my_self('곽민우')\n",
    "'''"
   ]
  },
  {
   "cell_type": "code",
   "execution_count": 83,
   "id": "00aadc1f-8869-4b77-a29d-5e2d1e77588a",
   "metadata": {},
   "outputs": [],
   "source": [
    "def my_self(name, age = 35, man=True): \n",
    "    print(f'나의 이름은 {name}입니다')\n",
    "    print(f'나의 나이는 {age}살 입니다')\n",
    "    if man:\n",
    "        print('나는 남자입니다')\n",
    "    else:\n",
    "        print('나는 여자입니다')\n",
    "#매개변수의 초기값은 앞에서부터나 중간에부터는 초기값을 지정할수 없다\n",
    "#초기값을 지정하려면 뒤에서부터 앞으로 지정을 해준다"
   ]
  },
  {
   "cell_type": "code",
   "execution_count": 87,
   "id": "56b03976-796b-4d6f-8106-a061eaa5acf3",
   "metadata": {},
   "outputs": [
    {
     "name": "stdout",
     "output_type": "stream",
     "text": [
      "나의 이름은 곽민우입니다\n",
      "나의 나이는 35살 입니다\n",
      "나는 남자입니다\n",
      "나의 이름은 곽민우입니다\n",
      "나의 나이는 28살 입니다\n",
      "나는 남자입니다\n",
      "나의 이름은 곽민우입니다\n",
      "나의 나이는 35살 입니다\n",
      "나는 남자입니다\n"
     ]
    }
   ],
   "source": [
    "my_self('곽민우')\n",
    "my_self('곽민우',28)\n",
    "my_self('곽민우', man=True)"
   ]
  },
  {
   "cell_type": "code",
   "execution_count": 91,
   "id": "a62b42ab-5d8c-44ce-82be-ee8d09b94888",
   "metadata": {},
   "outputs": [],
   "source": [
    "#Lambda함수 : 함수명을 변수처럼 사용하는 것\n",
    "def add(a,b):\n",
    "    return a + b"
   ]
  },
  {
   "cell_type": "code",
   "execution_count": 96,
   "id": "121e8b1d-46ec-4cc5-a205-59ec1fd715f8",
   "metadata": {},
   "outputs": [
    {
     "name": "stdout",
     "output_type": "stream",
     "text": [
      "7\n"
     ]
    }
   ],
   "source": [
    "result = add(3,4)\n",
    "print(result)"
   ]
  },
  {
   "cell_type": "code",
   "execution_count": 94,
   "id": "1e63b507-b355-49af-b5eb-a5ff7205de1c",
   "metadata": {},
   "outputs": [],
   "source": [
    "add = lambda a,b: a+b"
   ]
  },
  {
   "cell_type": "code",
   "execution_count": 98,
   "id": "67a2829d-7c3f-448d-af43-6e156091d898",
   "metadata": {},
   "outputs": [
    {
     "name": "stdout",
     "output_type": "stream",
     "text": [
      "7\n"
     ]
    }
   ],
   "source": [
    "result = add(3,4)\n",
    "print(result)"
   ]
  },
  {
   "cell_type": "code",
   "execution_count": 100,
   "id": "95d013b7-dd7e-4cc5-bc60-587293ae516f",
   "metadata": {},
   "outputs": [],
   "source": [
    "def add(a,b):\n",
    "    print(a + b)"
   ]
  },
  {
   "cell_type": "code",
   "execution_count": 102,
   "id": "7c695ecf-a236-468e-ae19-30d66b16554b",
   "metadata": {},
   "outputs": [
    {
     "name": "stdout",
     "output_type": "stream",
     "text": [
      "7\n"
     ]
    }
   ],
   "source": [
    "add(3,4)"
   ]
  },
  {
   "cell_type": "code",
   "execution_count": 104,
   "id": "41ef5fce-1bd7-444a-abda-6f16820dbd21",
   "metadata": {},
   "outputs": [],
   "source": [
    "add = lambda a,b: print(a+b)"
   ]
  },
  {
   "cell_type": "code",
   "execution_count": 106,
   "id": "f1e258f4-3755-4337-832b-2a89b1472949",
   "metadata": {},
   "outputs": [
    {
     "name": "stdout",
     "output_type": "stream",
     "text": [
      "7\n"
     ]
    }
   ],
   "source": [
    "add(3,4)"
   ]
  },
  {
   "cell_type": "code",
   "execution_count": 108,
   "id": "7b61a4d1-7a91-4e92-b7f8-79fca62b1762",
   "metadata": {},
   "outputs": [],
   "source": [
    "def calc(opt,a,b):\n",
    "    if opt=='add':\n",
    "        return a+b\n",
    "    else:\n",
    "        return a-b"
   ]
  },
  {
   "cell_type": "code",
   "execution_count": 110,
   "id": "bf8b445c-f811-443b-9e9c-0734a0500d7a",
   "metadata": {},
   "outputs": [
    {
     "name": "stdout",
     "output_type": "stream",
     "text": [
      "11\n"
     ]
    }
   ],
   "source": [
    "result = calc('add',3,8)\n",
    "print(result)"
   ]
  },
  {
   "cell_type": "code",
   "execution_count": 112,
   "id": "e66debb7-d741-489a-b3f4-3516e48ba35d",
   "metadata": {},
   "outputs": [],
   "source": [
    "calc = lambda opt,a,b: a+b if opt == 'add' else a-b"
   ]
  },
  {
   "cell_type": "code",
   "execution_count": 115,
   "id": "b2bee462-1428-45ad-b6cc-8a86ca738f0e",
   "metadata": {},
   "outputs": [
    {
     "name": "stdout",
     "output_type": "stream",
     "text": [
      "11\n"
     ]
    }
   ],
   "source": [
    "result = calc('add',3,8)\n",
    "print(result)"
   ]
  },
  {
   "cell_type": "code",
   "execution_count": 118,
   "id": "f0e9981e-09d9-472b-b8a6-010a924d00f8",
   "metadata": {},
   "outputs": [
    {
     "data": {
      "text/plain": [
       "\"\\nopt = 'add'; a=10; b=20\\nif opt =='add':\\n    result = a+b\\nelif opt == 'sub:\\n    result = a-b\\nelif opt == 'mul':\\n    result = a*b\\nelse:\\n    result = a/b\\n\""
      ]
     },
     "execution_count": 118,
     "metadata": {},
     "output_type": "execute_result"
    }
   ],
   "source": [
    "'''\n",
    "opt = 'add'; a=10; b=20\n",
    "if opt =='add':\n",
    "    result = a+b\n",
    "elif opt == 'sub:\n",
    "    result = a-b\n",
    "elif opt == 'mul':\n",
    "    result = a*b\n",
    "else:\n",
    "    result = a/b\n",
    "'''"
   ]
  },
  {
   "cell_type": "code",
   "execution_count": 1,
   "id": "5ae47ebb-94d3-4b73-bd6f-0d0cedebfaad",
   "metadata": {},
   "outputs": [
    {
     "data": {
      "text/plain": [
       "\"\\nresult = a+b if opt =='add' else (\\n         a-b if opt =='sub' else (\\n         a*b if opt =='mul' else \\n         a/b\\n         )\\n    )\\n    \""
      ]
     },
     "execution_count": 1,
     "metadata": {},
     "output_type": "execute_result"
    }
   ],
   "source": [
    "#파이썬타입\n",
    "'''\n",
    "result = a+b if opt =='add' else (\n",
    "         a-b if opt =='sub' else (\n",
    "         a*b if opt =='mul' else \n",
    "         a/b\n",
    "         )\n",
    "    )\n",
    "    '''"
   ]
  },
  {
   "cell_type": "code",
   "execution_count": 123,
   "id": "8bcc4eec-40e8-4a2b-b191-aeb49bc9da28",
   "metadata": {},
   "outputs": [],
   "source": [
    "def calc(opt,a,b):\n",
    "    if opt =='add':\n",
    "        return a+b\n",
    "    elif opt == 'sub':\n",
    "        return a-b\n",
    "    elif opt == 'mul':\n",
    "        return a*b\n",
    "    else:\n",
    "        return a/b"
   ]
  },
  {
   "cell_type": "code",
   "execution_count": 125,
   "id": "3b238602-8af0-433f-8a2d-76e0ed319f70",
   "metadata": {},
   "outputs": [
    {
     "name": "stdout",
     "output_type": "stream",
     "text": [
      "30\n"
     ]
    }
   ],
   "source": [
    "result = calc('add',10,20)\n",
    "print(result)"
   ]
  },
  {
   "cell_type": "code",
   "execution_count": 126,
   "id": "7cc338c4-a311-471e-b3a3-e8c6bc752017",
   "metadata": {},
   "outputs": [],
   "source": [
    "calc = lambda opt,a,b : a+b if opt=='add' else(\n",
    "                        a-b if opt=='sub' else(\n",
    "                        a*b if opt=='mul' else\n",
    "                        a/b\n",
    "                        ))"
   ]
  },
  {
   "cell_type": "code",
   "execution_count": 130,
   "id": "2a271d30-590a-4d12-9314-35e7f319a343",
   "metadata": {},
   "outputs": [
    {
     "name": "stdout",
     "output_type": "stream",
     "text": [
      "30\n"
     ]
    }
   ],
   "source": [
    "result = calc('add',10,20)\n",
    "print(result)"
   ]
  },
  {
   "cell_type": "code",
   "execution_count": 131,
   "id": "569c83b8-37de-4e6a-9ad9-757c5cccb707",
   "metadata": {},
   "outputs": [],
   "source": [
    "add = lambda a,b = 4:print(a+b)"
   ]
  },
  {
   "cell_type": "code",
   "execution_count": 134,
   "id": "b6dc79f9-c61e-499a-b60d-dc3ac31b323c",
   "metadata": {},
   "outputs": [
    {
     "name": "stdout",
     "output_type": "stream",
     "text": [
      "9\n"
     ]
    }
   ],
   "source": [
    "add(3,6)"
   ]
  },
  {
   "cell_type": "code",
   "execution_count": 135,
   "id": "5c8a2b25-47bb-48a4-a4fc-2ad0e0bc6c24",
   "metadata": {},
   "outputs": [],
   "source": [
    "#전역변수 : 멤버변수 : 프로그램 내에 있는 변수, 프로그램 어디서든 사용가능, 함수안에서 사용가능\n",
    "#지역변수 : 메서드안에 있는 변수 : 함수안의 변수"
   ]
  },
  {
   "cell_type": "code",
   "execution_count": 140,
   "id": "1c0f475b-a191-4bad-8272-16120bacb83a",
   "metadata": {},
   "outputs": [],
   "source": [
    "b=1 #전역변수\n",
    "def test3():\n",
    "    global b #this\n",
    "    b=100 #지역변수\n",
    "    c=200\n",
    "    print('함수안에서 실행된 변수 b :', b)\n",
    "    print('함수안에서 실행된 변수 c :', c)"
   ]
  },
  {
   "cell_type": "code",
   "execution_count": 142,
   "id": "708e8749-6910-4223-a675-b1df3a049a43",
   "metadata": {},
   "outputs": [
    {
     "name": "stdout",
     "output_type": "stream",
     "text": [
      "100\n",
      "함수안에서 실행된 변수 b : 100\n",
      "함수안에서 실행된 변수 c : 200\n",
      "100\n"
     ]
    }
   ],
   "source": [
    "print(b)\n",
    "test3()\n",
    "print(b)"
   ]
  },
  {
   "cell_type": "code",
   "execution_count": 16,
   "id": "270f0f47-c7c2-47aa-9eb4-d140e921f64d",
   "metadata": {},
   "outputs": [],
   "source": [
    "##파일 입출력 : open\n",
    "#open(file, moder='r', buffering=None, encoding=None, errors=None, newline=None, closefd=True) -> default값\n",
    "f = open(encoding='utf-8', file='test.txt',mode='w')"
   ]
  },
  {
   "cell_type": "code",
   "execution_count": 22,
   "id": "88be58ff-9f25-4823-a07f-6fef4d08fa2f",
   "metadata": {},
   "outputs": [],
   "source": [
    "#f = open(C:\\Users\\sdedu\\Documents\\GitHub\\Soldesk\\Python)\n",
    "f= open('test.txt', 'w', encoding='utf-8') #w : overwrite"
   ]
  },
  {
   "cell_type": "code",
   "execution_count": 23,
   "id": "404943b3-b003-49bb-9ffa-6f7151ed07e9",
   "metadata": {},
   "outputs": [],
   "source": [
    "f.write('첫번째 줄\\n')\n",
    "f.write('두번째 줄\\n')\n",
    "f.write('세번째 줄\\n')\n",
    "f.write('네번째 줄\\n')\n",
    "f.write('다섯번째 줄\\n')\n",
    "f.close()"
   ]
  },
  {
   "cell_type": "code",
   "execution_count": 27,
   "id": "7b5e948a-76ad-40f8-8e05-77102e384408",
   "metadata": {},
   "outputs": [],
   "source": [
    "f = open('test.txt','a',encoding='utf-8')"
   ]
  },
  {
   "cell_type": "code",
   "execution_count": 28,
   "id": "ed1a2fc4-bd75-4a02-bb93-6b60fcb798c6",
   "metadata": {},
   "outputs": [],
   "source": [
    "for i in range(6,11):\n",
    "    f.write(f'{i}번째줄\\n')\n",
    "f.close()"
   ]
  },
  {
   "cell_type": "code",
   "execution_count": 35,
   "id": "5f624962-d0e6-4be8-adab-c3a2bdf97911",
   "metadata": {},
   "outputs": [],
   "source": [
    "f = open('test.txt','r',encoding='utf-8')"
   ]
  },
  {
   "cell_type": "code",
   "execution_count": 36,
   "id": "ee97baa1-8405-4c93-88de-6b3dcce77c4d",
   "metadata": {},
   "outputs": [
    {
     "name": "stdout",
     "output_type": "stream",
     "text": [
      "첫번째 줄\n",
      "\n",
      "두번째 줄\n",
      "\n",
      "세번째 줄\n",
      "\n",
      "네번째 줄\n",
      "\n"
     ]
    }
   ],
   "source": [
    "line = f.readline()\n",
    "print(line)\n",
    "line = f.readline()\n",
    "print(line)\n",
    "line = f.readline()\n",
    "print(line)\n",
    "line = f.readline()\n",
    "print(line)\n",
    "f.close()"
   ]
  },
  {
   "cell_type": "code",
   "execution_count": 39,
   "id": "27a40632-0c7c-49b9-b0b2-a3331db738a3",
   "metadata": {},
   "outputs": [],
   "source": [
    "f = open('test.txt','r',encoding='utf-8')\n",
    "while True:\n",
    "    line = f.readline()\n",
    "    if not line:\n",
    "        break;\n",
    "f.close()"
   ]
  },
  {
   "cell_type": "code",
   "execution_count": 41,
   "id": "cb687a20-d1a8-45c7-8708-53d1809b9cb8",
   "metadata": {},
   "outputs": [
    {
     "name": "stdout",
     "output_type": "stream",
     "text": [
      "['첫번째 줄\\n', '두번째 줄\\n', '세번째 줄\\n', '네번째 줄\\n', '다섯번째 줄\\n', '6번째줄\\n', '7번째줄\\n', '8번째줄\\n', '9번째줄\\n', '10번째줄\\n', '6번째줄\\n', '7번째줄\\n', '8번째줄\\n', '9번째줄\\n', '10번째줄\\n']\n",
      "첫번째 줄\n",
      "두번째 줄\n",
      "세번째 줄\n",
      "네번째 줄\n",
      "다섯번째 줄\n",
      "6번째줄\n",
      "7번째줄\n",
      "8번째줄\n",
      "9번째줄\n",
      "10번째줄\n",
      "6번째줄\n",
      "7번째줄\n",
      "8번째줄\n",
      "9번째줄\n",
      "10번째줄\n",
      "\n"
     ]
    }
   ],
   "source": [
    "f = open('test.txt','r',encoding='utf-8')\n",
    "lines=f.readlines()\n",
    "print(lines)\n",
    "print(''.join(lines))\n",
    "f.close()"
   ]
  },
  {
   "cell_type": "code",
   "execution_count": 43,
   "id": "aac6b3d9-00ef-41aa-a525-21db4b835ae6",
   "metadata": {},
   "outputs": [
    {
     "name": "stdout",
     "output_type": "stream",
     "text": [
      "첫번째 줄\n",
      "두번째 줄\n",
      "세번째 줄\n",
      "네번째 줄\n",
      "다섯번째 줄\n",
      "6번째줄\n",
      "7번째줄\n",
      "8번째줄\n",
      "9번째줄\n",
      "10번째줄\n",
      "6번째줄\n",
      "7번째줄\n",
      "8번째줄\n",
      "9번째줄\n",
      "10번째줄\n",
      "\n"
     ]
    }
   ],
   "source": [
    "f = open('test.txt',mode='r',encoding='utf-8')\n",
    "data = f.read()\n",
    "f.close()\n",
    "print(data)"
   ]
  },
  {
   "cell_type": "code",
   "execution_count": 45,
   "id": "b5ab5a3c-4f52-4d41-9a69-1ab1295cd22f",
   "metadata": {},
   "outputs": [],
   "source": [
    "with open(mode='w', file='test.txt', encoding='utf-8') as f:\n",
    "    for i in range(11,16):\n",
    "        f.write(f'{i}번째 줄\\n')"
   ]
  },
  {
   "cell_type": "code",
   "execution_count": 47,
   "id": "f7ff63dd-421d-4a5d-b133-429fa433955b",
   "metadata": {},
   "outputs": [
    {
     "name": "stdout",
     "output_type": "stream",
     "text": [
      "11번째 줄\n",
      "12번째 줄\n",
      "13번째 줄\n",
      "14번째 줄\n",
      "15번째 줄\n",
      "\n"
     ]
    }
   ],
   "source": [
    "with open(file='test.txt', encoding='utf-8') as f:\n",
    "    lines = f.readlines()\n",
    "print(''.join(lines))"
   ]
  },
  {
   "cell_type": "code",
   "execution_count": 50,
   "id": "70227451-04f4-480e-8fce-0e82cfacbc36",
   "metadata": {},
   "outputs": [
    {
     "name": "stdout",
     "output_type": "stream",
     "text": [
      "\n"
     ]
    }
   ],
   "source": [
    "with open(file='test.txt', encoding='utf-8') as f:\n",
    "    lines=f.readlines()\n",
    "print(''.join(lines))"
   ]
  },
  {
   "cell_type": "code",
   "execution_count": 52,
   "id": "14c32a8c-d99f-422c-9bf6-edac17aad7d8",
   "metadata": {},
   "outputs": [],
   "source": [
    "with open(mode='a',file='test.txt', encoding='utf-8') as f:\n",
    "    for i in range(16,21):\n",
    "        f.write(f'{i}번째 줄\\n')"
   ]
  },
  {
   "cell_type": "code",
   "execution_count": 54,
   "id": "0a8585ee-d5cd-4dc4-ab39-b2fccaf6ec9a",
   "metadata": {},
   "outputs": [
    {
     "name": "stdout",
     "output_type": "stream",
     "text": [
      "16번째 줄\n",
      "17번째 줄\n",
      "18번째 줄\n",
      "19번째 줄\n",
      "20번째 줄\n",
      "16번째 줄\n",
      "17번째 줄\n",
      "18번째 줄\n",
      "19번째 줄\n",
      "20번째 줄\n",
      "\n"
     ]
    }
   ],
   "source": [
    "with open(mode='r',file='test.txt', encoding='utf-8') as f:\n",
    "    data=f.read()\n",
    "print(data)"
   ]
  },
  {
   "cell_type": "code",
   "execution_count": 64,
   "id": "2e2af8b0-4a34-4caa-ac13-2cf7d32bae31",
   "metadata": {},
   "outputs": [],
   "source": [
    "#class : 변수, 그 변수를 사용하는 함수\n",
    "class TestClass:\n",
    "    b=1\n",
    "    def test3(self): #메소드\n",
    "        global b\n",
    "        b = 100\n",
    "        c=200\n",
    "        print('함수 내에서 실행되는 b : ',b)\n",
    "        print('함수 내에서 실행되는 c : ',c)"
   ]
  },
  {
   "cell_type": "code",
   "execution_count": 66,
   "id": "bbe48969-df66-4fd2-b1d7-14eb5ae1a07f",
   "metadata": {},
   "outputs": [
    {
     "name": "stdout",
     "output_type": "stream",
     "text": [
      "1\n",
      "함수 내에서 실행되는 b :  100\n",
      "함수 내에서 실행되는 c :  200\n",
      "1\n"
     ]
    }
   ],
   "source": [
    "a = TestClass()\n",
    "print(a.b)\n",
    "a.test3()\n",
    "print(a.b)"
   ]
  },
  {
   "cell_type": "code",
   "execution_count": 67,
   "id": "1cffa128-5fa7-4523-95bc-09837ce0ce80",
   "metadata": {},
   "outputs": [],
   "source": [
    "class Calculator:\n",
    "    result=0\n",
    "    first=0\n",
    "    second=0\n",
    "    def setData(self, first,second):\n",
    "        self.first = first\n",
    "        self.second = second\n",
    "    def add(self):\n",
    "        self.result = self.first + self.second\n",
    "        return self.result\n",
    "    def div(self):\n",
    "        self.result = self.first / self.second\n",
    "        return self.result"
   ]
  },
  {
   "cell_type": "code",
   "execution_count": 70,
   "id": "9ea8adf2-b6cc-47ce-816f-ebc76941bdad",
   "metadata": {},
   "outputs": [
    {
     "name": "stdout",
     "output_type": "stream",
     "text": [
      "0\n",
      "10\n"
     ]
    }
   ],
   "source": [
    "calc = Calculator()\n",
    "print(calc.first)\n",
    "calc.setData(10,20)\n",
    "print(calc.first)"
   ]
  },
  {
   "cell_type": "code",
   "execution_count": 72,
   "id": "b65c2b4f-8910-4f17-b253-9be99ad6dd7e",
   "metadata": {},
   "outputs": [],
   "source": [
    "class Calculator:\n",
    "    def setData(self, first,second):\n",
    "        self.first = first\n",
    "        self.second = second\n",
    "    def add(self):\n",
    "        self.result = self.first + self.second\n",
    "        return self.result\n",
    "    def div(self):\n",
    "        self.result = self.first / self.second\n",
    "        return self.result"
   ]
  },
  {
   "cell_type": "code",
   "execution_count": 77,
   "id": "bce109f9-550a-4624-bc2d-3220c302beda",
   "metadata": {},
   "outputs": [
    {
     "name": "stdout",
     "output_type": "stream",
     "text": [
      "10\n",
      "30\n"
     ]
    }
   ],
   "source": [
    "calc = Calculator()\n",
    "#print(calc.first)\n",
    "calc.setData(10,20)\n",
    "print(calc.first)\n",
    "y=calc.add()\n",
    "print(y)"
   ]
  },
  {
   "cell_type": "code",
   "execution_count": 82,
   "id": "0170e978-2f4a-4315-98bc-8bacd1af8919",
   "metadata": {},
   "outputs": [],
   "source": [
    "class Calculator:\n",
    "    def __init__(self, first,second):\n",
    "        self.first = first\n",
    "        self.second = second\n",
    "    def add(self):\n",
    "        self.result = self.first + self.second\n",
    "        return self.result\n",
    "    def div(self):\n",
    "        self.result = self.first / self.second\n",
    "        return self.result"
   ]
  },
  {
   "cell_type": "code",
   "execution_count": 88,
   "id": "d818e8aa-d8db-4a23-bf52-c0f6b32e992f",
   "metadata": {},
   "outputs": [
    {
     "name": "stdout",
     "output_type": "stream",
     "text": [
      "10\n",
      "30\n"
     ]
    }
   ],
   "source": [
    "calc = Calculator(10, 20)\n",
    "print(calc.first)\n",
    "y=calc.add()\n",
    "print(y)"
   ]
  },
  {
   "cell_type": "code",
   "execution_count": 91,
   "id": "ba8b809b-b4f0-4485-a269-ff8fcedc4fb8",
   "metadata": {},
   "outputs": [
    {
     "name": "stdout",
     "output_type": "stream",
     "text": [
      "0\n",
      "10\n",
      "0.0\n"
     ]
    }
   ],
   "source": [
    "calc1 = Calculator(0,10)\n",
    "print(calc1.first)\n",
    "print(calc1.second)\n",
    "y=calc1.div()\n",
    "print(y)"
   ]
  },
  {
   "cell_type": "code",
   "execution_count": 94,
   "id": "5d14680d-b971-4bcb-a76f-bd1cd2850e7b",
   "metadata": {},
   "outputs": [
    {
     "name": "stdout",
     "output_type": "stream",
     "text": [
      "10\n",
      "0\n"
     ]
    }
   ],
   "source": [
    "calc2 = Calculator(10,0)\n",
    "print(calc2.first)\n",
    "print(calc2.second)"
   ]
  },
  {
   "cell_type": "code",
   "execution_count": 97,
   "id": "616679f9-c262-407d-9c5d-58867528a61d",
   "metadata": {},
   "outputs": [],
   "source": [
    "class FourCal(Calculator):\n",
    "    def sub(self):\n",
    "        self.result = self.first - self.second\n",
    "        return self.result\n",
    "    def mul(self):\n",
    "        self.result = self.first * self.second\n",
    "        return self.result"
   ]
  },
  {
   "cell_type": "code",
   "execution_count": 101,
   "id": "143dbf2c-52ed-407d-a46a-726c89de6d85",
   "metadata": {},
   "outputs": [
    {
     "name": "stdout",
     "output_type": "stream",
     "text": [
      "30\n",
      "-10\n",
      "0.5\n"
     ]
    }
   ],
   "source": [
    "fCal = FourCal(10,20)\n",
    "y = fCal.add()\n",
    "print(y)\n",
    "y = fCal.sub()\n",
    "print(y)\n",
    "y=fCal.div()\n",
    "print(y)"
   ]
  },
  {
   "cell_type": "code",
   "execution_count": 104,
   "id": "e032a773-680c-4ce6-9ccb-732c984d4ed9",
   "metadata": {},
   "outputs": [
    {
     "name": "stdout",
     "output_type": "stream",
     "text": [
      "10\n",
      "10\n"
     ]
    }
   ],
   "source": [
    "fCal1 = FourCal(10,0)\n",
    "y = fCal1.add()\n",
    "print(y)\n",
    "y = fCal1.sub()\n",
    "print(y)"
   ]
  },
  {
   "cell_type": "code",
   "execution_count": 105,
   "id": "784542c1-e0e4-4f59-b4dd-04da96551b89",
   "metadata": {},
   "outputs": [],
   "source": [
    "class FourCal(Calculator):\n",
    "    def sub(self):\n",
    "        self.result = self.first - self.second\n",
    "        return self.result\n",
    "    def mul(self):\n",
    "        self.result = self.first * self.second\n",
    "        return self.result\n",
    "    def div(self):# 오버라이드 override : 재정의\n",
    "        if self.second==0:\n",
    "            self.result = 0\n",
    "        else:\n",
    "            self.result=self.first / self.second\n",
    "        return self.result"
   ]
  },
  {
   "cell_type": "code",
   "execution_count": 106,
   "id": "6b64b0b7-4cb2-4249-8bdd-ddcce173535e",
   "metadata": {},
   "outputs": [
    {
     "name": "stdout",
     "output_type": "stream",
     "text": [
      "0\n"
     ]
    }
   ],
   "source": [
    "fCal2 = FourCal(10,0)\n",
    "y = fCal2.div()\n",
    "print(y)"
   ]
  }
 ],
 "metadata": {
  "kernelspec": {
   "display_name": "Python 3 (ipykernel)",
   "language": "python",
   "name": "python3"
  },
  "language_info": {
   "codemirror_mode": {
    "name": "ipython",
    "version": 3
   },
   "file_extension": ".py",
   "mimetype": "text/x-python",
   "name": "python",
   "nbconvert_exporter": "python",
   "pygments_lexer": "ipython3",
   "version": "3.12.1"
  }
 },
 "nbformat": 4,
 "nbformat_minor": 5
}
