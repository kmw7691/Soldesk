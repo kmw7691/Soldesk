{
 "cells": [
  {
   "cell_type": "code",
   "execution_count": 1,
   "id": "7c1a5af6-3297-4ad9-924d-3d81d73cd88b",
   "metadata": {},
   "outputs": [
    {
     "ename": "SyntaxError",
     "evalue": "incomplete input (2943523103.py, line 2)",
     "output_type": "error",
     "traceback": [
      "\u001b[1;36m  Cell \u001b[1;32mIn[1], line 2\u001b[1;36m\u001b[0m\n\u001b[1;33m    def f(x):\u001b[0m\n\u001b[1;37m             ^\u001b[0m\n\u001b[1;31mSyntaxError\u001b[0m\u001b[1;31m:\u001b[0m incomplete input\n"
     ]
    }
   ],
   "source": [
    "#함수 : x의 변화에 따른 y가 어떻게 변하는지 알기위해\n",
    "'''\n",
    "def f(x):\n",
    "    return \n",
    "'''"
   ]
  },
  {
   "cell_type": "code",
   "execution_count": 2,
   "id": "171922b9-1016-432e-a499-b59231829457",
   "metadata": {},
   "outputs": [],
   "source": [
    "'''\n",
    "f(x1,x2) = x1 *3 + x2*5 +10\n",
    "y=(3,5)일때 y값은?\n",
    "y=(4,6)일때 y값은?\n",
    "'''\n",
    "def f(x1,x2):\n",
    "    return x1 *3 + x2*5 +10"
   ]
  },
  {
   "cell_type": "code",
   "execution_count": 7,
   "id": "0ea72611-5f9e-4026-8832-186035218784",
   "metadata": {},
   "outputs": [
    {
     "name": "stdout",
     "output_type": "stream",
     "text": [
      "44\n",
      "52\n"
     ]
    }
   ],
   "source": [
    "y=f(3,5)\n",
    "print(y)\n",
    "y=f(4,6)\n",
    "print(y)"
   ]
  },
  {
   "cell_type": "code",
   "execution_count": 9,
   "id": "8fc51bf5-2c40-4ca7-9c4f-800b6cd9f4ff",
   "metadata": {},
   "outputs": [],
   "source": [
    "#함수정의\n",
    "'''\n",
    "def 함수명(파라미터1, 파라미터2, ... 파라미터n):\n",
    "    명령어~~\n",
    "    명령어2~~\n",
    "    ...\n",
    "    명령어n~~\n",
    "    return 결과값\n",
    "\n",
    "변수 = 함수명(argument1m argument2, ... argument_n)\n",
    "print(변수)\n",
    "'''\n",
    "def add(x1,x2):\n",
    "    result = x1+x2\n",
    "    return result"
   ]
  },
  {
   "cell_type": "code",
   "execution_count": 11,
   "id": "b3c68e76-233e-4f08-bd38-e8ed35c4dc01",
   "metadata": {},
   "outputs": [
    {
     "name": "stdout",
     "output_type": "stream",
     "text": [
      "8\n"
     ]
    }
   ],
   "source": [
    "y = add(3,5) #3,5 : argument, 인자, 실인자 : 호출함수\n",
    "print(y)\n",
    "#parameter와 argument는 1대1대응을 하므로 갯수는 서로 같아야한다\n",
    "#피호출함수가 먼저 실행된후 호출함수를 사용한다"
   ]
  },
  {
   "cell_type": "code",
   "execution_count": 12,
   "id": "92bf60bf-d9de-49f7-b75b-73a7bbd35189",
   "metadata": {},
   "outputs": [
    {
     "name": "stdout",
     "output_type": "stream",
     "text": [
      "3*1 = 3\n",
      "3*2 = 6\n",
      "3*3 = 9\n",
      "3*4 = 12\n",
      "3*5 = 15\n",
      "3*6 = 18\n",
      "3*7 = 21\n",
      "3*8 = 24\n",
      "3*9 = 27\n"
     ]
    }
   ],
   "source": [
    "for gob in range(1,10):\n",
    "    print(f'3*{gob} = {3*gob}')"
   ]
  },
  {
   "cell_type": "code",
   "execution_count": 13,
   "id": "49134e27-548b-4da0-9d6e-459ea46b87cf",
   "metadata": {},
   "outputs": [],
   "source": [
    "def dan3(): #반복적으로 사용하는 명령어를 함수만들어 사용\n",
    "    for gob in range(1,10):\n",
    "        print(f'3*{gob} = {3*gob}')"
   ]
  },
  {
   "cell_type": "code",
   "execution_count": 15,
   "id": "921e940b-3055-4e15-bcf1-0f602e1121d0",
   "metadata": {},
   "outputs": [
    {
     "name": "stdout",
     "output_type": "stream",
     "text": [
      "3*1 = 3\n",
      "3*2 = 6\n",
      "3*3 = 9\n",
      "3*4 = 12\n",
      "3*5 = 15\n",
      "3*6 = 18\n",
      "3*7 = 21\n",
      "3*8 = 24\n",
      "3*9 = 27\n"
     ]
    }
   ],
   "source": [
    "dan3()"
   ]
  },
  {
   "cell_type": "code",
   "execution_count": 17,
   "id": "985a4618-e635-4661-a811-4e22ae41fead",
   "metadata": {},
   "outputs": [],
   "source": [
    "def gugudan(dan):\n",
    "    for gob in range(1,10):\n",
    "        print(f'{dan}*{gob} = {dan*gob}')"
   ]
  },
  {
   "cell_type": "code",
   "execution_count": 7,
   "id": "23fd7680-c226-4f23-805a-a1f38472338e",
   "metadata": {},
   "outputs": [],
   "source": [
    "#dan=int(('단을 입력해주세요 : '))\n",
    "#gugudan(dan)"
   ]
  },
  {
   "cell_type": "code",
   "execution_count": 9,
   "id": "6d18df0c-4531-47b3-98ab-81f50524d1b2",
   "metadata": {},
   "outputs": [],
   "source": [
    "def add(x1,x2):\n",
    "    return x1+x2"
   ]
  },
  {
   "cell_type": "code",
   "execution_count": 11,
   "id": "37be9cd4-a377-4de8-a8a4-c5283b49efea",
   "metadata": {},
   "outputs": [
    {
     "name": "stdout",
     "output_type": "stream",
     "text": [
      "8\n"
     ]
    }
   ],
   "source": [
    "result = add(3,5)\n",
    "print(result)"
   ]
  },
  {
   "cell_type": "code",
   "execution_count": 14,
   "id": "437ef3ca-d37b-4582-ad15-496df4572549",
   "metadata": {},
   "outputs": [],
   "source": [
    "def add():\n",
    "    x1 = int(input('값1 입력 : '))\n",
    "    x2 = int(input('값2 입력 : '))\n",
    "    return x1+x2"
   ]
  },
  {
   "cell_type": "code",
   "execution_count": 15,
   "id": "dae3a32e-0620-4b28-b133-921b175c1d82",
   "metadata": {},
   "outputs": [
    {
     "name": "stdin",
     "output_type": "stream",
     "text": [
      "값1 입력 :  3\n",
      "값2 입력 :  5\n"
     ]
    },
    {
     "name": "stdout",
     "output_type": "stream",
     "text": [
      "8\n"
     ]
    }
   ],
   "source": [
    "result = add()\n",
    "print(result)"
   ]
  },
  {
   "cell_type": "code",
   "execution_count": 16,
   "id": "07ac0249-b1cc-4d8f-9147-920d5398f367",
   "metadata": {},
   "outputs": [],
   "source": [
    "#3.입력값(parameter)는 있고 출력값이 없는경우\n",
    "def add(x1,x2):\n",
    "    print(x1+x2)\n",
    "    return"
   ]
  },
  {
   "cell_type": "code",
   "execution_count": 18,
   "id": "c768aca4-1d9a-4c9b-a3e5-eb47be56bd3c",
   "metadata": {},
   "outputs": [
    {
     "name": "stdin",
     "output_type": "stream",
     "text": [
      "숫자1입력 :  3\n",
      "숫자2입력 :  5\n"
     ]
    },
    {
     "name": "stdout",
     "output_type": "stream",
     "text": [
      "8\n"
     ]
    }
   ],
   "source": [
    "i = int(input('숫자1입력 : '))\n",
    "j = int(input('숫자2입력 : '))\n",
    "add(i,j)"
   ]
  },
  {
   "cell_type": "code",
   "execution_count": 23,
   "id": "5606baa2-5861-4080-aedf-70fa3f69aa3f",
   "metadata": {},
   "outputs": [],
   "source": [
    "#4.입력값(parameter)랑 출력값이 둘다없는경우\n",
    "def add():\n",
    "    x1 = int(input('숫자1입력 : '))\n",
    "    x2 = int(input('숫자2입력 : '))\n",
    "    print(x1 + x2)"
   ]
  },
  {
   "cell_type": "code",
   "execution_count": 25,
   "id": "20e453ed-cdb8-4a96-8b86-a7c4937af545",
   "metadata": {},
   "outputs": [
    {
     "name": "stdin",
     "output_type": "stream",
     "text": [
      "숫자1입력 :  3\n",
      "숫자2입력 :  5\n"
     ]
    },
    {
     "name": "stdout",
     "output_type": "stream",
     "text": [
      "8\n"
     ]
    }
   ],
   "source": [
    "result = add()"
   ]
  },
  {
   "cell_type": "code",
   "execution_count": 29,
   "id": "589c08f0-bb1e-4e08-8e1a-95709fc56535",
   "metadata": {},
   "outputs": [],
   "source": [
    "def guguDan():\n",
    "    startDan = int(input('시작단 입력 : '))\n",
    "    endDan = int(input('끝단 입력 : '))\n",
    "    startGob = int(input('시작곱 입력 : '))\n",
    "    endGob = int(input('끝곱 입력 : '))\n",
    "    for dan in range(startDan, endDan+1):\n",
    "        for gob in range(startGob, endGob+1):\n",
    "            print(f'{dan} * {gob} = {dan*gob}')"
   ]
  },
  {
   "cell_type": "code",
   "execution_count": 31,
   "id": "93cf315c-617e-4672-b884-43a8c03ce2b5",
   "metadata": {},
   "outputs": [
    {
     "name": "stdin",
     "output_type": "stream",
     "text": [
      "시작단 입력 :  3\n",
      "끝단 입력 :  4\n",
      "시작곱 입력 :  3\n",
      "끝곱 입력 :  4\n"
     ]
    },
    {
     "name": "stdout",
     "output_type": "stream",
     "text": [
      "3 * 3 = 9\n",
      "3 * 4 = 12\n",
      "4 * 3 = 12\n",
      "4 * 4 = 16\n"
     ]
    }
   ],
   "source": [
    "guguDan()"
   ]
  }
 ],
 "metadata": {
  "kernelspec": {
   "display_name": "Python 3 (ipykernel)",
   "language": "python",
   "name": "python3"
  },
  "language_info": {
   "codemirror_mode": {
    "name": "ipython",
    "version": 3
   },
   "file_extension": ".py",
   "mimetype": "text/x-python",
   "name": "python",
   "nbconvert_exporter": "python",
   "pygments_lexer": "ipython3",
   "version": "3.12.1"
  }
 },
 "nbformat": 4,
 "nbformat_minor": 5
}
