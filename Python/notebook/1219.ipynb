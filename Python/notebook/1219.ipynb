{
 "cells": [
  {
   "cell_type": "code",
   "execution_count": 23,
   "id": "484afeb8-338a-47da-a486-408d6bc44cd2",
   "metadata": {},
   "outputs": [
    {
     "name": "stdout",
     "output_type": "stream",
     "text": [
      "10\n",
      "10 20\n",
      "10 20 30 40\n",
      "곽민우의 나이는 20살이고 곽민우의 키는 173.5입니다\n",
      "곽민우의 나이는 20살이고 곽민우의 키는 173.5입니다\n",
      "곽민우의 나이는 20살이고 곽민우의 키는 173.5입니다\n",
      "곽민우의 나이는 20살이고 키는 \n",
      "곽민우       의 나이는 0000000020살이고 곽민우       의 키는 173.500000입니다\n",
      "\n",
      "\n",
      "곽민우!!!!!!!의 나이는 0000200000살이고 곽민우       의 키는 173.500000입니다\n"
     ]
    }
   ],
   "source": [
    "print('{}'.format(10))\n",
    "print('{} {}'.format(10, 20))\n",
    "print('{} {} {} {}'.format(10,20,30,40))\n",
    "print('곽민우의 나이는 20살이고 곽민우의 키는 173.5입니다')\n",
    "print('{}의 나이는 {}살이고 {}의 키는 {}입니다'.format('곽민우', 20, '곽민우', 173.5))\n",
    "print('{0}의 나이는 {1}살이고 {0}의 키는 {2}입니다'.format('곽민우', 20, 173.5))\n",
    "#\n",
    "print('{}의 나이는 {}살이고 키는 '.format('곽민우', 20, 173.5))\n",
    "print('{0:<10}의 나이는 {1:010d}살이고 {0:10}의 키는 {2:0>10f}입니다'.format('곽민우', 20, 173.5))\n",
    "#\n",
    "print('\\n')\n",
    "print('{0:!<10}의 나이는 {1:0^10d}살이고 {0:10}의 키는 {2:0>10f}입니다'.format('곽민우', 20, 173.5))"
   ]
  },
  {
   "cell_type": "code",
   "execution_count": 51,
   "id": "20968e94-ed80-421d-9a23-5abaaf1ace6f",
   "metadata": {},
   "outputs": [
    {
     "name": "stdout",
     "output_type": "stream",
     "text": [
      "+52\n",
      "-52\n",
      "-52\n",
      "-52\n",
      " 52\n",
      "-52\n",
      "        52\n",
      "        52\n",
      "       +52\n",
      "       -52\n",
      "0000000052\n",
      "+000000052\n",
      "-000000052\n",
      "-523333333\n",
      "-52!!!!!!!\n"
     ]
    }
   ],
   "source": [
    "print('{:+d}'.format(52)) # + : 기호를 출력\n",
    "print('{:+d}'.format(-52))\n",
    "print('{}'.format(-52))\n",
    "print('{0}'.format(-52))\n",
    "print('{: }'.format(52))\n",
    "print('{: }'.format(-52))\n",
    "print('{:10}'.format(52))\n",
    "print('{:10d}'.format(52))\n",
    "print('{:+10d}'.format(52))\n",
    "print('{:+10d}'.format(-52))\n",
    "print('{:010}'.format(52))\n",
    "print('{:+010}'.format(52))\n",
    "print('{:+010d}'.format(-52))\n",
    "print('{:3<10}'.format(-52))# 정렬해주면 문자나 숫자로 채울수도 있음\n",
    "print('{:!<10}'.format(-52))"
   ]
  },
  {
   "cell_type": "code",
   "execution_count": 63,
   "id": "baa1d5b8-e08c-4e1b-a8e6-63c447d4e518",
   "metadata": {},
   "outputs": [
    {
     "name": "stdout",
     "output_type": "stream",
     "text": [
      "173.5\n",
      "     173.5\n",
      "173.500000\n",
      "     173.5\n",
      "    173.50\n",
      "   173.500\n",
      "173.500   \n",
      "   173.500\n",
      "173.500000\n",
      "173\n",
      "173\n"
     ]
    }
   ],
   "source": [
    "print('{}'.format(173.5))\n",
    "print('{:10}'.format(173.5))\n",
    "print('{:10f}'.format(173.5))\n",
    "print('{:10.1f}'.format(173.5))\n",
    "print('{:10.2f}'.format(173.5))\n",
    "print('{:10.3f}'.format(173.5))\n",
    "print('{:<10.3f}'.format(173.5))\n",
    "print('{:>10.3f}'.format(173.5))\n",
    "print('{:>3f}'.format(173.5))\n",
    "print('{:g}'.format(173.0)) # 소숫점 아래가 0일때 소숫점 자리 가릴수 잇음\n",
    "print('{:g}'.format(173.0000000))"
   ]
  },
  {
   "cell_type": "code",
   "execution_count": 66,
   "id": "e0838373-574f-4ac1-81e4-725165f6b602",
   "metadata": {},
   "outputs": [],
   "source": [
    "#기본 자료형 : 리터럴 : 숫자 : 정수 : 10\n",
    "#                             실수 : 소숫점. 10.5\n",
    "#                             문자열 : 영어, 프랑스어, ...\n",
    "# 파이썬 자료형 : 리스트 : 모든 타입들을 여러개 저장할 수 있다\n",
    "#                 list : 제네릭타입이 object로 되어있는 리스트와 같다\n",
    "#'''\n",
    "#List<Object> list = new ArrayList<Object>();\n",
    "#list.add(10)\n",
    "#list.add(20)\n",
    "#list.add('곽민우')\n",
    "#'''\n",
    "l = []\n",
    "l = [1,2,3,4,5,6] #정수형리스트\n",
    "l = [10,52,25.2,36.1] #실수형리스트\n",
    "l = ['홍길동', '이길동', '박길동'] #문자열형리스트\n",
    "l = ['홍길동', '이길동',1,2,3,4.2,5.3] #혼합형리스트\n",
    "l = ['홍길동', '이길동',1,2,3,4.2,5.3, [10,20,30]] #리스트를 포함한 혼합형 리스트\n",
    "l = [[1,2,3], [4,5,6], [7,8,9]] #리스트를 포함한 리스트\n",
    "# 리스트 안에 있는 값을 '요소'라고 한다"
   ]
  },
  {
   "cell_type": "code",
   "execution_count": 73,
   "id": "4df26a17-f3c3-4eb7-97a0-942d5a7d6fd5",
   "metadata": {},
   "outputs": [
    {
     "name": "stdout",
     "output_type": "stream",
     "text": [
      "['Life', 'is', 'too', 'short']\n",
      "[1, 2, 3, 4, 5, 6]\n",
      "['Life', 'is', 'too', 'short']\n",
      "10\n",
      "곽민우\n",
      "['Life', 'is', 'too', 'short']\n"
     ]
    }
   ],
   "source": [
    "print(l)\n",
    "l=[1,2,3,4,5,6]\n",
    "print(l)\n",
    "l=['Life', 'is', 'too', 'short'] #['Life', 'is', 'too', 'short']\n",
    "print(l)\n",
    "i=10\n",
    "print(i) #10\n",
    "str1 = '곽민우' #곽민우\n",
    "print(str1)\n",
    "str4 = 'Life is too short'\n",
    "result = str4.split()\n",
    "print(result) #['Life', 'is', 'too', 'short'] : 리스트로 출력됨"
   ]
  },
  {
   "cell_type": "code",
   "execution_count": 79,
   "id": "e55480ec-537f-4451-89c0-4a3ee9e186bd",
   "metadata": {},
   "outputs": [
    {
     "name": "stdout",
     "output_type": "stream",
     "text": [
      "Life is too short\n",
      "e\n",
      "['Life', 'is', 'too', 'short']\n",
      "Life\n",
      "Life\n"
     ]
    }
   ],
   "source": [
    "str4 = 'Life is too short'\n",
    "print(str4)\n",
    "#Life is too short\n",
    "#01234567890123456\n",
    "print(str4[3])\n",
    "print(l)\n",
    "#['Life', 'is', 'too', 'short']\n",
    "#    0     1      2      3\n",
    "#   -4    -3     -2     -1\n",
    "print(l[0]) #list.get(index)\n",
    "print(l[-4])"
   ]
  },
  {
   "cell_type": "code",
   "execution_count": 98,
   "id": "174bfe8b-4946-4f62-b030-44b9e225c86d",
   "metadata": {},
   "outputs": [
    {
     "name": "stdout",
     "output_type": "stream",
     "text": [
      "[1, 2, 3, 'Life', [4, 5], 'is', [6], 'too', 0.5, 'short', '30']\n",
      "1\n",
      "2\n",
      "Life\n",
      "[4, 5]\n",
      "is\n",
      "[6]\n",
      "too\n",
      "0.5\n",
      "short\n",
      "5\n",
      "Lifetoo\n",
      "Lifetoo\n",
      "30\n",
      "Life30\n",
      "230\n",
      "32\n",
      "LifeLifeLife\n"
     ]
    }
   ],
   "source": [
    "ll = [1,2,3,'Life',[4,5],'is',[6],'too', 0.5, 'short', '30']\n",
    "#     0 1 2    3     4     5   6    7     8      9     10\n",
    "print(ll)\n",
    "print(ll[0]) #정수\n",
    "print(ll[1]) #정수\n",
    "print(ll[3]) #문자\n",
    "print(ll[4]) #리스트\n",
    "print(ll[5]) #문자\n",
    "print(ll[6]) #리스트\n",
    "print(ll[7]) #문자\n",
    "print(ll[8]) #실수\n",
    "print(ll[9]) #문자\n",
    "#\n",
    "print(ll[1] + ll[2]) #정수 + 정수\n",
    "#리스트에서 요소를 사용하는 경우에는 요소가 가진 자료형으로 사용할 수 있다\n",
    "print(ll[3] + ll[7]) #문자 + 문자\n",
    "print('Life' + 'too') #위에꺼랑같음\n",
    "print(ll[10]) #30 : 문자\n",
    "print(ll[3] + ll[10]) #정수 + 문자\n",
    "print(str(ll[1]) + ll[10]) #문자 + 문자\n",
    "print(ll[1] + int(ll[10])) #정수 + 정수\n",
    "print(ll[3] * ll[2]) #문자 * 정수"
   ]
  },
  {
   "cell_type": "code",
   "execution_count": 108,
   "id": "c6111981-1ff1-4e6c-9c19-5211c2752b3f",
   "metadata": {},
   "outputs": [
    {
     "name": "stdout",
     "output_type": "stream",
     "text": [
      "['a', 'b', 'c']\n",
      "c\n",
      "c\n",
      "c\n",
      "c\n",
      "c\n"
     ]
    }
   ],
   "source": [
    "a = [1,2,3,['a','b','c'],4]\n",
    "#    0 1 2       3       4\n",
    "#   -5-4-3      -2      -1\n",
    "b = a[3]\n",
    "print(b) #['a', 'b', 'c']\n",
    "#           0    1    2\n",
    "#          -3   -2   -1\n",
    "print(b[2]) #c\n",
    "print(a[3][2]) #c\n",
    "print(a[-2][-1]) #c\n",
    "print(a[3][-1]) #c\n",
    "print(a[-2][2]) #c"
   ]
  },
  {
   "cell_type": "code",
   "execution_count": 112,
   "id": "b991fa82-2885-4ddd-a905-9e15e8c6c448",
   "metadata": {},
   "outputs": [
    {
     "name": "stdout",
     "output_type": "stream",
     "text": [
      "is\n",
      "s\n"
     ]
    }
   ],
   "source": [
    "a = [1,2,3,['a','b',['Life','is']],4]\n",
    "#    0 1 2          3            4\n",
    "#            0   1       2\n",
    "#                      0     1\n",
    "print(a[3][2][1])\n",
    "print(a[3][2][1][1])"
   ]
  },
  {
   "cell_type": "code",
   "execution_count": 130,
   "id": "b34d9e3c-07f4-457a-9133-63bd3c6173a5",
   "metadata": {},
   "outputs": [
    {
     "name": "stdout",
     "output_type": "stream",
     "text": [
      "L\n",
      "i\n",
      "f\n",
      "e\n",
      "Life\n",
      "Life\n",
      "fe\n",
      "\n",
      "f\n",
      "\n",
      "\n",
      "1\n",
      "2\n",
      "[1, 2]\n",
      "[1, 2]\n",
      "[]\n",
      "[2]\n",
      "2\n",
      "[1, 2, 2]\n",
      "[1, 2, 1, 2]\n"
     ]
    }
   ],
   "source": [
    "#리스트의 슬라이싱\n",
    "str4 = 'Life is too short'\n",
    "#                 1111111\n",
    "#       01234567890123456\n",
    "print(str4[0])\n",
    "print(str4[1])\n",
    "print(str4[2])\n",
    "print(str4[3])\n",
    "print(str4[0]+str4[1]+str4[2]+str4[3])\n",
    "#slicing\n",
    "print(str4[0:4])\n",
    "print(str4[2:2+2])\n",
    "print(str4[2:2]) #nothing\n",
    "print(str4[2:2+1])\n",
    "#\n",
    "print('\\n')\n",
    "l = [1,2,3,4]\n",
    "#    0 1 2 3 \n",
    "print(l[0])\n",
    "print(l[1])\n",
    "print(l[0:0+2])\n",
    "print(l[0:2])\n",
    "print(l[1:1]) #빈리스트\n",
    "print(l[1:1+1]) #[2] : 요소가 하나인 리스트 : slicing을 하면 요소를 하나만 가져와도 리스트가 된다\n",
    "###slicing을 하면 결과는 리스트다###\n",
    "print(l[1]) #2 : indexing을 하면 요소 자료형으로 가져온다\n",
    "\n",
    "#print(l[1:1+1] + l[1]) #리스트 + 정수 = 에러발생\n",
    "print(l[0:2] + l[1:1+1]) #리스트 + 리스트 : [1, 2, 2] : +는 문자열처럼 연결연산자 역할을 한다\n",
    "print(l[0:2] * l[1]) #리스트 * 정수 : [1, 2, 1, 2] : *도 문자열처럼 반복연산자 역할을 한다\n",
    "#형 변환 함수 : str() int() list()"
   ]
  },
  {
   "cell_type": "code",
   "execution_count": 141,
   "id": "c188970e-5e63-412b-a15d-0fc941fd9f98",
   "metadata": {},
   "outputs": [
    {
     "name": "stdout",
     "output_type": "stream",
     "text": [
      "['Life', 'is', 'too', 'short']\n",
      "['Life', 'is', 'too', 'short']\n",
      "Life\n",
      "is\n",
      "['Life']\n",
      "Lifeis\n",
      "['Life', 'i', 's']\n",
      "['Life']is\n",
      "Lifeis\n",
      "['Life', 'is', 'too', 'short']\n",
      "Life is too short\n"
     ]
    }
   ],
   "source": [
    "result = ['Life','is','too','short']\n",
    "#            0     1    2      3\n",
    "print(result)\n",
    "print(result[:])\n",
    "print(result[0]) #Life\n",
    "print(result[1]) #is\n",
    "print(result[0:0+1]) #['Life']\n",
    "print(result[0] + result[1]) #문자 + 문자 : Lifeis\n",
    "#print(result[0:0+1] + result[1]) #리스트 + 문자 : 에러\n",
    "print(result[0:0+1] + list(result[1])) #['Life', 'i', 's']\n",
    "print(str(result[0:0+1]) + result[1]) #문자열 + 문자열 : ['Life']is\n",
    "#\n",
    "print(\"\".join(result[0:0+1]) + result[1]) #문자열 + 문자열 : Lifeis\n",
    "print(result) # ['Life', 'is', 'too', 'short'] => Life is too short\n",
    "print(' '.join(result))"
   ]
  },
  {
   "cell_type": "code",
   "execution_count": 164,
   "id": "74ab0b19-aeb6-4b2d-882e-6915845ebce6",
   "metadata": {},
   "outputs": [
    {
     "name": "stdout",
     "output_type": "stream",
     "text": [
      "Li\n",
      "['Life', 'is']\n",
      "Li\n",
      "['Life', 'is']\n",
      "is too short\n",
      "['too', 'short']\n",
      "Life is too short\n",
      "['Life', 'is', 'too', 'short']\n",
      "Lf stosot\n",
      "['Life', 'too']\n",
      "trohs oot si efiL\n",
      "['short', 'too', 'is', 'Life']\n",
      "fe is too sh\n",
      "hs oot si ef\n",
      "['is', 'too', 'short']\n",
      "['short', 'too', 'is']\n"
     ]
    }
   ],
   "source": [
    "str1 = 'Life is too short'\n",
    "#                 1111111\n",
    "#       01234567890123456\n",
    "result = ['Life','is','too','short']\n",
    "#           0      1    2      3\n",
    "print(str1[0:2])\n",
    "print(result[0:2])\n",
    "print(str1[:2])\n",
    "print(result[:2])\n",
    "print(str1[5:])\n",
    "print(result[2:])\n",
    "print(str1[:])\n",
    "print(result[:])\n",
    "print(str1[::2])\n",
    "print(result[::2])\n",
    "print(str1[::-1])\n",
    "print(result[::-1])\n",
    "print(str1[2:14])\n",
    "print(str1[13:1:-1])\n",
    "print(result[1:4])\n",
    "print(result[3:0:-1])"
   ]
  },
  {
   "cell_type": "code",
   "execution_count": 177,
   "id": "391d84f3-e38a-48b7-bc79-ef0b10325068",
   "metadata": {},
   "outputs": [
    {
     "name": "stdout",
     "output_type": "stream",
     "text": [
      "y\n",
      "Lyfe is too short\n",
      "Life is too short\n",
      "Lyfe\n",
      "['Life', 'is', 'too', 'short']\n",
      "too\n",
      "['Life', 'is', 100, 'short']\n",
      "17\n",
      "4\n"
     ]
    }
   ],
   "source": [
    "str1 = 'Lyfe is too short'\n",
    "print(str1[1])\n",
    "result = str1.replace(\"Lyfe\", 'Life')\n",
    "print(str1)\n",
    "print(result)\n",
    "\n",
    "l4 = ['Lyfe','is','too','short']\n",
    "print(l4[0])\n",
    "l4[0] = 'Life'\n",
    "print(l4)\n",
    "\n",
    "print(l4[2]) #too\n",
    "l4[2] = 100\n",
    "print(l4)\n",
    "print(len(str1)) #문자열의 크기\n",
    "print(len(l4)) #리스트의 크기"
   ]
  },
  {
   "cell_type": "code",
   "execution_count": 187,
   "id": "15e22d03-6a80-4dec-af2e-f6214aa5ea8b",
   "metadata": {},
   "outputs": [
    {
     "name": "stdout",
     "output_type": "stream",
     "text": [
      "['Life', 'is', 'too']\n",
      "['Life', 'is']\n",
      "['Life', 'is', 'too']\n",
      "['Life', 'is', 'too', 'short']\n",
      "['Life', 'is', 'short']\n",
      "['Life', 'is', 'too', 'short']\n",
      "[1, 2, 3, 4, 5, 6]\n",
      "[1, 2, 3, 4, 5, 6]\n"
     ]
    }
   ],
   "source": [
    "#리스트함수\n",
    "#리스트에 요소 추가\n",
    "l = ['Life','is']\n",
    "#too추가\n",
    "print(l + ['too'])\n",
    "print(l)\n",
    "\n",
    "l.append('too')\n",
    "print(l)\n",
    "l.append('short')\n",
    "print(l)\n",
    "\n",
    "#원하는 위치에 요소 추가\n",
    "l = ['Life','short']\n",
    "#       0      1\n",
    "l.insert(1,'is')\n",
    "print(l) # ['Life', 'is', 'short']\n",
    "l.insert(2,'too')\n",
    "print(l)\n",
    "\n",
    "#리스트확장\n",
    "a = [1,2,3]\n",
    "b = [4,5,6]\n",
    "print(a+b) #단순히 이어붙인거. 원 데이터는 안바뀜\n",
    "a.extend(b)\n",
    "print(a)"
   ]
  },
  {
   "cell_type": "code",
   "execution_count": 206,
   "id": "5c0dc03f-7c2f-4afd-916e-560f3b132a12",
   "metadata": {},
   "outputs": [
    {
     "name": "stdout",
     "output_type": "stream",
     "text": [
      "['Life', 'is', 'too', 'short']\n",
      "['Life', 'too', 'short']\n",
      "['too', 'short']\n",
      "[]\n",
      "3\n",
      "['Life', 'is', 'too', 'short']\n",
      "['Life', 'is', 'too']\n",
      "is\n",
      "['Life', 'too']\n",
      "Life\n",
      "['too']\n"
     ]
    }
   ],
   "source": [
    "#요소 삭제\n",
    "l2 = ['Life','is','too','short',3]\n",
    "#       0      1    2      3    4\n",
    "#index를 이용해서 요소 삭제\n",
    "del l2[4]\n",
    "print(l2)\n",
    "\n",
    "#요소를 이용해서 삭제\n",
    "l2.remove('is')\n",
    "print(l2)\n",
    "l2.remove('Life')\n",
    "print(l2)\n",
    "\n",
    "#모두삭제\n",
    "l2.clear()\n",
    "print(l2)\n",
    "\n",
    "#삭제한 값 받아오기\n",
    "l2 = ['Life','is','too','short',3]\n",
    "#result = del l2[4] #error\n",
    "#result = l2.remove(3)\n",
    "result = l2.pop() \n",
    "print(result)\n",
    "print(l2) #['Life', 'is', 'too', 'short']\n",
    "result = l2.pop()\n",
    "print(l2) #['Life', 'is', 'too']\n",
    "#pop : 맨뒤의 요소 삭제\n",
    "\n",
    "#index를 이용해서 요소 삭제후 삭제된 요소 받아오기\n",
    "result = l2.pop(1)\n",
    "print(result)\n",
    "print(l2)\n",
    "\n",
    "result = l2.pop(0)\n",
    "print(result)\n",
    "print(l2) #too\n",
    "\n",
    "#복원추출 : "
   ]
  },
  {
   "cell_type": "code",
   "execution_count": 213,
   "id": "1ca01bee-0c01-4d98-9427-806970f9dd9c",
   "metadata": {},
   "outputs": [
    {
     "name": "stdout",
     "output_type": "stream",
     "text": [
      "[1, 2, 3, 4, 5]\n",
      "[5, 4, 3, 2, 1]\n",
      "['가', '나', '다']\n",
      "['a', 'b', 'c', '가', '나', '다']\n"
     ]
    }
   ],
   "source": [
    "#정렬 -- 오름차순, 내림차순\n",
    "l = [4,2,5,1,3]\n",
    "#오름차순\n",
    "l.sort()\n",
    "print(l)\n",
    "\n",
    "l = [4,2,5,1,3]\n",
    "#내림차순\n",
    "l.sort(reverse = True)\n",
    "print(l)\n",
    "\n",
    "l = ['다','가','나']\n",
    "l.sort()\n",
    "print(l)\n",
    "\n",
    "l = ['다','가','나','c','b','a']\n",
    "l.sort()\n",
    "print(l)\n",
    "\n",
    "l = ['다','가','나','c','b','a',3,5,2]\n",
    "#l.sort()  #숫자랑 문자가 같이있으면 정렬안됨"
   ]
  },
  {
   "cell_type": "code",
   "execution_count": 223,
   "id": "27c3c2cf-4997-4662-9763-76cad1f92e60",
   "metadata": {},
   "outputs": [
    {
     "name": "stdout",
     "output_type": "stream",
     "text": [
      "8\n",
      "8\n",
      "2\n"
     ]
    }
   ],
   "source": [
    "str1 = 'Life is too short'\n",
    "print(str1.find('too'))\n",
    "idx = str1.find('too')\n",
    "print(idx)\n",
    "l = ['Life','is','too','short']\n",
    "#       0     1    2      3\n",
    "idx = l.index('too')\n",
    "#idx = l.find('too') #에러 : 리스트에는 find 못씀\n",
    "print(idx)\n",
    "#idx = l.index('zoo') #에러 : 없는 거 찾을때"
   ]
  },
  {
   "cell_type": "code",
   "execution_count": 231,
   "id": "7b44fce2-1c4e-44e6-bb21-562d7dfd3cac",
   "metadata": {},
   "outputs": [
    {
     "name": "stdout",
     "output_type": "stream",
     "text": [
      "[1, 2, 3, 4]\n",
      "(1, 2, 3, 4)\n",
      "32\n",
      "2\n",
      "[2]\n",
      "2\n",
      "8\n",
      "(2,)\n",
      "(1, 2)\n"
     ]
    }
   ],
   "source": [
    "#기본자료형 : 리터럴 : 자연수 : 숫자 : 정수, 실수\n",
    "#                      자연어 : 문자열 : '' / \"\" / \"\"\" \"\"\" / ''' '''\n",
    "#파이썬 자료형\n",
    "#             리스트 : []\n",
    "#              튜플  : ()\n",
    "l = [1,2,3,4]\n",
    "print(l)\n",
    "t = (1,2,3,4)\n",
    "print(t)\n",
    "l = [] #빈 리스트\n",
    "t = () #빈 튜플\n",
    "print((3+5) * 4) #() : 최우선연산자\n",
    "print(2)\n",
    "print([2])\n",
    "print((2))\n",
    "t = (3 + 5) #8 : 최우선연산자\n",
    "print(t)\n",
    "\n",
    "t = (2,) #요소가 하나인 경우에는 최우선연산자와 구별하기 위해서 , 를 사용\n",
    "print(t)\n",
    "\n",
    "t = (1,2) #요소 두개 이상인 경우 소괄호만 사용\n",
    "print(t)"
   ]
  },
  {
   "cell_type": "code",
   "execution_count": 233,
   "id": "4e3906a0-1eab-4a3b-8f92-0032e8cf0008",
   "metadata": {},
   "outputs": [
    {
     "name": "stdout",
     "output_type": "stream",
     "text": [
      "(1, 2, 3, 4, 5)\n"
     ]
    }
   ],
   "source": [
    "l = [] #빈리스트\n",
    "t = () #빈 튜플\n",
    "l = [1] #요소가 하나인 리스트\n",
    "t = (1,) #요소가 하나인 튜플\n",
    "l = [1,2,3,4,5] #정수형 리스트\n",
    "t = (1,2,3,4,5) #정수형 튜플\n",
    "t = (10.5,2.5,30.7) #실수형 튜플\n",
    "t = ('홍길동','김길동','박길동') #문자열형 튜플\n",
    "t = (1,2,3,4,5,'홍길동','김길동','박길동',10.4) #혼합형 튜플\n",
    "t = (1,2,3,4,5,'홍길동','김길동','박길동',10.4,[6,7,8]) #리스트를 포함한 혼합형 튜플\n",
    "t = (1,2,3,4,5,'홍길동','김길동','박길동',10.4,(6,7,8)) #튜플을 포함한 혼합형 튜플\n",
    "t = (1,2,3,4,5,'홍길동','김길동','박길동',10.4,(6,7,8),[10,11,12]) #혼합형 튜플\n",
    "l = [1,2,3,4,5,'홍길동','김길동','박길동',10.4,(6,7,8),[10,11,12]] #혼합형 리스트\n",
    "t = 1,2,3,4,5 # = (1,2,3,4,5) : 튜플\n",
    "print(t)"
   ]
  },
  {
   "cell_type": "code",
   "execution_count": 236,
   "id": "a501cc2a-d7a1-440d-978d-f534076054f9",
   "metadata": {},
   "outputs": [
    {
     "name": "stdout",
     "output_type": "stream",
     "text": [
      "f\n",
      "too\n",
      "too\n",
      "if\n",
      "['is', 'too']\n",
      "('is', 'too')\n",
      "Lif\n",
      "['Life', 'is', 'too']\n",
      "('Life', 'is', 'too')\n",
      "fe is too short\n",
      "['too', 'short']\n",
      "('too', 'short')\n"
     ]
    }
   ],
   "source": [
    "str1 = 'Life is too short'\n",
    "#       01234567890123456\n",
    "#             1\n",
    "l1 = ['Life','is','too','short']\n",
    "#        0    1     2      3\n",
    "t1 = 'Life','is','too','short'\n",
    "#       0     1    2      3\n",
    "\n",
    "#indexing\n",
    "print(str1[2])\n",
    "print(l1[2])\n",
    "print(t1[2])\n",
    "\n",
    "#slicing : 문자열에서는 substr과 같다\n",
    "print(str1[1:1+2]) #자바 : str1.substr(1, 1+2)\n",
    "print(l1[1:1+2])\n",
    "print(t1[1:1+2])\n",
    "\n",
    "print(str1[:3])\n",
    "print(l1[:3])\n",
    "print(t1[:3])\n",
    "\n",
    "print(str1[2:])\n",
    "print(l1[2:])\n",
    "print(t1[2:])"
   ]
  },
  {
   "cell_type": "code",
   "execution_count": 251,
   "id": "a497bacb-0766-421e-a618-6e39e8b1a9ac",
   "metadata": {},
   "outputs": [
    {
     "name": "stdout",
     "output_type": "stream",
     "text": [
      "y\n",
      "Life is too short\n",
      "Lyfe\n",
      "Life\n",
      "['is', 'too', 'short']\n",
      "4\n",
      "1\n",
      "2\n",
      "0\n",
      "0\n"
     ]
    }
   ],
   "source": [
    "str1 = 'Lyfe is too short'\n",
    "l1 = ['Lyfe','is','too','short']\n",
    "t1 = ('Lyfe','is','too','short')\n",
    "print(str1[1])\n",
    "str1 = str1.replace('y','i')\n",
    "print(str1)\n",
    "\n",
    "print(l1[0])\n",
    "l1[0] = 'Life'\n",
    "print(l1[0])\n",
    "\n",
    "##리스트와 튜플의 차이\n",
    "#리스트는 요소를 변경할 수 있지만 튜플은 요소를 변경할 수 없다 - 자바의 상수(final 변수)\n",
    "#print(t1[0])\n",
    "#t1[0] = 'Life'\n",
    "#print(t1[0])\n",
    "\n",
    "del l1[0]\n",
    "print(l1)\n",
    "\n",
    "\n",
    "#del t1[0]\n",
    "#print(t1)\n",
    "\n",
    "print(len(t1))\n",
    "\n",
    "idx=l1.index('too')\n",
    "print(idx)\n",
    "idx=t1.index('too')\n",
    "print(idx)\n",
    "\n",
    "l = [1,1,2,2,3,4,5,6,6]\n",
    "t = (1,1,2,2,3,4,5,6,6)\n",
    "\n",
    "print(l.count(l))\n",
    "print(t.count(t))"
   ]
  },
  {
   "cell_type": "code",
   "execution_count": 256,
   "id": "ff550d94-ad71-4f23-ad3e-23ef3c6bd944",
   "metadata": {},
   "outputs": [
    {
     "name": "stdout",
     "output_type": "stream",
     "text": [
      "Life\n",
      "Life\n",
      "['is', 'too']\n",
      "('is', 'too')\n",
      "['too', 'short']\n",
      "('too', 'short')\n",
      "['is', 'too', 'too', 'short']\n",
      "('is', 'too', 'too', 'short')\n",
      "3\n",
      "3\n",
      "['is', 'too', 'is', 'too', 'is', 'too']\n",
      "('is', 'too', 'is', 'too', 'is', 'too')\n"
     ]
    }
   ],
   "source": [
    "t1 = 'Life','is','too','short',3\n",
    "l1 = ['Life','is','too','short',3]\n",
    "print(l1[0]) #문자\n",
    "print(t1[0]) #문자\n",
    "print(l1[1:3]) #리스트\n",
    "print(t1[1:3]) #튜플\n",
    "print(l1[2:4]) #리스트\n",
    "print(t1[2:4]) #튜플\n",
    "print(l1[1:3 ] + l1[2:4]) #리스트+리스트 : 연결연산\n",
    "print(t1[1:3 ] + t1[2:4]) #튜플 + 튜플 : 연결연산\n",
    "print(l1[4]) #정수\n",
    "print(t1[4]) #정수\n",
    "print(l1[1:3] * l[4]) #리스트 * 정수 : 반복연산\n",
    "print(t1[1:3] * t[4]) #튜플 * 정수 : 반복연산"
   ]
  },
  {
   "cell_type": "code",
   "execution_count": 265,
   "id": "b59f609d-dcca-44c6-8128-8946610b3dbc",
   "metadata": {},
   "outputs": [
    {
     "name": "stdout",
     "output_type": "stream",
     "text": [
      "3\n",
      "10\n",
      "['h', 'e', 'l', 'l', 'o']\n",
      "('h', 'e', 'l', 'l', 'o')\n",
      "['h', 'e', 'l', 'l', 'o']\n",
      "hello\n",
      "('h', 'e', 'l', 'l', 'o')\n",
      "hello\n",
      "h,e,l,l,o\n"
     ]
    }
   ],
   "source": [
    "#형변환함수 : int() str() list() tuple()\n",
    "str2 = 'hello'\n",
    "num = '3'\n",
    "i = 10\n",
    "print(int(num))\n",
    "print(str(i)) #문자\n",
    "print(list(str2))\n",
    "print(tuple(str2))\n",
    "l = ['h', 'e', 'l', 'l', 'o']\n",
    "print(str(l))\n",
    "print(''.join(l)) #리스트를 문자열로 형변환할 때는 join을 사용한다\n",
    "t = ('h', 'e', 'l', 'l', 'o')\n",
    "print(str(t))\n",
    "print(''.join(t))\n",
    "\n",
    "print(','.join(str2)) #h,e,l,l,o"
   ]
  }
 ],
 "metadata": {
  "kernelspec": {
   "display_name": "Python 3 (ipykernel)",
   "language": "python",
   "name": "python3"
  },
  "language_info": {
   "codemirror_mode": {
    "name": "ipython",
    "version": 3
   },
   "file_extension": ".py",
   "mimetype": "text/x-python",
   "name": "python",
   "nbconvert_exporter": "python",
   "pygments_lexer": "ipython3",
   "version": "3.12.1"
  }
 },
 "nbformat": 4,
 "nbformat_minor": 5
}
