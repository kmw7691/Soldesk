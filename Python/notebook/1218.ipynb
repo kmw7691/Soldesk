{
 "cells": [
  {
   "cell_type": "code",
   "execution_count": 3,
   "id": "e3efdfd6-ff36-4b0e-9d4f-3e2b4ada70c5",
   "metadata": {},
   "outputs": [
    {
     "name": "stdout",
     "output_type": "stream",
     "text": [
      "8\n"
     ]
    }
   ],
   "source": [
    "print(3 + 5)"
   ]
  },
  {
   "cell_type": "code",
   "execution_count": 4,
   "id": "9a7a091c-dfd0-4d66-9a16-00a2f54e2388",
   "metadata": {},
   "outputs": [
    {
     "name": "stdout",
     "output_type": "stream",
     "text": [
      "800\n"
     ]
    }
   ],
   "source": [
    "print(10*10*8)"
   ]
  },
  {
   "cell_type": "code",
   "execution_count": 13,
   "id": "31389908-e4a6-4fb7-be85-7fe30f17ca2e",
   "metadata": {},
   "outputs": [
    {
     "name": "stdout",
     "output_type": "stream",
     "text": [
      "160\n"
     ]
    }
   ],
   "source": [
    "print(20 * 8) #행단위 명령어 : 한줄 명령어"
   ]
  },
  {
   "cell_type": "code",
   "execution_count": 10,
   "id": "be93b3a5-da49-411a-b349-61e787b09020",
   "metadata": {},
   "outputs": [
    {
     "name": "stdout",
     "output_type": "stream",
     "text": [
      "10\n"
     ]
    }
   ],
   "source": [
    "i = 10; print(i) #여러개의 명령어를 한줄에 작성할때는 ;를 사용해서 명령어를 구분한다"
   ]
  },
  {
   "cell_type": "code",
   "execution_count": 20,
   "id": "a41b91a4-1039-4f8e-af1b-2fee96392ebe",
   "metadata": {},
   "outputs": [
    {
     "name": "stdout",
     "output_type": "stream",
     "text": [
      "i가 크다\n"
     ]
    }
   ],
   "source": [
    "if 10 <= i:   \n",
    "    print(\"i가 크다\") #파이썬은 들여쓰기 안하면 에러뜸"
   ]
  },
  {
   "cell_type": "code",
   "execution_count": 23,
   "id": "a4afccca-340d-4ce7-af6e-1d12c113b661",
   "metadata": {},
   "outputs": [
    {
     "name": "stdout",
     "output_type": "stream",
     "text": [
      "10\n"
     ]
    }
   ],
   "source": [
    "if i >= 10:\n",
    "    print(i)"
   ]
  },
  {
   "cell_type": "code",
   "execution_count": 31,
   "id": "b291061a-14b0-4269-86c1-d1392ae8495a",
   "metadata": {},
   "outputs": [
    {
     "name": "stdout",
     "output_type": "stream",
     "text": [
      "10\n",
      "10\n",
      "20\n",
      "50\n",
      "10.5\n",
      "10.5\n",
      "집가고싶다\n"
     ]
    }
   ],
   "source": [
    "##2.자료형\n",
    "## 기본자료형 (리터럴): 자연수 : 정수 리터럴\n",
    "##                              실수 리터럴\n",
    "#                      자연어 : 영어, 중국어, 한국어...\n",
    "#                               문자 리터럴\n",
    "print(10)\n",
    "i = 10 #정수리터럴을 가진 변수 i\n",
    "print(i)\n",
    "i=20\n",
    "print(i)\n",
    "j=30 #정수 리터널 변수\n",
    "print(i+j)\n",
    "f=10.5 #실수리터널 변수\n",
    "print(f)\n",
    "j=10.5 #파이썬은 자료형이 없어서 아무렇게나 수정 가능\n",
    "print(j)\n",
    "j=\"집가고싶다\"\n",
    "print(j)"
   ]
  },
  {
   "cell_type": "code",
   "execution_count": 37,
   "id": "f8fb69e9-cffc-4459-b493-0818758c6030",
   "metadata": {},
   "outputs": [
    {
     "name": "stdout",
     "output_type": "stream",
     "text": [
      "30\n",
      "-10\n",
      "200\n",
      "0.5\n",
      "10\n",
      "3.3333333333333335\n",
      "3\n",
      "1000\n"
     ]
    }
   ],
   "source": [
    "#숫자연산자\n",
    "i=10\n",
    "j=20\n",
    "print(i+j)\n",
    "print(i-j)\n",
    "print(i*j)\n",
    "print(i/j)\n",
    "print(i%j) #나머지연산자\n",
    "print(10 / 3) # 3.33333333\n",
    "print(10 // 3) # 3(몫 연산자)\n",
    "print(10 ** 3) # 100(제곱승 연산자)"
   ]
  },
  {
   "cell_type": "code",
   "execution_count": 50,
   "id": "c3cb48ee-76c6-44af-b5e0-7320f85fb8dd",
   "metadata": {},
   "outputs": [
    {
     "name": "stdout",
     "output_type": "stream",
     "text": [
      "10\n",
      "rhee\n",
      "곽\n",
      "20\n",
      "1010\n",
      "곽곽곽\n",
      "==============================\n",
      "제목\n",
      "==============================\n"
     ]
    }
   ],
   "source": [
    "###문자 리터널 : 파이썬에선 문자나 문자열이나 같이 취급한다\n",
    "###            : \"\", '' : 문자로 취급\n",
    "곽민우 = \"rhee\" #문자리터널과 변수를 구분하기 위해서 문자열에 \"\"을 주기로함\n",
    "#10 = \"곽민우\" 숫자는 변수로 사용 못함\n",
    "i=10\n",
    "print(i)\n",
    "print(곽민우)\n",
    "곽민우 = '곽' #''도 사용가능\n",
    "print(곽민우)\n",
    "str1 = 10 #정수리터럴\n",
    "str1 = '10' #문자리터럴\n",
    "print(10 + 10) #정수 + 정수\n",
    "print ('10' + \"10\") #문자 + 문자\n",
    "#print('10' + 10) #문자 + 정수 - 에러뜸\n",
    "print('곽' * 3) #반복연산자\n",
    "print('=' * 30)\n",
    "print('제목')\n",
    "print('=' * 30)"
   ]
  },
  {
   "cell_type": "code",
   "execution_count": 63,
   "id": "17cd007c-28c8-4a75-aac1-3f3928a09a58",
   "metadata": {},
   "outputs": [
    {
     "name": "stdout",
     "output_type": "stream",
     "text": [
      "Life is too short, You need phtyon\n",
      "Life is too short, You need phtyon\n",
      "Life's too short, You need phtyon\n",
      "Life's too short, You need phtyon\n",
      "Life is too short, \"You need\" phtyon\n",
      "Life is too short, \"You need\" phtyon\n",
      "Life's too short, \"You need\" phtyon\n",
      "\n",
      "\n",
      "\tLife is too short, You need phtyon\n",
      "Life is too short, \n",
      "You need phtyon\n"
     ]
    }
   ],
   "source": [
    "print('Life is too short, You need phtyon')\n",
    "print(\"Life is too short, You need phtyon\")\n",
    "print('Life\\'s too short, You need phtyon') #''사이에 '가 들어가도 \\(역슬래시)넣으면 사용 가능\n",
    "                                            # \\(escape) : 탈출시키다\n",
    "print(\"Life's too short, You need phtyon\")\n",
    "print(\"Life is too short, \\\"You need\\\" phtyon\")\n",
    "print('Life is too short, \"You need\" phtyon')\n",
    "####강조할일이 있다면 \"\", '' 를 적당히 섞어쓰자####\n",
    "print('Life\\'s too short, \"You need\" phtyon') #어쩔수 없이 둘다 써야되면 \\사용\n",
    "\n",
    "print('\\n')\n",
    "\n",
    "print('\\tLife is too short, You need phtyon') #\\t : tap\n",
    "print('Life is too short, \\nYou need phtyon') #\\n : 줄바꿈"
   ]
  },
  {
   "cell_type": "code",
   "execution_count": 67,
   "id": "0fa02a77-5a2b-4a05-9ead-dc0424979e08",
   "metadata": {},
   "outputs": [
    {
     "name": "stdout",
     "output_type": "stream",
     "text": [
      "Life is too short,\n",
      "You need phtyon\n",
      "\n",
      "\n",
      "Life is too short, \n",
      "You need \n",
      "phtyon\n"
     ]
    }
   ],
   "source": [
    "print('''Life is too short,\n",
    "You need phtyon''')\n",
    "print('\\n')\n",
    "print(\"\"\"Life is too short, \n",
    "You need \n",
    "phtyon\"\"\") #'''~~''' , \"\"\"~~~\"\"\" : 행바꿈"
   ]
  },
  {
   "cell_type": "code",
   "execution_count": 72,
   "id": "7e2d1345-0ad9-4e09-bb4e-e0a2c0e39b32",
   "metadata": {},
   "outputs": [
    {
     "name": "stdout",
     "output_type": "stream",
     "text": [
      "Life is too short, You need phtyon\n",
      "34\n",
      "34\n"
     ]
    }
   ],
   "source": [
    "str1 = 'Life is too short, You need phtyon'\n",
    "print(str1)\n",
    "print(len(str1)) #문자열 길이\n",
    "print(len('Life is too short, You need phtyon'))"
   ]
  },
  {
   "cell_type": "code",
   "execution_count": 88,
   "id": "7ec25715-c36c-4a46-b209-7ca04d885ebb",
   "metadata": {},
   "outputs": [
    {
     "name": "stdout",
     "output_type": "stream",
     "text": [
      "i\n",
      "s\n",
      "n\n",
      "n\n",
      "i\n",
      "i\n",
      "L\n",
      "L\n",
      "L\n",
      "L\n",
      "L\n"
     ]
    }
   ],
   "source": [
    "str1 = 'Life is too short, You need phtyon'\n",
    "#                 111        222      3333\n",
    "#       0123456789012345678901234567890123 : index : 문자에 표시된 고유의 번호 : 0부터 1씩증가\n",
    "#      -4321098765432109876543210987654321 : index : -로 가는 음수인덱스도 사용이 가능함\n",
    "#           3         2         111\n",
    "print(str1[1])\n",
    "print(str1[12])\n",
    "print(str1[33])\n",
    "print(str1[len(str1) - 1]) #len(str) - 1 = 34 - 1 = 33\n",
    "print(str1[5])\n",
    "print('Life is too short, You need phtyon'[5])\n",
    "print(str1[0])\n",
    "print(str1[-34]) #뒤에서부터 세는것도 가능\n",
    "print(str1[-len(str1)])\n",
    "print(str1[0])\n",
    "print(str1[-0]) #0은 음수가 안되니까 그냥 0"
   ]
  },
  {
   "cell_type": "code",
   "execution_count": 91,
   "id": "be4ceeea-8641-46a7-8a45-54efbb86e149",
   "metadata": {},
   "outputs": [
    {
     "name": "stdout",
     "output_type": "stream",
     "text": [
      "Life\n"
     ]
    }
   ],
   "source": [
    "#Life를 출력\n",
    "#print(str1[0]);print(str1[1]);print(str1[2]);print(str1[3]);\n",
    "print(str1[0]+str1[1]+str1[2]+str1[3])"
   ]
  },
  {
   "cell_type": "code",
   "execution_count": 97,
   "id": "4e5bb0b8-d59b-4b1c-bf06-435519a7acc3",
   "metadata": {},
   "outputs": [
    {
     "name": "stdout",
     "output_type": "stream",
     "text": [
      "Life\n",
      "Life\n",
      "too s\n",
      "too s\n",
      "e is \n"
     ]
    }
   ],
   "source": [
    "#Life\n",
    "#0123\n",
    "print(str1[0:0+4]) #문자열 str1의 0번부터 4전까지 더해라\n",
    "print(str1[0:4]) #start : 0, stop : 4\n",
    "print(str1[8:8+5]) #일일이 몇번에 무슨글자인지 확인하기 힘드니 첫글자에서 몇글자 더하는 형식으로 하는게 편함\n",
    "print(str1[8:13]) #8부터 13 전까지 나타내라\n",
    "idx = 3\n",
    "글자수 = 5\n",
    "print(str1[idx:idx+글자수])"
   ]
  },
  {
   "cell_type": "code",
   "execution_count": 105,
   "id": "9cf1b015-f10f-43b1-9bf9-3a5ba46a4c37",
   "metadata": {},
   "outputs": [
    {
     "name": "stdout",
     "output_type": "stream",
     "text": [
      "Life is\n",
      "Life is\n",
      "Life is\n",
      "Life is\n",
      "Life is\n",
      "Life is\n"
     ]
    }
   ],
   "source": [
    "str1 = 'Life is too short, You need phtyon'\n",
    "#                 111        222      3333\n",
    "#       0123456789012345678901234567890123 : \n",
    "#      -4321098765432109876543210987654321 : \n",
    "#           3         2         111\n",
    "print(str1[0:0+7])\n",
    "print(str1[-34:0+7])\n",
    "print(str1[0:-34+7])\n",
    "print(str1[0:-27])\n",
    "print(str1[-34:-27])\n",
    "print(str1[-len(str1):-27])"
   ]
  },
  {
   "cell_type": "code",
   "execution_count": 112,
   "id": "634e2642-fdcb-4ff0-aead-8fb62874fd75",
   "metadata": {},
   "outputs": [
    {
     "name": "stdout",
     "output_type": "stream",
     "text": [
      "20231218\n",
      "Cold\n",
      "20231218\n",
      "Cold\n",
      "2023\n",
      "12\n",
      "18\n"
     ]
    }
   ],
   "source": [
    "a = '20231218Cold'\n",
    "####날짜랑 이름 분리해서 출력\n",
    "print(a[0:0+8])\n",
    "print(a[8:8+4])\n",
    "###########첫번호(0)랑 마지막번호(len(a))는 생략이 가능\n",
    "print(a[:8])\n",
    "print(a[8:])\n",
    "###년 월 일\n",
    "print(a[0:0+4])\n",
    "print(a[4:4+2])\n",
    "print(a[6:6+2])"
   ]
  },
  {
   "cell_type": "code",
   "execution_count": 27,
   "id": "03b99521-17b1-43a9-a792-4e85a96c4a69",
   "metadata": {},
   "outputs": [
    {
     "name": "stdout",
     "output_type": "stream",
     "text": [
      "Life is too short, You need phtyon\n",
      "Life is too short, You need phtyon\n",
      "Life is too short, You need phtyon\n",
      "Life is too short, You need phtyon\n",
      "\n",
      "Lf stosot o edpto\n",
      "Lesosr ue tn\n",
      "noythp deen uoY ,trohs oot si efiL\n",
      "f stos\n",
      "hs oot si ef\n"
     ]
    }
   ],
   "source": [
    "str1 = 'Life is too short, You need phtyon'\n",
    "\n",
    "print(str1)\n",
    "print(str1[0:len(str1)])\n",
    "print(str1[0:])\n",
    "print(str1[:len(str1)])\n",
    "print(str1[0:0])\n",
    "print(str1[::2]) #한칸씩\n",
    "print(str1[::3]) #세칸씩\n",
    "print(str1[::-1]) #거꾸로\n",
    "\n",
    "#2번부터 13까지출력\n",
    "print(str1[2:14:2]) #2~13번까지, 한칸씩 건너서\n",
    "#print(str1[2:14:-1]) #아무것도안나옴\n",
    "print(str1[13:1:-1])# 13~2번 거꾸로"
   ]
  },
  {
   "cell_type": "code",
   "execution_count": 20,
   "id": "579da879-1596-4af8-b627-ec2821660942",
   "metadata": {},
   "outputs": [
    {
     "name": "stdout",
     "output_type": "stream",
     "text": [
      "pithon\n",
      "i\n",
      "python\n"
     ]
    }
   ],
   "source": [
    "a = 'pithon'\n",
    "#   012345\n",
    "print(a)\n",
    "print(a[1])\n",
    "#a[1] = 'y' #문자열은 index를 이용해서 수정할수 없다\n",
    "print(a[0] + 'y' + a[2:])"
   ]
  },
  {
   "cell_type": "code",
   "execution_count": 23,
   "id": "c83b0b06-fe93-47bd-9846-5a3b08994d67",
   "metadata": {},
   "outputs": [
    {
     "name": "stdout",
     "output_type": "stream",
     "text": [
      "현재온도는 15도입니다\n",
      "현재온도는 30도입니다\n",
      "현재온도는 18도입니다\n"
     ]
    }
   ],
   "source": [
    "#포매팅\n",
    "print('현재온도는 15도입니다')\n",
    "print('현재온도는 30도입니다')\n",
    "print('현재온도는 18도입니다')"
   ]
  },
  {
   "cell_type": "code",
   "execution_count": 34,
   "id": "7e9dc29f-8632-4feb-b2cd-cd64ff2f2c19",
   "metadata": {},
   "outputs": [
    {
     "name": "stdout",
     "output_type": "stream",
     "text": [
      "현재온도는 20도입니다\n",
      "I eat 5 apples\n",
      "I eat 5 apples\n",
      "I eat five apples\n",
      "I eat five apples\n",
      "I eat 0.50 apples\n"
     ]
    }
   ],
   "source": [
    "#포맷문자열을 이용한 포맷팅 : %d %s %f %c ...\n",
    "a = 20\n",
    "print('현재온도는 %d도입니다' % a)\n",
    "\n",
    "b=5 #정수 리터럴\n",
    "print('I eat %d apples' % b)\n",
    "print('I eat %d apples' % 5)\n",
    "print('I eat %s apples' % 'five')\n",
    "\n",
    "str2='five'\n",
    "print('I eat %s apples' % str2)\n",
    "\n",
    "f=0.5\n",
    "print('I eat %.2f apples' % f)"
   ]
  },
  {
   "cell_type": "code",
   "execution_count": 43,
   "id": "77adbc25-703e-4d53-9833-c8a2a2552a42",
   "metadata": {},
   "outputs": [
    {
     "name": "stdout",
     "output_type": "stream",
     "text": [
      "나의 이름은 곽민우이고 나이는 30살 입니다.\n",
      "I eat 0.50 apples\n"
     ]
    }
   ],
   "source": [
    "'나의 이름은 곽민우 이고 나이는 20살입니다.'\n",
    "\n",
    "name = '곽민우'\n",
    "age = 30\n",
    "print('나의 이름은 %s이고 나이는 %d살 입니다.' %(name, age)) #변수 두개이상 넣을시에는 소괄호로 묶기\n",
    "print('I eat %.2f apples' % (f)) #물론 하나만잇어도 소괄호 가능"
   ]
  },
  {
   "cell_type": "code",
   "execution_count": 46,
   "id": "e5c49795-d2c6-468e-88c2-8a8b0fa77e6f",
   "metadata": {},
   "outputs": [
    {
     "name": "stdout",
     "output_type": "stream",
     "text": [
      "곽민우의 계좌번호는 1111이고 잔액은 100원입니다\n"
     ]
    }
   ],
   "source": [
    "'곽민우의 계좌번호는 1111이고 잔액은 100원입니다'\n",
    "name = '곽민우'\n",
    "account = 1111\n",
    "money = 100\n",
    "print('%s의 계좌번호는 %d이고 잔액은 %d원입니다' %(name, account, money))"
   ]
  },
  {
   "cell_type": "code",
   "execution_count": 56,
   "id": "390fde98-98d5-47b7-b1b2-3a5f13481c73",
   "metadata": {},
   "outputs": [
    {
     "name": "stdout",
     "output_type": "stream",
     "text": [
      "곽민우의 나이는 20살이고 키는 173.500000입니다.\n",
      "곽민우의 나이는 20살이고 키는 173.5입니다.\n",
      "곽민우의 나이는 20살이고 키는 173.5입니다.\n",
      "곽민우의 나이는 20살이고 키는 173.5000000000입니다.\n",
      "곽민우의 나이는 20살이고 키는 173.5입니다.\n",
      "우리반의 취업률은 98%입니다.\n"
     ]
    }
   ],
   "source": [
    "'곽민우의 나이는 20살이고 키는 173.5입니다.'\n",
    "name='곽민우'\n",
    "age=20\n",
    "height = 173.5\n",
    "print('%s의 나이는 %d살이고 키는 %f입니다.' %(name, age,height))\n",
    "print('%s의 나이는 %d살이고 키는 %5.1f입니다.' %(name, age,height))\n",
    "print('%s의 나이는 %d살이고 키는 %3.1f입니다.' %(name, age,height))\n",
    "print('%s의 나이는 %d살이고 키는 %.10f입니다.' %(name, age,height))\n",
    "print('%s의 나이는 %d살이고 키는 %s입니다.' %(name, age,height))\n",
    "\n",
    "result=\"우리반의 취업률은 %d%%입니다.\" % 98\n",
    "print(result)"
   ]
  },
  {
   "cell_type": "code",
   "execution_count": 60,
   "id": "8707bc9c-f0c6-4679-a832-0c7b575e51fa",
   "metadata": {},
   "outputs": [
    {
     "name": "stdout",
     "output_type": "stream",
     "text": [
      "곽민우의 나이는 20살이고 키는 173.5입니다.\n",
      "       곽민우의 나이는         20살이고 키는      173.5입니다.\n",
      "곽민우       의 나이는         20살이고 키는 173.5     입니다.\n"
     ]
    }
   ],
   "source": [
    "#정렬과 공백 : +오른쪽정렬\n",
    "print('%s의 나이는 %d살이고 키는 %.1f입니다.' %(name, age,height))\n",
    "print('%10s의 나이는 %10d살이고 키는 %10.1f입니다.' %(name, age,height))\n",
    "print('%-10s의 나이는 %10d살이고 키는 %-10.1f입니다.' %(name, age,height))#앞에 -붙이면 왼쪽 정렬"
   ]
  },
  {
   "cell_type": "code",
   "execution_count": 90,
   "id": "c071bd68-0e3e-45b0-8630-7331b551d4de",
   "metadata": {},
   "outputs": [
    {
     "name": "stdout",
     "output_type": "stream",
     "text": [
      "곽민우의 나이는 20살이고 키는 173.5입니다.\n",
      "민우곽의 나이는 30살이고 키는 175.3입니다.\n",
      "곽민우의 나이는 20살이고 키는 173.5입니다.\n",
      "곽민우의 나이는 20살이고 키는 173.5입니다.\n",
      "곽민우의 나이는 20살이고 키는 173.5입니다\n",
      "곽민우의 나이는 20살이고 키는 173.5입니다\n"
     ]
    }
   ],
   "source": [
    "#format함수를 사용한 포매팅: format()\n",
    "print('%s의 나이는 %d살이고 키는 %.1f입니다.' %(name, age, height))#포맷문자열\n",
    "print('{0}의 나이는 {1}살이고 키는 {2}입니다.'.format('민우곽', 30, 175.3))\n",
    "#\n",
    "print('{0}의 나이는 {1}살이고 키는 {2}입니다.'.format(name, age, height))\n",
    "print('{1}의 나이는 {0}살이고 키는 {2}입니다.'.format(age, name, height))\n",
    "                                            #순서와 상관없이 index를 원하는 위치에 줄수 있다\n",
    "#\n",
    "'곽민우의 나이는 20살이고 키는 175.6입니다'\n",
    "print('%s의 나이는 %s살이고 키는 %s입니다' %(name, age, height))\n",
    "print('{1}의 나이는 {0}살이고 키는 {2}입니다'.format(age, name, height))"
   ]
  },
  {
   "cell_type": "code",
   "execution_count": 94,
   "id": "8833d186-a53d-4b4b-9a4e-139bd6a3b9ce",
   "metadata": {},
   "outputs": [
    {
     "name": "stdout",
     "output_type": "stream",
     "text": [
      "곽민우의 나이는 30살이고 키는173.5입니다\n",
      "곽민우의 나이는 20살이고 키는173.5입니다\n",
      "곽민우의 나이는 20살이고 키는173.5입니다\n"
     ]
    }
   ],
   "source": [
    "#인자에 이름 추가\n",
    "print('{0}의 나이는 {1}살이고 키는{키}입니다'.format('곽민우', 30, 키 = 173.5))\n",
    "                                                #      0      1    2 \n",
    "print('{0}의 나이는 {1}살이고 키는{키}입니다'.format(name, age, 키 = height))\n",
    "print('{0}의 나이는 {나이}살이고 키는{키}입니다'.format(name, 나이 = age, 키 = height))\n",
    "#이름을 중간에있는 값에만 줄수 없음. 이름은 뒤에서부터 순차적으로 줘야함\n",
    "#print('{0}의 나이는 {나이}살이고 키는{1}입니다'.format(name, 나이 = age, height))"
   ]
  },
  {
   "cell_type": "code",
   "execution_count": 78,
   "id": "33573b25-51f8-4ead-922c-481f12a066d4",
   "metadata": {},
   "outputs": [
    {
     "name": "stdout",
     "output_type": "stream",
     "text": [
      "곽민우       의 나이는         20살이고 키는      173.5입니다\n",
      "곽민우       의 나이는 20        살이고 키는 173.5     입니다\n",
      "       곽민우의 나이는         20살이고 키는      173.5입니다\n",
      "   곽민우    의 나이는     20    살이고 키는   173.5   입니다\n"
     ]
    }
   ],
   "source": [
    "#정렬과 공백\n",
    "print('{1:10}의 나이는 {0:10}살이고 키는 {2:10}입니다'.format(age, name, height))\n",
    "#문자는 왼쪽정렬, 숫자는 오른쪽정렬이 default\n",
    "print('{1:<10}의 나이는 {0:<10}살이고 키는 {2:<10}입니다'.format(age, name, height)) # < 사용해서 왼쪽정렬\n",
    "print('{1:>10}의 나이는 {0:>10}살이고 키는 {2:>10}입니다'.format(age, name, height)) # > 사용해서 오른쪽정렬\n",
    "print('{1:^10}의 나이는 {0:^10}살이고 키는 {2:^10}입니다'.format(age, name, height)) # ^ 사용해서 가운데정렬"
   ]
  },
  {
   "cell_type": "code",
   "execution_count": 84,
   "id": "1cc2577a-23b9-4390-9bf5-08b8b973c449",
   "metadata": {},
   "outputs": [
    {
     "name": "stdout",
     "output_type": "stream",
     "text": [
      "{곽민우}의 나이는 20살이고 키는 173.5입니다\n",
      "{곽민우}의 나이는 20살이고 키는 173.5입니다\n"
     ]
    }
   ],
   "source": [
    "#{} 출력하기\n",
    "#{곽민우}의 나이는 20살이고 키는 173.5입니다\n",
    "print('{{{0}}}의 나이는 {1}살이고 키는 {2}입니다'.format(name, age, height))\n",
    "print('{{곽민우}}의 나이는 {1}살이고 키는 {2}입니다'.format(name, age, height))"
   ]
  },
  {
   "cell_type": "code",
   "execution_count": 87,
   "id": "b8e39b65-fe12-4128-bfb1-08eec6bad93a",
   "metadata": {},
   "outputs": [
    {
     "name": "stdout",
     "output_type": "stream",
     "text": [
      "곽민우의 나이는 20살이고 키는 173.5입니다.\n"
     ]
    }
   ],
   "source": [
    "#f 문자열 포매팅\n",
    "'곽민우의 나이는 20살이고 키는 173.5입니다.'\n",
    "print(f'{name}의 나이는 {age}살이고 키는 {height}입니다.')"
   ]
  },
  {
   "cell_type": "code",
   "execution_count": 95,
   "id": "21e8314d-be6c-4a57-a9ef-962380b1caa0",
   "metadata": {},
   "outputs": [
    {
     "name": "stdout",
     "output_type": "stream",
     "text": [
      "곽민우의 나이는 20살이고 키는 173.5입니다.\n",
      "곽민우의 나이는 20살이고 키는 173.5입니다\n",
      "곽민우의 나이는 20살이고 키는 173.5입니다\n"
     ]
    }
   ],
   "source": [
    "print(f'{name}의 나이는 {age}살이고 키는 {height}입니다.') #얘가제일 편함\n",
    "print('%s의 나이는 %d살이고 키는 %.1f입니다' %(name, age, height))\n",
    "print('{0}의 나이는 {1}살이고 키는 {2}입니다'.format(name, age, height))"
   ]
  },
  {
   "cell_type": "code",
   "execution_count": 103,
   "id": "5a57f28e-78aa-4209-acc5-1d227d36c52c",
   "metadata": {},
   "outputs": [
    {
     "name": "stdout",
     "output_type": "stream",
     "text": [
      "곽민우       의 나이는         20살이고 키는      173.5입니다\n",
      "곽민우       의 나이는 20        살이고 키는 173.5     입니다\n",
      "       곽민우의 나이는         20살이고 키는      173.5입니다\n",
      "   곽민우    의 나이는     20    살이고 키는   173.5   입니다\n",
      "!!!!!!!곽민우의 나이는 --------20살이고 키는 =====173.5입니다\n"
     ]
    }
   ],
   "source": [
    "#정렬과 공백\n",
    "print(f'{name:10}의 나이는 {age:10}살이고 키는 {height:10}입니다')\n",
    "print(f'{name:<10}의 나이는 {age:<10}살이고 키는 {height:<10}입니다')\n",
    "print(f'{name:>10}의 나이는 {age:>10}살이고 키는 {height:>10}입니다')\n",
    "print(f'{name:^10}의 나이는 {age:^10}살이고 키는 {height:^10}입니다')\n",
    "print(f'{name:!>10}의 나이는 {age:->10}살이고 키는 {height:=>10}입니다') #빈칸을 문자로 채우기"
   ]
  },
  {
   "cell_type": "code",
   "execution_count": 114,
   "id": "56f45d22-e226-499a-b6b7-98c0805e97d5",
   "metadata": {},
   "outputs": [
    {
     "name": "stdout",
     "output_type": "stream",
     "text": [
      "9 * 3 = 27\n",
      "9 * 3 = 27\n",
      "9 * 3 = 27\n"
     ]
    }
   ],
   "source": [
    "str = 10\n",
    "print('9 * 3 = 27')\n",
    "dan = 9\n",
    "gob = 3\n",
    "print(dan, '*',gob, '=', dan * gob)\n",
    "#파이썬은 변수명과 함수명을 구분하지않음\n",
    "print(f'{dan} * {gob} = {dan*gob}')"
   ]
  },
  {
   "cell_type": "code",
   "execution_count": 122,
   "id": "aa10026d-45aa-458c-8c11-22a9c69cd125",
   "metadata": {},
   "outputs": [
    {
     "name": "stdout",
     "output_type": "stream",
     "text": [
      "hobby\n",
      "5\n",
      "5\n",
      "2\n",
      "2\n",
      "3\n"
     ]
    }
   ],
   "source": [
    "#문자열 관련 함수들 : 문자열 가공\n",
    "a = 'hobby'\n",
    "print(a)\n",
    "#문자열의크기\n",
    "print(len(a))\n",
    "print(len('hobby'))\n",
    "#특정 문자의 갯수\n",
    "#b가 몇개있는지\n",
    "print(a.count('b'))\n",
    "print('hobby'.count('b'))\n",
    "###############\n",
    "str2 = 'Life is too short'\n",
    "print(str2.count('o'))"
   ]
  },
  {
   "cell_type": "code",
   "execution_count": 150,
   "id": "aefe9db3-c1a6-4013-abe5-5604af4630f2",
   "metadata": {},
   "outputs": [
    {
     "name": "stdout",
     "output_type": "stream",
     "text": [
      "8\n",
      "too\n",
      "8\n",
      "too\n",
      "too\n",
      "ife i\n",
      "ife i\n",
      "\n",
      "\n",
      "6\n",
      "s too\n",
      "short\n",
      "12\n",
      "short\n"
     ]
    }
   ],
   "source": [
    "#Life is too short\n",
    "#          1\n",
    "#01234567890123456\n",
    "#too를 출력\n",
    "print(str2.find('too'))\n",
    "print(str2[8:8+3]) #str2.substr(8, 8+3)\n",
    "idx = str1.index('too') #idx = str2.indexOf('too')\n",
    "#too가 있는 위치의 첫번째 글자의 index를 가지고 온다.\n",
    "print(idx)\n",
    "print(str2[idx:idx+3])\n",
    "#t부터 5글자\n",
    "idx = str1.index('t')\n",
    "print(str2[idx:idx+3])\n",
    "\n",
    "#i부터 네글자\n",
    "idx = str1.index('i')\n",
    "print(str1[idx:idx+5])\n",
    "print(str1[str1.index('i'):str1.index('i')+5])\n",
    "\n",
    "print('\\n')\n",
    "\n",
    "# s부터 4글자\n",
    "idx = str1.index('s')\n",
    "print(idx)\n",
    "print(str1[idx:idx+5])\n",
    "\n",
    "# 두번째 s부터 4글자\n",
    "idx = str1.index('s', 7) #7번째글자 부터 s를찾아라\n",
    "print(str1[idx:idx+5])\n",
    "print(idx)\n",
    "idx = str1.index('s', str1.index('s') + 1)\n",
    "print(str1[idx:idx+5])"
   ]
  },
  {
   "cell_type": "code",
   "execution_count": 166,
   "id": "9c219544-57f8-4ef3-b1a2-6976d572a4a9",
   "metadata": {},
   "outputs": [
    {
     "name": "stdout",
     "output_type": "stream",
     "text": [
      "Life is too short, You need python\n",
      "thon\n",
      "thon\n"
     ]
    }
   ],
   "source": [
    "str1 = 'Life is too short, You need python'\n",
    "print(str1)\n",
    "#3번째 t에서 4글자 출력\n",
    "idx = str1.index('t') #첫번째 t\n",
    "idx = str1.index('t', idx  + 1) #두번째 t\n",
    "idx = str1.index('t', idx  + 1) \n",
    "print(str1[idx:idx+4])\n",
    "idx = str1.index('t',  str1.index('t', str1.index('t')+ 1) + 1) #세번째 t\n",
    "print(str1[idx:idx+4])"
   ]
  },
  {
   "cell_type": "code",
   "execution_count": 169,
   "id": "cac6a441-3670-48f5-bc28-32aa99c8bc54",
   "metadata": {},
   "outputs": [
    {
     "name": "stdout",
     "output_type": "stream",
     "text": [
      "30\n",
      "thon\n"
     ]
    }
   ],
   "source": [
    "#마지막 t에서 4글자\n",
    "idx = str1.rindex('t')\n",
    "print(idx)\n",
    "print(str1[idx:idx+4])"
   ]
  },
  {
   "cell_type": "code",
   "execution_count": 175,
   "id": "5ddf4122-21b4-40ea-a022-6911ff2abb57",
   "metadata": {},
   "outputs": [
    {
     "name": "stdout",
     "output_type": "stream",
     "text": [
      "too\n",
      "too\n",
      "tho\n",
      "t, \n"
     ]
    }
   ],
   "source": [
    "#too 출력\n",
    "idx = str1.index('t')\n",
    "print(str1[idx:idx+3])\n",
    "\n",
    "idx = str1.find('t')\n",
    "print(str1[idx:idx+3])\n",
    "\n",
    "idx = str1.rfind('t')\n",
    "print(str1[idx:idx+3])\n",
    "\n",
    "idx = str1.find('t', str1.find('t') + 1)\n",
    "print(str1[idx:idx+3])"
   ]
  },
  {
   "cell_type": "code",
   "execution_count": 179,
   "id": "56ac599b-69a9-4405-8983-4aaf42f8b505",
   "metadata": {},
   "outputs": [
    {
     "name": "stdout",
     "output_type": "stream",
     "text": [
      "-1\n"
     ]
    }
   ],
   "source": [
    "idx = str1.find('z')\n",
    "print(idx) #찾는 문자가 없으면 -1출력\n",
    "#idx = str1.index('z') #찾는 문자가 없으면 에러뜸"
   ]
  },
  {
   "cell_type": "code",
   "execution_count": 183,
   "id": "8ed70e2b-d3ec-4913-bf32-0524eb3cb051",
   "metadata": {},
   "outputs": [
    {
     "name": "stdout",
     "output_type": "stream",
     "text": [
      "Life is too short, You need python\n",
      "life is too short, you need python\n",
      "LIFE IS TOO SHORT, YOU NEED PYTHON\n"
     ]
    }
   ],
   "source": [
    "print(str1) \n",
    "#문자열을 모두 소문자로 출력\n",
    "print(str1.lower())\n",
    "#문자열을 모두 대문자로 출력\n",
    "print(str1.upper())"
   ]
  },
  {
   "cell_type": "code",
   "execution_count": 189,
   "id": "e8aaf0d2-27b6-4a74-a4bb-65c55e43eff5",
   "metadata": {},
   "outputs": [
    {
     "name": "stdout",
     "output_type": "stream",
     "text": [
      "kmw\n",
      "kmw       \n",
      "     kmw\n",
      "Life is too short \n"
     ]
    }
   ],
   "source": [
    "str2 = \"     kmw       \"\n",
    "print(str2.strip()) #trim() : 공백 없애기\n",
    "str2 = \"     kmw       \"\n",
    "print(str2.lstrip()) #trim()\n",
    "str2 = \"     kmw       \"\n",
    "print(str2.rstrip()) #trim()\n",
    "\n",
    "str3 = 'abLife is too short ab'\n",
    "print(str3.strip('ab')) #ab삭제"
   ]
  },
  {
   "cell_type": "code",
   "execution_count": 194,
   "id": "4198eb5c-f6de-494f-aa85-1b92175982f4",
   "metadata": {},
   "outputs": [
    {
     "name": "stdout",
     "output_type": "stream",
     "text": [
      "Your leg is too short\n",
      "['Life', 'is', 'too', 'short']\n",
      "['Life', 'is', 'too', 'short']\n"
     ]
    }
   ],
   "source": [
    "##문자열 대체하기\n",
    "str4 = 'Life is too short'\n",
    "result = str4.replace('Life', 'Your leg')\n",
    "print(result)\n",
    "\n",
    "#쪼개기\n",
    "result = str4.split()\n",
    "print(result) #리스트(배열)단위로 쪼갬\n",
    "\n",
    "str4 = \"Life:is:too:short\"\n",
    "result = str4.split(\":\")\n",
    "print(result)"
   ]
  },
  {
   "cell_type": "code",
   "execution_count": 227,
   "id": "ab0fccbf-25fa-4878-99f4-539defc99a7b",
   "metadata": {},
   "outputs": [
    {
     "name": "stdout",
     "output_type": "stream",
     "text": [
      "Hello World\n",
      "Merry's Cosmetics\n",
      "신씨가 소리질렀다. \"도둑이야\"\n",
      "naver;kakao;sk/sam\n",
      "1.6666666666666667\n",
      "500000\n",
      "1749024\n",
      "2210\n",
      "홀홀홀\n",
      "01029347691\n",
      "01029347691\n",
      "이름 : 김민수 나이 : 10\n",
      "이름 : 이철희 나이 : 13\n",
      "5969782550\n"
     ]
    }
   ],
   "source": [
    "print('Hello World')\n",
    "print('Merry\\'s Cosmetics')\n",
    "print('신씨가 소리질렀다. \"도둑이야\"')\n",
    "#print(\"C:\\Windows\")\n",
    "print('naver;kakao;sk/sam')\n",
    "print(5/3)\n",
    "삼성전자 = 50000\n",
    "print(삼성전자 * 10)\n",
    "air = 48584\n",
    "month = 36\n",
    "price = air * month\n",
    "print(price)\n",
    "license = \"24가 2210\"\n",
    "print(license[-4:])\n",
    "str1 = \"홀짝홀짝홀짝\"\n",
    "print(str1[::2])\n",
    "\n",
    "phone = '010-2934-7691'\n",
    "phone1 = phone.replace('-', '')\n",
    "print(phone1)\n",
    "print(phone1.strip())\n",
    "\n",
    "name1 = \"김민수\" \n",
    "age1 = 10\n",
    "name2 = \"이철희\"\n",
    "age2 = 13\n",
    "print(f'이름 : {name1} 나이 : {age1}')\n",
    "print(f'이름 : {name2} 나이 : {age2}')\n",
    "\n",
    "상장주식수 = \"5,969,782,550\"\n",
    "str2 = 상장주식수.replace(\",\", '')\n",
    "str3 = int(str2)\n",
    "print(str3)"
   ]
  }
 ],
 "metadata": {
  "kernelspec": {
   "display_name": "Python 3 (ipykernel)",
   "language": "python",
   "name": "python3"
  },
  "language_info": {
   "codemirror_mode": {
    "name": "ipython",
    "version": 3
   },
   "file_extension": ".py",
   "mimetype": "text/x-python",
   "name": "python",
   "nbconvert_exporter": "python",
   "pygments_lexer": "ipython3",
   "version": "3.12.1"
  }
 },
 "nbformat": 4,
 "nbformat_minor": 5
}
