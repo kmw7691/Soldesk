{
 "cells": [
  {
   "cell_type": "code",
   "execution_count": 2,
   "id": "41205703-4920-4e51-8d54-e0d87e12ecfd",
   "metadata": {},
   "outputs": [
    {
     "name": "stdout",
     "output_type": "stream",
     "text": [
      "Requirement already satisfied: numpy in c:\\users\\sdedu\\appdata\\local\\programs\\python\\python312\\lib\\site-packages (1.26.2)"
     ]
    },
    {
     "name": "stderr",
     "output_type": "stream",
     "text": [
      "\n",
      "[notice] A new release of pip is available: 23.2.1 -> 23.3.2\n",
      "[notice] To update, run: python.exe -m pip install --upgrade pip\n"
     ]
    },
    {
     "name": "stdout",
     "output_type": "stream",
     "text": [
      "\n"
     ]
    }
   ],
   "source": [
    "#기본자료형 : 정수 실수 문자열 부울\n",
    "#파이썬자료형 : 리스트 튜플 딕셔너리 집합\n",
    "#numpy : 배열자료형 : Numeric Python : 숫자를 다루는 배열 자료형\n",
    "#      : 리스트랑 비슷함\n",
    "!pip install numpy"
   ]
  },
  {
   "cell_type": "code",
   "execution_count": 4,
   "id": "a8afd809-5794-45b2-83c8-0ff50f6a5af2",
   "metadata": {},
   "outputs": [
    {
     "name": "stdout",
     "output_type": "stream",
     "text": [
      "2\n"
     ]
    }
   ],
   "source": [
    "import numpy\n",
    "num = numpy.random.randint(10)\n",
    "print(num)"
   ]
  },
  {
   "cell_type": "code",
   "execution_count": 7,
   "id": "03b8e49e-9ec2-4e5e-99db-b8ea92b6589b",
   "metadata": {},
   "outputs": [
    {
     "name": "stdout",
     "output_type": "stream",
     "text": [
      "7\n"
     ]
    }
   ],
   "source": [
    "import numpy as np #numpy를 불러오고 np로 명칭하겠다\n",
    "num = np.random.randint(10) #np로 사용해야함\n",
    "print(num)"
   ]
  },
  {
   "cell_type": "code",
   "execution_count": 10,
   "id": "8d984381-d5a8-4ab7-9454-efc4b28c91ed",
   "metadata": {},
   "outputs": [
    {
     "name": "stdout",
     "output_type": "stream",
     "text": [
      "[9 1 4 5 9 5]\n"
     ]
    }
   ],
   "source": [
    "#1차원 배열\n",
    "num1 = np.random.randint(10, size=6) #크기가 6인 1차원배열\n",
    "print(num1)"
   ]
  },
  {
   "cell_type": "code",
   "execution_count": 16,
   "id": "8524c5eb-5504-4275-979e-014bfed28ab1",
   "metadata": {},
   "outputs": [
    {
     "name": "stdout",
     "output_type": "stream",
     "text": [
      "[9, 1, 4, 5, 9, 5]\n",
      "[9 1 4 5 9 5]\n",
      "1\n",
      "1\n",
      "9\n",
      "9\n",
      "[4, 5]\n",
      "[4 5]\n"
     ]
    }
   ],
   "source": [
    "l = [9,1,4,5,9,5]\n",
    "print(l) #[9, 1, 4, 5, 9, 5] 리스트(콤마있음)\n",
    "#          0  1  2  3  4  5 :index \n",
    "print(num1) # [9 1 4 5 9 5] 배열(콤마없음)\n",
    "\n",
    "#indexing\n",
    "print(l[1])\n",
    "print(num1[1])\n",
    "print(l[4])\n",
    "print(num1[4])\n",
    "\n",
    "#slicing\n",
    "print(l[2:4])\n",
    "print(num1[2:4])"
   ]
  },
  {
   "cell_type": "code",
   "execution_count": 19,
   "id": "ed6c64c0-36ac-498c-8328-d0c8f29e20d5",
   "metadata": {},
   "outputs": [
    {
     "name": "stdout",
     "output_type": "stream",
     "text": [
      "[[4 3 7 2 4 1]\n",
      " [8 3 8 1 8 9]]\n"
     ]
    }
   ],
   "source": [
    "#2차원배열\n",
    "num2 = np.random.randint(10, size=(2, 6)) #2행 6열\n",
    "print(num2)"
   ]
  },
  {
   "cell_type": "code",
   "execution_count": 26,
   "id": "ece14eae-621f-4af6-9685-56ed3f55f54e",
   "metadata": {},
   "outputs": [
    {
     "name": "stdout",
     "output_type": "stream",
     "text": [
      "[[4, 3, 7, 2, 4, 1], [8, 3, 8, 1, 8, 9]]\n",
      "[[4 3 7 2 4 1]\n",
      " [8 3 8 1 8 9]]\n",
      "8\n",
      "8\n",
      "8\n"
     ]
    }
   ],
   "source": [
    "l2 = [[4, 3, 7, 2, 4, 1],[8, 3, 8, 1, 8, 9]]\n",
    "#리스트를 포함하고 있는 리스트와 같다\n",
    "print(l2)\n",
    "print(num2)\n",
    "print(l2[1][2])\n",
    "print(num2[1][2]) #리스트 표현식\n",
    "print(num2[1, 2]) #행,열 : 배열표현식"
   ]
  },
  {
   "cell_type": "code",
   "execution_count": 44,
   "id": "e8569afc-a00c-453b-831c-7ee42c278ad1",
   "metadata": {},
   "outputs": [
    {
     "name": "stdout",
     "output_type": "stream",
     "text": [
      "[9, 10, 4, 5, 9, 5]\n",
      "[ 9 10  4  5  9  5]\n",
      "10\n",
      "10\n",
      "10\n",
      "10\n",
      "[4, 5]\n",
      "[4 5]\n",
      "[4, 5]\n",
      "[4 5]\n",
      "[9, 10, 4]\n",
      "[9, 10, 4]\n",
      "[ 9 10  4]\n",
      "[5, 9, 5]\n",
      "[5, 9, 5]\n",
      "[9, 4, 9]\n",
      "[9 4 9]\n",
      "[5, 9, 5, 4, 10, 9]\n",
      "[ 5  9  5  4 10  9]\n",
      "[9, 10, 4, 5, 9, 5]\n",
      "[ 9 10  4  5  9  5]\n",
      "[ 9 10  4  5  9  5]\n"
     ]
    }
   ],
   "source": [
    "#[9, 1, 4, 5, 9, 5]\n",
    "# 0  1  2  3  4  5 : index\n",
    "#-6 -5 -4 -3 -2 -1\n",
    "#[9  1  4  5  9  5]\n",
    "# 0  1  2  3  4  5 : 열\n",
    "#-6 -5 -4 -3 -2 -1\n",
    "print(l) #리스트\n",
    "print(num1) #1차원배열\n",
    "print(l[1])\n",
    "print(num1[1])\n",
    "print(l[-5])\n",
    "print(num1[-5])\n",
    "print(l[2:4])\n",
    "print(num1[2:4])\n",
    "print(l[-4:-2])\n",
    "print(num1[-4:-2])\n",
    "print(l[0:3]) #0생략가능\n",
    "print(l[:3])\n",
    "print(num1[:3])\n",
    "print(l[3:6])\n",
    "print(l[3:]) #끝번호 생략가능\n",
    "\n",
    "#전체를 하나씩 건너뛰기\n",
    "print(l[::2])\n",
    "print(num1[::2])\n",
    "print(l[::-1])\n",
    "print(num1[::-1])\n",
    "l[1] = 10\n",
    "print(l)\n",
    "print(num1)\n",
    "num1[1] = 10\n",
    "print(num1)"
   ]
  },
  {
   "cell_type": "code",
   "execution_count": 48,
   "id": "5f150532-00b7-49dc-ae26-a946f8f083e9",
   "metadata": {},
   "outputs": [
    {
     "name": "stdout",
     "output_type": "stream",
     "text": [
      "[[4, 3, 7, 2, 4, 1], [8, 3, 8, 1, 8, 9]]\n",
      "[[4 3 7 2 4 1]\n",
      " [8 3 8 1 8 9]]\n",
      "7\n",
      "7\n",
      "7\n",
      "7\n",
      "7\n"
     ]
    }
   ],
   "source": [
    "#[[4, 3, 7, 2, 4, 1], [8, 3, 8, 1, 8, 9]]\n",
    "#        0index             1index\n",
    "#       -2index            -1index\n",
    "#  0  1  2  3  4  5    0  1  2  3  4  5 \n",
    "#[[4  3  7  2  4  1]  [8  3  8  1  8  9]]\n",
    "#         0행                1행\n",
    "print(l2)\n",
    "print(num2)\n",
    "print(l2[0][2])\n",
    "print(num2[0][2])\n",
    "print(l2[-2][-4])\n",
    "print(num2[-2][-4])\n",
    "print(num2[-2, -4])"
   ]
  },
  {
   "cell_type": "code",
   "execution_count": 51,
   "id": "6fd37678-501d-4ed9-9541-32168768a8f1",
   "metadata": {},
   "outputs": [
    {
     "name": "stdout",
     "output_type": "stream",
     "text": [
      "[[1 4 6 6]\n",
      " [0 5 8 4]\n",
      " [4 3 1 9]]\n"
     ]
    }
   ],
   "source": [
    "num3 = np.random.randint(10, size=(3,4)) #3행 4열 (집합)\n",
    "print(num3)"
   ]
  },
  {
   "cell_type": "code",
   "execution_count": 54,
   "id": "d7c22d0c-4608-40bf-890b-02000e1755d1",
   "metadata": {},
   "outputs": [
    {
     "name": "stdout",
     "output_type": "stream",
     "text": [
      "[[1, 4, 6, 6], [0, 5, 8, 4], [4, 3, 1, 9]]\n"
     ]
    }
   ],
   "source": [
    "l3 = [[1, 4, 6, 6],[0, 5, 8, 4],[4, 3, 1, 9]]\n",
    "print(l3)"
   ]
  },
  {
   "cell_type": "code",
   "execution_count": 72,
   "id": "9c0c61c5-2356-44a3-94d6-6fc99a6c0a6d",
   "metadata": {},
   "outputs": [
    {
     "name": "stdout",
     "output_type": "stream",
     "text": [
      "[0, 5, 8, 4]\n",
      "[0 5 8 4]\n",
      "[[1, 4, 6, 6], [0, 5, 8, 4]]\n",
      "[[1 4 6 6]\n",
      " [0 5 8 4]]\n",
      "[[1 4 6]\n",
      " [0 5 8]\n",
      " [4 3 1]]\n",
      "[[1, 4, 6, 6], [4, 3, 1, 9]]\n",
      "[[1 4 6 6]\n",
      " [4 3 1 9]]\n",
      "[[1 6]\n",
      " [0 8]\n",
      " [4 1]]\n",
      "[[1, 4, 6, 6]]\n",
      "[[1 4 6 6]]\n",
      "[[1 6]\n",
      " [4 1]]\n",
      "[[4, 3, 1, 9], [0, 5, 8, 4], [1, 4, 6, 6]]\n",
      "[[4 3 1 9]\n",
      " [0 5 8 4]\n",
      " [1 4 6 6]]\n",
      "[[6 6 4 1]\n",
      " [4 8 5 0]\n",
      " [9 1 3 4]]\n",
      "[[4 3 1 9]\n",
      " [0 5 8 4]\n",
      " [1 4 6 6]]\n",
      "[[9 1 3 4]\n",
      " [4 8 5 0]\n",
      " [6 6 4 1]]\n"
     ]
    }
   ],
   "source": [
    "'''\n",
    "리스트\n",
    "[[1 4 6 6]        #0index\n",
    " [0 5 8 4]        #1index\n",
    " [4 3 1 9]]       #2index\n",
    "\n",
    "배열\n",
    " [[1, 4, 6, 6],   #0행\n",
    "  [0, 5, 8, 4],   #1행\n",
    "  [4, 3, 1, 9]]   #2행\n",
    "'''\n",
    "print(l3[1]) #index\n",
    "print(num3[1]) #1행\n",
    "print(l3[:][:2])\n",
    "print(num3[:][:2])#리스트표현식 : 전체를 가지고 오는 것은 표현가능\n",
    "print(num3[:, :3])#배열표현식 : 일부만 가지고 오는 표현이 가능\n",
    "print(l3[:][::2])\n",
    "print(num3[:][::2])\n",
    "print(num3[:, ::2]) #[행, 열]\n",
    "print(l3[::2][::2]) #l3[::2]까지만 표현가능\n",
    "print(num3[::2][::2])\n",
    "print(num3[::2, ::2])\n",
    "\n",
    "print(l3[:][::-1])\n",
    "print(num3[:][::-1])\n",
    "print(num3[:, ::-1])\n",
    "print(num3[::-1, :])\n",
    "print(num3[::-1, ::-1])"
   ]
  },
  {
   "cell_type": "code",
   "execution_count": 79,
   "id": "fd168615-04a5-4b3c-8e10-6df07f6cf176",
   "metadata": {},
   "outputs": [
    {
     "name": "stdout",
     "output_type": "stream",
     "text": [
      "[[1, 4, 6, 6], [0, 5, 8, 4], [4, 3, 1, 9]]\n",
      "400\n",
      "[[ 1 40  6  6]\n",
      " [ 0  5  8  4]\n",
      " [ 4  3  1  9]]\n",
      "[[  1 400   6   6]\n",
      " [  0   5   8   4]\n",
      " [  4   3   1   9]]\n"
     ]
    }
   ],
   "source": [
    "l3[0][1]\n",
    "print(l3)\n",
    "print(num3[0][1])\n",
    "num3[0][1] = 40   #리스트 표현식(배열에서 가능하지만 사용을 자제)\n",
    "print(num3)\n",
    "num3[0][1] = 400  #배열 표현식(주로사용)\n",
    "print(num3)"
   ]
  },
  {
   "cell_type": "code",
   "execution_count": 85,
   "id": "772aee5b-7cab-49d9-be34-78e9dba0f58b",
   "metadata": {},
   "outputs": [
    {
     "name": "stdout",
     "output_type": "stream",
     "text": [
      "0\n",
      "[6 9 8 8 3 3]\n",
      "[[2 6 3 6]\n",
      " [4 0 8 2]\n",
      " [5 0 4 1]]\n",
      "[[[9 7 1 6]\n",
      "  [8 8 0 2]\n",
      "  [1 6 6 2]]\n",
      "\n",
      " [[0 5 3 7]\n",
      "  [6 7 4 2]\n",
      "  [6 6 1 8]]\n",
      "\n",
      " [[1 6 1 7]\n",
      "  [8 8 8 8]\n",
      "  [1 6 1 5]]]\n"
     ]
    }
   ],
   "source": [
    "###배열을 만드는 방법\n",
    "# 1. random을 이용하는 방법\n",
    "num = np.random.randint(10)\n",
    "print(num)\n",
    "num = np.random.randint(10, size=6) #1차원 배열\n",
    "print(num)                          #열의 집합\n",
    "num = np.random.randint(10, size=(3,4)) #행,열 : 2차원배열\n",
    "print(num)                              # 1차원 집합체 : 1차원 = 행\n",
    "num = np.random.randint(10, size=(3,3,4)) #면,행,열 : 3차원배열\n",
    "print(num)                                #2차원의 집합 : 2차원 = 면"
   ]
  },
  {
   "cell_type": "code",
   "execution_count": 86,
   "id": "c00bd129-5f86-4f5c-bb2f-5b7c249b277e",
   "metadata": {},
   "outputs": [
    {
     "name": "stdout",
     "output_type": "stream",
     "text": [
      "0\n",
      "1\n",
      "2\n",
      "3\n",
      "4\n",
      "5\n",
      "6\n",
      "7\n",
      "8\n",
      "9\n"
     ]
    }
   ],
   "source": [
    "for num in range(10): #range함수는 파이썬\n",
    "    print(num)"
   ]
  },
  {
   "cell_type": "code",
   "execution_count": 103,
   "id": "46d5949b-09d1-4105-b155-333fd85542f1",
   "metadata": {},
   "outputs": [
    {
     "name": "stdout",
     "output_type": "stream",
     "text": [
      "[0 1 2 3 4 5 6 7 8 9]\n",
      "[0 1 2 3 4 5 6 7 8]\n",
      "[[0 1 2]\n",
      " [3 4 5]\n",
      " [6 7 8]]\n",
      "[[ 0  1  2  3]\n",
      " [ 4  5  6  7]\n",
      " [ 8  9 10 11]]\n",
      "[[11 12 13 14]\n",
      " [15 16 17 18]\n",
      " [19 20 21 22]]\n",
      "2\n",
      "2\n",
      "[[1 2 3]]\n",
      "[[1]\n",
      " [2]\n",
      " [3]]\n",
      "[[11 12 13 14]\n",
      " [15 16 17 18]\n",
      " [19 20 21 22]]\n",
      "[[11 12 13]\n",
      " [14 15 16]\n",
      " [17 18 19]\n",
      " [20 21 22]]\n"
     ]
    }
   ],
   "source": [
    "# 2. arange()함수를 사용하는 방법 : 1차원\n",
    "#arange함수는 numpy에 있는 함수\n",
    "#1차원 배열을 만들어주는 함수\n",
    "print(np.arange(10)) #[0 1 2 3 4 5 6 7 8 9]\n",
    "m1 = np.arange(9)#0~8 1차원배열\n",
    "print(m1)\n",
    "m2=np.arange(9).reshape(3,3) #0~8, 9개의 숫자로 이루어진 배열\n",
    "print(m2)\n",
    "#m2=np.arange(9).reshape(3,4) #9개 숫잔데 12개를 만들어야 하니 오류발생\n",
    "m2=np.arange(12).reshape(3,4)\n",
    "print(m2)\n",
    "\n",
    "m4=np.arange(11,11+12).reshape(3,4) # 11부터 12개의 숫자\n",
    "print(m4)\n",
    "\n",
    "l4 = [1,2,3,4,5] #2\n",
    "l5 = [[1,2,3,4,5]] #2\n",
    "print(l4[1])\n",
    "print(l5[0][1])\n",
    "#행이 한개인 2차원\n",
    "m5=np.arange(1,4).reshape(1,3)\n",
    "print(m5)\n",
    "m6=np.arange(1,4).reshape(3,1)\n",
    "print(m6)\n",
    "\n",
    "#m4=np.arange(11,11+12).reshape(3,4) #3행4열\n",
    "print(m4)\n",
    "m7 = np.arange(11,23).reshape(4,3)   #4행3열\n",
    "print(m7)"
   ]
  },
  {
   "cell_type": "code",
   "execution_count": 109,
   "id": "bd2297d1-4dd2-4302-a1a0-3a46a6e5fee3",
   "metadata": {},
   "outputs": [
    {
     "name": "stdout",
     "output_type": "stream",
     "text": [
      "[1 2 3]\n",
      "[1 2 3]\n",
      "[[1 2 3]\n",
      " [4 5 6]\n",
      " [7 8 9]]\n",
      "[[1 2 3]\n",
      " [4 5 6]\n",
      " [7 8 9]]\n",
      "[[1 2 3]\n",
      " [4 5 6]\n",
      " [7 8 9]]\n",
      "[[ 1.  2.  3.]\n",
      " [ 4. nan  6.]\n",
      " [ 7.  8. nan]]\n"
     ]
    }
   ],
   "source": [
    "# 3. array()함수를 사용하는 방법 : 리스트, 튜플을 이용\n",
    "m9 = np.array([1,2,3])\n",
    "print(m9)\n",
    "m10=np.array([1,2,3])\n",
    "print(m10)\n",
    "\n",
    "#리스트를 포함한 리스트나 튜플을 포함한 튜플을 이용해서 2차원 배열을 만든다\n",
    "m11 = np.array([[1,2,3],[4,5,6],[7,8,9]])\n",
    "print(m11)\n",
    "m12 = np.array(([1,2,3],[4,5,6],[7,8,9]))\n",
    "print(m12)\n",
    "m13 = np.array(((1,2,3),(4,5,6),(7,8,9)))\n",
    "print(m13)\n",
    "m14 = np.array(((1,2,3),(4,np.NaN,6),(7,8,np.NaN)))\n",
    "print(m14)\n",
    "#np.NaN : 결측지(Not A Number) : 알수 없는 값"
   ]
  },
  {
   "cell_type": "code",
   "execution_count": 112,
   "id": "09c763c1-0fe4-4642-87fe-a9139cebb969",
   "metadata": {},
   "outputs": [
    {
     "name": "stdout",
     "output_type": "stream",
     "text": [
      "[1, 2, 3, 3, 2, 1]\n",
      "[4 4 4]\n"
     ]
    }
   ],
   "source": [
    "l1=[1,2,3]\n",
    "l2=[3,2,1]\n",
    "result = l1 + l2 # 연결\n",
    "print(result)\n",
    "\n",
    "x=np.array([1,2,3])\n",
    "y=np.array([3,2,1])\n",
    "result= x + y # 덧셈\n",
    "print(result)"
   ]
  },
  {
   "cell_type": "code",
   "execution_count": 118,
   "id": "c6ddd045-866b-4037-9043-251f513adbbb",
   "metadata": {},
   "outputs": [
    {
     "name": "stdout",
     "output_type": "stream",
     "text": [
      "[1 2 3]\n",
      "[3 2 1]\n",
      "[1 2 3 3 2 1]\n",
      "[ 1  2  3  3  2  1 99 99 99]\n",
      "[ 1  2  3  3  2  1 99 99 99]\n",
      "[ 1  2  3  3  2  1 99 99 99]\n"
     ]
    }
   ],
   "source": [
    "#배열을 확장하기\n",
    "print(x)\n",
    "print(y)\n",
    "z = np.concatenate((x,y))\n",
    "print(z)\n",
    "v = [99,99,99]\n",
    "z = np.concatenate((x,y,v)) #배열에 리스트나 튜플 배열로 연결이 된다\n",
    "print(z)\n",
    "\n",
    "#리스트나 튜플도 배열로 확장 가능\n",
    "z = np.concatenate(([1,2,3], (3,2,1), [99,99,99]))\n",
    "print(z)\n",
    "z = np.concatenate((l1,l2,v))\n",
    "print(z)"
   ]
  },
  {
   "cell_type": "code",
   "execution_count": 124,
   "id": "71267ade-0004-439f-abcf-55843c2687fc",
   "metadata": {},
   "outputs": [
    {
     "name": "stdout",
     "output_type": "stream",
     "text": [
      "[[9 8 7]\n",
      " [6 5 4]\n",
      " [3 2 1]\n",
      " [9 8 7]\n",
      " [6 5 4]\n",
      " [3 2 1]]\n",
      "[[9 8 7]\n",
      " [6 5 4]\n",
      " [3 2 1]\n",
      " [9 8 7]\n",
      " [6 5 4]\n",
      " [3 2 1]]\n",
      "[[9 8 7 9 8 7]\n",
      " [6 5 4 6 5 4]\n",
      " [3 2 1 3 2 1]]\n"
     ]
    }
   ],
   "source": [
    "#2차원 배열 확장하기\n",
    "x2 = np.array([1,2,3])\n",
    "grid = np.array([[9,8,7],\n",
    "                 [6,5,4],\n",
    "                 [3,2,1]])\n",
    "grid1 = np.array([[9,8,7],[6,5,4],[3,2,1]])\n",
    "'''\n",
    "z = np.concatenate((grid,x2), axis = 0) #열기준, x축기준\n",
    "print(z)\n",
    "concatenate를 사용하는 경우에는 차원이 같아야함\n",
    "'''\n",
    "z = np.concatenate((grid,grid1), axis = 0)\n",
    "print(z)\n",
    "z = np.concatenate((grid,grid1)) #axis = 0은 기본값임\n",
    "print(z)\n",
    "z = np.concatenate((grid,grid1), axis = 1) #axis = 1 : 행기준, y축기준\n",
    "print(z)"
   ]
  },
  {
   "cell_type": "code",
   "execution_count": 129,
   "id": "8b1b4f5a-d009-4618-aace-a3ff9af91be8",
   "metadata": {},
   "outputs": [
    {
     "name": "stdout",
     "output_type": "stream",
     "text": [
      "[1 2 3]\n",
      "[[9 8 7]\n",
      " [6 5 4]\n",
      " [3 2 1]]\n",
      "[[1 2 3]\n",
      " [9 8 7]\n",
      " [6 5 4]\n",
      " [3 2 1]]\n",
      "[[1 2]\n",
      " [9 8]\n",
      " [7 6]]\n",
      "[[9 8 7 1 2]\n",
      " [6 5 4 9 8]\n",
      " [3 2 1 7 6]]\n"
     ]
    }
   ],
   "source": [
    "print(x2)\n",
    "print(grid)\n",
    "z = np.vstack((x2,grid)) #행은다른데 열이 같아서 가능\n",
    "print(z)\n",
    "'''\n",
    "z = np.hstack((x2,grid)) #차원이달라서 안댐\n",
    "print(z)\n",
    "'''\n",
    "grid2 = np.array([[1,2],[9,8],[7,6]])\n",
    "print(grid2)\n",
    "\n",
    "'''\n",
    "[9 8 7] [1, 2]\n",
    "[6 5 4] [9, 8]\n",
    "[3 2 1] [7, 6]\n",
    "'''\n",
    "z = np.hstack((grid1,grid2)) #열은 다른데 행이같아서 가능\n",
    "print(z)"
   ]
  },
  {
   "cell_type": "code",
   "execution_count": 161,
   "id": "d68e7e75-74cd-4ab3-866e-1ce19823eaa2",
   "metadata": {},
   "outputs": [
    {
     "name": "stdout",
     "output_type": "stream",
     "text": [
      "[1 2 3]\n",
      "[4 4 4]\n",
      "[1, 2, 3, 3, 2, 1]\n"
     ]
    }
   ],
   "source": [
    "#유니버설 함수(UFuncs)\n",
    "l1 = [1,2,3]\n",
    "l2 = [3,2,1]\n",
    "x = np.array(l1)\n",
    "print(x)\n",
    "y = np.array(l2)\n",
    "result = x + y\n",
    "print(result)\n",
    "result = l1+l2\n",
    "print(result)"
   ]
  },
  {
   "cell_type": "code",
   "execution_count": 151,
   "id": "9be40aeb-81d9-4918-9cfe-45afd88ec202",
   "metadata": {},
   "outputs": [],
   "source": [
    "def add(i,j):\n",
    "    l4 = []\n",
    "    for idx in range(len(i)):\n",
    "        l4.append(i[idx] + j[idx])\n",
    "    return l4"
   ]
  },
  {
   "cell_type": "code",
   "execution_count": 152,
   "id": "786feafd-f888-4d46-95e3-c78048de5b86",
   "metadata": {},
   "outputs": [
    {
     "name": "stdout",
     "output_type": "stream",
     "text": [
      "[4, 4, 4]\n"
     ]
    }
   ],
   "source": [
    "result = add(l1,l2)\n",
    "print(result)"
   ]
  },
  {
   "cell_type": "code",
   "execution_count": 163,
   "id": "6343d749-a040-4786-b8f2-d53818f0466e",
   "metadata": {},
   "outputs": [
    {
     "name": "stdout",
     "output_type": "stream",
     "text": [
      "[4 4 4]\n",
      "[4 4 4]\n",
      "[-2  0  2]\n",
      "[-2  0  2]\n",
      "[3 4 3]\n",
      "[3 4 3]\n",
      "[0.33333333 1.         3.        ]\n",
      "[0.33333333 1.         3.        ]\n"
     ]
    }
   ],
   "source": [
    "result = x+y\n",
    "print(result)\n",
    "result = np.add(x,y)\n",
    "print(result)\n",
    "# + - * / % // **를 사용할때 자동으로 실행되는 : 유니버설 함수(UFuncs)\n",
    "# 비교연산자에 대한 유니버셜함수도 있음\n",
    "result = x-y\n",
    "print(result)\n",
    "result = np.subtract(x,y)\n",
    "print(result)\n",
    "result = x*y\n",
    "print(result)\n",
    "result = np.multiply(x,y)\n",
    "print(result)\n",
    "result = x/y\n",
    "print(result)\n",
    "result = np.divide(x,y)\n",
    "print(result)"
   ]
  },
  {
   "cell_type": "code",
   "execution_count": 167,
   "id": "a10475e4-05a9-453e-aa85-a98755ab5434",
   "metadata": {},
   "outputs": [
    {
     "name": "stdout",
     "output_type": "stream",
     "text": [
      "[1 2 3]\n",
      "[3 2 1]\n",
      "[6 7 8]\n",
      "[[1]\n",
      " [2]\n",
      " [3]]\n",
      "[[2 3 4]\n",
      " [3 4 5]\n",
      " [4 5 6]]\n",
      "[[9 8 7]\n",
      " [6 5 4]\n",
      " [3 2 1]]\n",
      "[[14 13 12]\n",
      " [11 10  9]\n",
      " [ 8  7  6]]\n"
     ]
    }
   ],
   "source": [
    "#브로드캐스팅\n",
    "print(x)\n",
    "print(y)\n",
    "#배열을 연산하기 위해서는 창둰이 같아야함\n",
    "z = x + 5 #1차원배열 + 정수 : [1 2 3] + [5 5 5] : 정수가 3열짜리 1차원 배열이 되어야 한다\n",
    "print(z)\n",
    "k = np.array([[1],[2],[3]])\n",
    "print(k)\n",
    "\n",
    "z = x + k\n",
    "print(z)\n",
    "\n",
    "print(grid)\n",
    "z = grid + 5\n",
    "print(z)"
   ]
  },
  {
   "cell_type": "code",
   "execution_count": 172,
   "id": "34a40fd1-a858-4f28-b2fc-96e6ce05d9ec",
   "metadata": {},
   "outputs": [
    {
     "name": "stdout",
     "output_type": "stream",
     "text": [
      "[0. 0. 0.]\n",
      "[[0. 0. 0.]\n",
      " [0. 0. 0.]\n",
      " [0. 0. 0.]]\n",
      "[1. 1. 1.]\n",
      "[[1. 1. 1.]\n",
      " [1. 1. 1.]\n",
      " [1. 1. 1.]]\n"
     ]
    }
   ],
   "source": [
    "#넘파이함수\n",
    "#제로행렬\n",
    "m = np.zeros(3)\n",
    "print(m)\n",
    "m = np.zeros((3,3))\n",
    "print(m)\n",
    "#원(1)행렬\n",
    "m = np.ones(3)\n",
    "print(m)\n",
    "m = np.ones((3,3))\n",
    "print(m)"
   ]
  },
  {
   "cell_type": "code",
   "execution_count": 182,
   "id": "a0bef124-4188-4924-a378-259b239e9f49",
   "metadata": {},
   "outputs": [
    {
     "name": "stdout",
     "output_type": "stream",
     "text": [
      "6\n",
      "1\n",
      "21\n",
      "[2 1 0 1 0 0]\n",
      "4\n",
      "4\n",
      "4\n",
      "21\n",
      "2\n",
      "2\n",
      "0\n",
      "0\n"
     ]
    }
   ],
   "source": [
    "#집계함수\n",
    "l = [1,2,3,4,5,6]\n",
    "print(max(l)) #내장함수\n",
    "print(min(l))\n",
    "print(sum(l))\n",
    "\n",
    "m = np.random.randint(3, size=6)\n",
    "print(m)\n",
    "print(sum(m))\n",
    "print(np.sum(m))\n",
    "print(m.sum())\n",
    "print(np.sum(l))\n",
    "\n",
    "print(m.max())\n",
    "print(np.max(m))\n",
    "print(m.min())\n",
    "print(np.min(m))"
   ]
  },
  {
   "cell_type": "code",
   "execution_count": 188,
   "id": "0350ed02-6e2b-421d-b630-602323c361b0",
   "metadata": {},
   "outputs": [
    {
     "name": "stdout",
     "output_type": "stream",
     "text": [
      "[[0.19258767 0.85842702 0.78358282]\n",
      " [0.88531216 0.98399099 0.68224312]\n",
      " [0.79544402 0.27412265 0.27151212]\n",
      " [0.88941747 0.10836941 0.6347771 ]]\n",
      "[2.76276131 2.22491007 2.37211516]\n",
      "7.3597865359542345\n",
      "7.3597865359542345\n",
      "0.9839909882852043\n",
      "0.9839909882852043\n",
      "0.10836940748567592\n",
      "0.10836940748567592\n"
     ]
    }
   ],
   "source": [
    "m = np.random.random((4,3)) # 0~1사이의 값\n",
    "print(m)\n",
    "print(sum(m)) #열의 합계\n",
    "print(np.sum(m)) #집계 합\n",
    "print(m.sum())\n",
    "print(np.max(m)) #집계 최대값\n",
    "print(m.max())\n",
    "print(np.min(m)) #집계 최소값\n",
    "print(m.min())"
   ]
  }
 ],
 "metadata": {
  "kernelspec": {
   "display_name": "Python 3 (ipykernel)",
   "language": "python",
   "name": "python3"
  },
  "language_info": {
   "codemirror_mode": {
    "name": "ipython",
    "version": 3
   },
   "file_extension": ".py",
   "mimetype": "text/x-python",
   "name": "python",
   "nbconvert_exporter": "python",
   "pygments_lexer": "ipython3",
   "version": "3.12.1"
  }
 },
 "nbformat": 4,
 "nbformat_minor": 5
}
